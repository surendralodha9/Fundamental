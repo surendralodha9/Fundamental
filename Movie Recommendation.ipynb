{
  "nbformat": 4,
  "nbformat_minor": 0,
  "metadata": {
    "colab": {
      "provenance": [],
      "toc_visible": true,
      "authorship_tag": "ABX9TyNcW9ESuS0UCLu81paOmdlR",
      "include_colab_link": true
    },
    "kernelspec": {
      "name": "python3",
      "display_name": "Python 3"
    },
    "language_info": {
      "name": "python"
    }
  },
  "cells": [
    {
      "cell_type": "markdown",
      "metadata": {
        "id": "view-in-github",
        "colab_type": "text"
      },
      "source": [
        "<a href=\"https://colab.research.google.com/github/surendralodha9/Fundamental/blob/main/Movie%20Recommendation.ipynb\" target=\"_parent\"><img src=\"https://colab.research.google.com/assets/colab-badge.svg\" alt=\"Open In Colab\"/></a>"
      ]
    },
    {
      "cell_type": "markdown",
      "source": [
        "# **Movie Recommendation System**"
      ],
      "metadata": {
        "id": "LFQ0ucdBdiZj"
      }
    },
    {
      "cell_type": "markdown",
      "source": [
        "# **Import Library**"
      ],
      "metadata": {
        "id": "xyOt2OoqfAxX"
      }
    },
    {
      "cell_type": "code",
      "execution_count": 2,
      "metadata": {
        "id": "tSvaviQYqIER"
      },
      "outputs": [],
      "source": [
        "import pandas as pd\n"
      ]
    },
    {
      "cell_type": "code",
      "source": [
        "import numpy as np\n"
      ],
      "metadata": {
        "id": "112uGDBxexWG"
      },
      "execution_count": 3,
      "outputs": []
    },
    {
      "cell_type": "markdown",
      "source": [
        "# **Import Data**"
      ],
      "metadata": {
        "id": "BVY4SgGNfYCe"
      }
    },
    {
      "cell_type": "code",
      "source": [
        "df = pd.read_csv(r'https://github.com/YBI-Foundation/Dataset/raw/refs/heads/main/Movies%20Recommendation.csv')"
      ],
      "metadata": {
        "id": "7JApJdTOfkEl"
      },
      "execution_count": 6,
      "outputs": []
    },
    {
      "cell_type": "code",
      "source": [
        "df.head()"
      ],
      "metadata": {
        "colab": {
          "base_uri": "https://localhost:8080/",
          "height": 672
        },
        "id": "Foio8PLRmrYG",
        "outputId": "cc614e9a-f379-45a3-b711-3bd706d65387"
      },
      "execution_count": 7,
      "outputs": [
        {
          "output_type": "execute_result",
          "data": {
            "text/plain": [
              "   Movie_ID      Movie_Title                       Movie_Genre Movie_Language  \\\n",
              "0         1       Four Rooms                      Crime Comedy             en   \n",
              "1         2        Star Wars  Adventure Action Science Fiction             en   \n",
              "2         3     Finding Nemo                  Animation Family             en   \n",
              "3         4     Forrest Gump              Comedy Drama Romance             en   \n",
              "4         5  American Beauty                             Drama             en   \n",
              "\n",
              "   Movie_Budget  Movie_Popularity Movie_Release_Date  Movie_Revenue  \\\n",
              "0       4000000         22.876230         09-12-1995        4300000   \n",
              "1      11000000        126.393695         25-05-1977      775398007   \n",
              "2      94000000         85.688789         30-05-2003      940335536   \n",
              "3      55000000        138.133331         06-07-1994      677945399   \n",
              "4      15000000         80.878605         15-09-1999      356296601   \n",
              "\n",
              "   Movie_Runtime  Movie_Vote  ...  \\\n",
              "0           98.0         6.5  ...   \n",
              "1          121.0         8.1  ...   \n",
              "2          100.0         7.6  ...   \n",
              "3          142.0         8.2  ...   \n",
              "4          122.0         7.9  ...   \n",
              "\n",
              "                                      Movie_Homepage  \\\n",
              "0                                                NaN   \n",
              "1  http://www.starwars.com/films/star-wars-episod...   \n",
              "2              http://movies.disney.com/finding-nemo   \n",
              "3                                                NaN   \n",
              "4                      http://www.dreamworks.com/ab/   \n",
              "\n",
              "                                      Movie_Keywords  \\\n",
              "0          hotel new year's eve witch bet hotel room   \n",
              "1        android galaxy hermit death star lightsaber   \n",
              "2  father son relationship harbor underwater fish...   \n",
              "3  vietnam veteran hippie mentally disabled runni...   \n",
              "4  male nudity female nudity adultery midlife cri...   \n",
              "\n",
              "                                      Movie_Overview  \\\n",
              "0  It's Ted the Bellhop's first night on the job....   \n",
              "1  Princess Leia is captured and held hostage by ...   \n",
              "2  Nemo, an adventurous young clownfish, is unexp...   \n",
              "3  A man with a low IQ has accomplished great thi...   \n",
              "4  Lester Burnham, a depressed suburban father in...   \n",
              "\n",
              "                              Movie_Production_House  \\\n",
              "0  [{\"name\": \"Miramax Films\", \"id\": 14}, {\"name\":...   \n",
              "1  [{\"name\": \"Lucasfilm\", \"id\": 1}, {\"name\": \"Twe...   \n",
              "2     [{\"name\": \"Pixar Animation Studios\", \"id\": 3}]   \n",
              "3          [{\"name\": \"Paramount Pictures\", \"id\": 4}]   \n",
              "4  [{\"name\": \"DreamWorks SKG\", \"id\": 27}, {\"name\"...   \n",
              "\n",
              "                            Movie_Production_Country  \\\n",
              "0  [{\"iso_3166_1\": \"US\", \"name\": \"United States o...   \n",
              "1  [{\"iso_3166_1\": \"US\", \"name\": \"United States o...   \n",
              "2  [{\"iso_3166_1\": \"US\", \"name\": \"United States o...   \n",
              "3  [{\"iso_3166_1\": \"US\", \"name\": \"United States o...   \n",
              "4  [{\"iso_3166_1\": \"US\", \"name\": \"United States o...   \n",
              "\n",
              "                      Movie_Spoken_Language  \\\n",
              "0  [{\"iso_639_1\": \"en\", \"name\": \"English\"}]   \n",
              "1  [{\"iso_639_1\": \"en\", \"name\": \"English\"}]   \n",
              "2  [{\"iso_639_1\": \"en\", \"name\": \"English\"}]   \n",
              "3  [{\"iso_639_1\": \"en\", \"name\": \"English\"}]   \n",
              "4  [{\"iso_639_1\": \"en\", \"name\": \"English\"}]   \n",
              "\n",
              "                                       Movie_Tagline  \\\n",
              "0  Twelve outrageous guests. Four scandalous requ...   \n",
              "1       A long time ago in a galaxy far, far away...   \n",
              "2  There are 3.7 trillion fish in the ocean, they...   \n",
              "3  The world will never be the same, once you've ...   \n",
              "4                                       Look closer.   \n",
              "\n",
              "                                          Movie_Cast  \\\n",
              "0  Tim Roth Antonio Banderas Jennifer Beals Madon...   \n",
              "1  Mark Hamill Harrison Ford Carrie Fisher Peter ...   \n",
              "2  Albert Brooks Ellen DeGeneres Alexander Gould ...   \n",
              "3  Tom Hanks Robin Wright Gary Sinise Mykelti Wil...   \n",
              "4  Kevin Spacey Annette Bening Thora Birch Wes Be...   \n",
              "\n",
              "                                          Movie_Crew   Movie_Director  \n",
              "0  [{'name': 'Allison Anders', 'gender': 1, 'depa...   Allison Anders  \n",
              "1  [{'name': 'George Lucas', 'gender': 2, 'depart...     George Lucas  \n",
              "2  [{'name': 'Andrew Stanton', 'gender': 2, 'depa...   Andrew Stanton  \n",
              "3  [{'name': 'Alan Silvestri', 'gender': 2, 'depa...  Robert Zemeckis  \n",
              "4  [{'name': 'Thomas Newman', 'gender': 2, 'depar...       Sam Mendes  \n",
              "\n",
              "[5 rows x 21 columns]"
            ],
            "text/html": [
              "\n",
              "  <div id=\"df-e98eb6d1-5deb-4a65-92d8-c3bc0ff322e3\" class=\"colab-df-container\">\n",
              "    <div>\n",
              "<style scoped>\n",
              "    .dataframe tbody tr th:only-of-type {\n",
              "        vertical-align: middle;\n",
              "    }\n",
              "\n",
              "    .dataframe tbody tr th {\n",
              "        vertical-align: top;\n",
              "    }\n",
              "\n",
              "    .dataframe thead th {\n",
              "        text-align: right;\n",
              "    }\n",
              "</style>\n",
              "<table border=\"1\" class=\"dataframe\">\n",
              "  <thead>\n",
              "    <tr style=\"text-align: right;\">\n",
              "      <th></th>\n",
              "      <th>Movie_ID</th>\n",
              "      <th>Movie_Title</th>\n",
              "      <th>Movie_Genre</th>\n",
              "      <th>Movie_Language</th>\n",
              "      <th>Movie_Budget</th>\n",
              "      <th>Movie_Popularity</th>\n",
              "      <th>Movie_Release_Date</th>\n",
              "      <th>Movie_Revenue</th>\n",
              "      <th>Movie_Runtime</th>\n",
              "      <th>Movie_Vote</th>\n",
              "      <th>...</th>\n",
              "      <th>Movie_Homepage</th>\n",
              "      <th>Movie_Keywords</th>\n",
              "      <th>Movie_Overview</th>\n",
              "      <th>Movie_Production_House</th>\n",
              "      <th>Movie_Production_Country</th>\n",
              "      <th>Movie_Spoken_Language</th>\n",
              "      <th>Movie_Tagline</th>\n",
              "      <th>Movie_Cast</th>\n",
              "      <th>Movie_Crew</th>\n",
              "      <th>Movie_Director</th>\n",
              "    </tr>\n",
              "  </thead>\n",
              "  <tbody>\n",
              "    <tr>\n",
              "      <th>0</th>\n",
              "      <td>1</td>\n",
              "      <td>Four Rooms</td>\n",
              "      <td>Crime Comedy</td>\n",
              "      <td>en</td>\n",
              "      <td>4000000</td>\n",
              "      <td>22.876230</td>\n",
              "      <td>09-12-1995</td>\n",
              "      <td>4300000</td>\n",
              "      <td>98.0</td>\n",
              "      <td>6.5</td>\n",
              "      <td>...</td>\n",
              "      <td>NaN</td>\n",
              "      <td>hotel new year's eve witch bet hotel room</td>\n",
              "      <td>It's Ted the Bellhop's first night on the job....</td>\n",
              "      <td>[{\"name\": \"Miramax Films\", \"id\": 14}, {\"name\":...</td>\n",
              "      <td>[{\"iso_3166_1\": \"US\", \"name\": \"United States o...</td>\n",
              "      <td>[{\"iso_639_1\": \"en\", \"name\": \"English\"}]</td>\n",
              "      <td>Twelve outrageous guests. Four scandalous requ...</td>\n",
              "      <td>Tim Roth Antonio Banderas Jennifer Beals Madon...</td>\n",
              "      <td>[{'name': 'Allison Anders', 'gender': 1, 'depa...</td>\n",
              "      <td>Allison Anders</td>\n",
              "    </tr>\n",
              "    <tr>\n",
              "      <th>1</th>\n",
              "      <td>2</td>\n",
              "      <td>Star Wars</td>\n",
              "      <td>Adventure Action Science Fiction</td>\n",
              "      <td>en</td>\n",
              "      <td>11000000</td>\n",
              "      <td>126.393695</td>\n",
              "      <td>25-05-1977</td>\n",
              "      <td>775398007</td>\n",
              "      <td>121.0</td>\n",
              "      <td>8.1</td>\n",
              "      <td>...</td>\n",
              "      <td>http://www.starwars.com/films/star-wars-episod...</td>\n",
              "      <td>android galaxy hermit death star lightsaber</td>\n",
              "      <td>Princess Leia is captured and held hostage by ...</td>\n",
              "      <td>[{\"name\": \"Lucasfilm\", \"id\": 1}, {\"name\": \"Twe...</td>\n",
              "      <td>[{\"iso_3166_1\": \"US\", \"name\": \"United States o...</td>\n",
              "      <td>[{\"iso_639_1\": \"en\", \"name\": \"English\"}]</td>\n",
              "      <td>A long time ago in a galaxy far, far away...</td>\n",
              "      <td>Mark Hamill Harrison Ford Carrie Fisher Peter ...</td>\n",
              "      <td>[{'name': 'George Lucas', 'gender': 2, 'depart...</td>\n",
              "      <td>George Lucas</td>\n",
              "    </tr>\n",
              "    <tr>\n",
              "      <th>2</th>\n",
              "      <td>3</td>\n",
              "      <td>Finding Nemo</td>\n",
              "      <td>Animation Family</td>\n",
              "      <td>en</td>\n",
              "      <td>94000000</td>\n",
              "      <td>85.688789</td>\n",
              "      <td>30-05-2003</td>\n",
              "      <td>940335536</td>\n",
              "      <td>100.0</td>\n",
              "      <td>7.6</td>\n",
              "      <td>...</td>\n",
              "      <td>http://movies.disney.com/finding-nemo</td>\n",
              "      <td>father son relationship harbor underwater fish...</td>\n",
              "      <td>Nemo, an adventurous young clownfish, is unexp...</td>\n",
              "      <td>[{\"name\": \"Pixar Animation Studios\", \"id\": 3}]</td>\n",
              "      <td>[{\"iso_3166_1\": \"US\", \"name\": \"United States o...</td>\n",
              "      <td>[{\"iso_639_1\": \"en\", \"name\": \"English\"}]</td>\n",
              "      <td>There are 3.7 trillion fish in the ocean, they...</td>\n",
              "      <td>Albert Brooks Ellen DeGeneres Alexander Gould ...</td>\n",
              "      <td>[{'name': 'Andrew Stanton', 'gender': 2, 'depa...</td>\n",
              "      <td>Andrew Stanton</td>\n",
              "    </tr>\n",
              "    <tr>\n",
              "      <th>3</th>\n",
              "      <td>4</td>\n",
              "      <td>Forrest Gump</td>\n",
              "      <td>Comedy Drama Romance</td>\n",
              "      <td>en</td>\n",
              "      <td>55000000</td>\n",
              "      <td>138.133331</td>\n",
              "      <td>06-07-1994</td>\n",
              "      <td>677945399</td>\n",
              "      <td>142.0</td>\n",
              "      <td>8.2</td>\n",
              "      <td>...</td>\n",
              "      <td>NaN</td>\n",
              "      <td>vietnam veteran hippie mentally disabled runni...</td>\n",
              "      <td>A man with a low IQ has accomplished great thi...</td>\n",
              "      <td>[{\"name\": \"Paramount Pictures\", \"id\": 4}]</td>\n",
              "      <td>[{\"iso_3166_1\": \"US\", \"name\": \"United States o...</td>\n",
              "      <td>[{\"iso_639_1\": \"en\", \"name\": \"English\"}]</td>\n",
              "      <td>The world will never be the same, once you've ...</td>\n",
              "      <td>Tom Hanks Robin Wright Gary Sinise Mykelti Wil...</td>\n",
              "      <td>[{'name': 'Alan Silvestri', 'gender': 2, 'depa...</td>\n",
              "      <td>Robert Zemeckis</td>\n",
              "    </tr>\n",
              "    <tr>\n",
              "      <th>4</th>\n",
              "      <td>5</td>\n",
              "      <td>American Beauty</td>\n",
              "      <td>Drama</td>\n",
              "      <td>en</td>\n",
              "      <td>15000000</td>\n",
              "      <td>80.878605</td>\n",
              "      <td>15-09-1999</td>\n",
              "      <td>356296601</td>\n",
              "      <td>122.0</td>\n",
              "      <td>7.9</td>\n",
              "      <td>...</td>\n",
              "      <td>http://www.dreamworks.com/ab/</td>\n",
              "      <td>male nudity female nudity adultery midlife cri...</td>\n",
              "      <td>Lester Burnham, a depressed suburban father in...</td>\n",
              "      <td>[{\"name\": \"DreamWorks SKG\", \"id\": 27}, {\"name\"...</td>\n",
              "      <td>[{\"iso_3166_1\": \"US\", \"name\": \"United States o...</td>\n",
              "      <td>[{\"iso_639_1\": \"en\", \"name\": \"English\"}]</td>\n",
              "      <td>Look closer.</td>\n",
              "      <td>Kevin Spacey Annette Bening Thora Birch Wes Be...</td>\n",
              "      <td>[{'name': 'Thomas Newman', 'gender': 2, 'depar...</td>\n",
              "      <td>Sam Mendes</td>\n",
              "    </tr>\n",
              "  </tbody>\n",
              "</table>\n",
              "<p>5 rows × 21 columns</p>\n",
              "</div>\n",
              "    <div class=\"colab-df-buttons\">\n",
              "\n",
              "  <div class=\"colab-df-container\">\n",
              "    <button class=\"colab-df-convert\" onclick=\"convertToInteractive('df-e98eb6d1-5deb-4a65-92d8-c3bc0ff322e3')\"\n",
              "            title=\"Convert this dataframe to an interactive table.\"\n",
              "            style=\"display:none;\">\n",
              "\n",
              "  <svg xmlns=\"http://www.w3.org/2000/svg\" height=\"24px\" viewBox=\"0 -960 960 960\">\n",
              "    <path d=\"M120-120v-720h720v720H120Zm60-500h600v-160H180v160Zm220 220h160v-160H400v160Zm0 220h160v-160H400v160ZM180-400h160v-160H180v160Zm440 0h160v-160H620v160ZM180-180h160v-160H180v160Zm440 0h160v-160H620v160Z\"/>\n",
              "  </svg>\n",
              "    </button>\n",
              "\n",
              "  <style>\n",
              "    .colab-df-container {\n",
              "      display:flex;\n",
              "      gap: 12px;\n",
              "    }\n",
              "\n",
              "    .colab-df-convert {\n",
              "      background-color: #E8F0FE;\n",
              "      border: none;\n",
              "      border-radius: 50%;\n",
              "      cursor: pointer;\n",
              "      display: none;\n",
              "      fill: #1967D2;\n",
              "      height: 32px;\n",
              "      padding: 0 0 0 0;\n",
              "      width: 32px;\n",
              "    }\n",
              "\n",
              "    .colab-df-convert:hover {\n",
              "      background-color: #E2EBFA;\n",
              "      box-shadow: 0px 1px 2px rgba(60, 64, 67, 0.3), 0px 1px 3px 1px rgba(60, 64, 67, 0.15);\n",
              "      fill: #174EA6;\n",
              "    }\n",
              "\n",
              "    .colab-df-buttons div {\n",
              "      margin-bottom: 4px;\n",
              "    }\n",
              "\n",
              "    [theme=dark] .colab-df-convert {\n",
              "      background-color: #3B4455;\n",
              "      fill: #D2E3FC;\n",
              "    }\n",
              "\n",
              "    [theme=dark] .colab-df-convert:hover {\n",
              "      background-color: #434B5C;\n",
              "      box-shadow: 0px 1px 3px 1px rgba(0, 0, 0, 0.15);\n",
              "      filter: drop-shadow(0px 1px 2px rgba(0, 0, 0, 0.3));\n",
              "      fill: #FFFFFF;\n",
              "    }\n",
              "  </style>\n",
              "\n",
              "    <script>\n",
              "      const buttonEl =\n",
              "        document.querySelector('#df-e98eb6d1-5deb-4a65-92d8-c3bc0ff322e3 button.colab-df-convert');\n",
              "      buttonEl.style.display =\n",
              "        google.colab.kernel.accessAllowed ? 'block' : 'none';\n",
              "\n",
              "      async function convertToInteractive(key) {\n",
              "        const element = document.querySelector('#df-e98eb6d1-5deb-4a65-92d8-c3bc0ff322e3');\n",
              "        const dataTable =\n",
              "          await google.colab.kernel.invokeFunction('convertToInteractive',\n",
              "                                                    [key], {});\n",
              "        if (!dataTable) return;\n",
              "\n",
              "        const docLinkHtml = 'Like what you see? Visit the ' +\n",
              "          '<a target=\"_blank\" href=https://colab.research.google.com/notebooks/data_table.ipynb>data table notebook</a>'\n",
              "          + ' to learn more about interactive tables.';\n",
              "        element.innerHTML = '';\n",
              "        dataTable['output_type'] = 'display_data';\n",
              "        await google.colab.output.renderOutput(dataTable, element);\n",
              "        const docLink = document.createElement('div');\n",
              "        docLink.innerHTML = docLinkHtml;\n",
              "        element.appendChild(docLink);\n",
              "      }\n",
              "    </script>\n",
              "  </div>\n",
              "\n",
              "\n",
              "<div id=\"df-c37309dd-d1f8-4071-9255-76caabbb13cc\">\n",
              "  <button class=\"colab-df-quickchart\" onclick=\"quickchart('df-c37309dd-d1f8-4071-9255-76caabbb13cc')\"\n",
              "            title=\"Suggest charts\"\n",
              "            style=\"display:none;\">\n",
              "\n",
              "<svg xmlns=\"http://www.w3.org/2000/svg\" height=\"24px\"viewBox=\"0 0 24 24\"\n",
              "     width=\"24px\">\n",
              "    <g>\n",
              "        <path d=\"M19 3H5c-1.1 0-2 .9-2 2v14c0 1.1.9 2 2 2h14c1.1 0 2-.9 2-2V5c0-1.1-.9-2-2-2zM9 17H7v-7h2v7zm4 0h-2V7h2v10zm4 0h-2v-4h2v4z\"/>\n",
              "    </g>\n",
              "</svg>\n",
              "  </button>\n",
              "\n",
              "<style>\n",
              "  .colab-df-quickchart {\n",
              "      --bg-color: #E8F0FE;\n",
              "      --fill-color: #1967D2;\n",
              "      --hover-bg-color: #E2EBFA;\n",
              "      --hover-fill-color: #174EA6;\n",
              "      --disabled-fill-color: #AAA;\n",
              "      --disabled-bg-color: #DDD;\n",
              "  }\n",
              "\n",
              "  [theme=dark] .colab-df-quickchart {\n",
              "      --bg-color: #3B4455;\n",
              "      --fill-color: #D2E3FC;\n",
              "      --hover-bg-color: #434B5C;\n",
              "      --hover-fill-color: #FFFFFF;\n",
              "      --disabled-bg-color: #3B4455;\n",
              "      --disabled-fill-color: #666;\n",
              "  }\n",
              "\n",
              "  .colab-df-quickchart {\n",
              "    background-color: var(--bg-color);\n",
              "    border: none;\n",
              "    border-radius: 50%;\n",
              "    cursor: pointer;\n",
              "    display: none;\n",
              "    fill: var(--fill-color);\n",
              "    height: 32px;\n",
              "    padding: 0;\n",
              "    width: 32px;\n",
              "  }\n",
              "\n",
              "  .colab-df-quickchart:hover {\n",
              "    background-color: var(--hover-bg-color);\n",
              "    box-shadow: 0 1px 2px rgba(60, 64, 67, 0.3), 0 1px 3px 1px rgba(60, 64, 67, 0.15);\n",
              "    fill: var(--button-hover-fill-color);\n",
              "  }\n",
              "\n",
              "  .colab-df-quickchart-complete:disabled,\n",
              "  .colab-df-quickchart-complete:disabled:hover {\n",
              "    background-color: var(--disabled-bg-color);\n",
              "    fill: var(--disabled-fill-color);\n",
              "    box-shadow: none;\n",
              "  }\n",
              "\n",
              "  .colab-df-spinner {\n",
              "    border: 2px solid var(--fill-color);\n",
              "    border-color: transparent;\n",
              "    border-bottom-color: var(--fill-color);\n",
              "    animation:\n",
              "      spin 1s steps(1) infinite;\n",
              "  }\n",
              "\n",
              "  @keyframes spin {\n",
              "    0% {\n",
              "      border-color: transparent;\n",
              "      border-bottom-color: var(--fill-color);\n",
              "      border-left-color: var(--fill-color);\n",
              "    }\n",
              "    20% {\n",
              "      border-color: transparent;\n",
              "      border-left-color: var(--fill-color);\n",
              "      border-top-color: var(--fill-color);\n",
              "    }\n",
              "    30% {\n",
              "      border-color: transparent;\n",
              "      border-left-color: var(--fill-color);\n",
              "      border-top-color: var(--fill-color);\n",
              "      border-right-color: var(--fill-color);\n",
              "    }\n",
              "    40% {\n",
              "      border-color: transparent;\n",
              "      border-right-color: var(--fill-color);\n",
              "      border-top-color: var(--fill-color);\n",
              "    }\n",
              "    60% {\n",
              "      border-color: transparent;\n",
              "      border-right-color: var(--fill-color);\n",
              "    }\n",
              "    80% {\n",
              "      border-color: transparent;\n",
              "      border-right-color: var(--fill-color);\n",
              "      border-bottom-color: var(--fill-color);\n",
              "    }\n",
              "    90% {\n",
              "      border-color: transparent;\n",
              "      border-bottom-color: var(--fill-color);\n",
              "    }\n",
              "  }\n",
              "</style>\n",
              "\n",
              "  <script>\n",
              "    async function quickchart(key) {\n",
              "      const quickchartButtonEl =\n",
              "        document.querySelector('#' + key + ' button');\n",
              "      quickchartButtonEl.disabled = true;  // To prevent multiple clicks.\n",
              "      quickchartButtonEl.classList.add('colab-df-spinner');\n",
              "      try {\n",
              "        const charts = await google.colab.kernel.invokeFunction(\n",
              "            'suggestCharts', [key], {});\n",
              "      } catch (error) {\n",
              "        console.error('Error during call to suggestCharts:', error);\n",
              "      }\n",
              "      quickchartButtonEl.classList.remove('colab-df-spinner');\n",
              "      quickchartButtonEl.classList.add('colab-df-quickchart-complete');\n",
              "    }\n",
              "    (() => {\n",
              "      let quickchartButtonEl =\n",
              "        document.querySelector('#df-c37309dd-d1f8-4071-9255-76caabbb13cc button');\n",
              "      quickchartButtonEl.style.display =\n",
              "        google.colab.kernel.accessAllowed ? 'block' : 'none';\n",
              "    })();\n",
              "  </script>\n",
              "</div>\n",
              "\n",
              "    </div>\n",
              "  </div>\n"
            ],
            "application/vnd.google.colaboratory.intrinsic+json": {
              "type": "dataframe",
              "variable_name": "df"
            }
          },
          "metadata": {},
          "execution_count": 7
        }
      ]
    },
    {
      "cell_type": "code",
      "source": [
        "df.info()"
      ],
      "metadata": {
        "colab": {
          "base_uri": "https://localhost:8080/"
        },
        "id": "mASmYuVSnWnc",
        "outputId": "bc17a2d5-f17f-4da2-853e-9c16d40ae953"
      },
      "execution_count": 8,
      "outputs": [
        {
          "output_type": "stream",
          "name": "stdout",
          "text": [
            "<class 'pandas.core.frame.DataFrame'>\n",
            "RangeIndex: 4760 entries, 0 to 4759\n",
            "Data columns (total 21 columns):\n",
            " #   Column                    Non-Null Count  Dtype  \n",
            "---  ------                    --------------  -----  \n",
            " 0   Movie_ID                  4760 non-null   int64  \n",
            " 1   Movie_Title               4760 non-null   object \n",
            " 2   Movie_Genre               4760 non-null   object \n",
            " 3   Movie_Language            4760 non-null   object \n",
            " 4   Movie_Budget              4760 non-null   int64  \n",
            " 5   Movie_Popularity          4760 non-null   float64\n",
            " 6   Movie_Release_Date        4760 non-null   object \n",
            " 7   Movie_Revenue             4760 non-null   int64  \n",
            " 8   Movie_Runtime             4758 non-null   float64\n",
            " 9   Movie_Vote                4760 non-null   float64\n",
            " 10  Movie_Vote_Count          4760 non-null   int64  \n",
            " 11  Movie_Homepage            1699 non-null   object \n",
            " 12  Movie_Keywords            4373 non-null   object \n",
            " 13  Movie_Overview            4757 non-null   object \n",
            " 14  Movie_Production_House    4760 non-null   object \n",
            " 15  Movie_Production_Country  4760 non-null   object \n",
            " 16  Movie_Spoken_Language     4760 non-null   object \n",
            " 17  Movie_Tagline             3942 non-null   object \n",
            " 18  Movie_Cast                4733 non-null   object \n",
            " 19  Movie_Crew                4760 non-null   object \n",
            " 20  Movie_Director            4738 non-null   object \n",
            "dtypes: float64(3), int64(4), object(14)\n",
            "memory usage: 781.1+ KB\n"
          ]
        }
      ]
    },
    {
      "cell_type": "code",
      "source": [
        "df.shape"
      ],
      "metadata": {
        "colab": {
          "base_uri": "https://localhost:8080/"
        },
        "id": "BxGuH-CYngj-",
        "outputId": "b5a198af-318b-4e80-b760-ed18e28a6bc7"
      },
      "execution_count": 9,
      "outputs": [
        {
          "output_type": "execute_result",
          "data": {
            "text/plain": [
              "(4760, 21)"
            ]
          },
          "metadata": {},
          "execution_count": 9
        }
      ]
    },
    {
      "cell_type": "code",
      "source": [
        "df.columns"
      ],
      "metadata": {
        "colab": {
          "base_uri": "https://localhost:8080/"
        },
        "id": "IA9Zxafdnock",
        "outputId": "c67d7a03-b564-42f9-f885-39720746f99c"
      },
      "execution_count": 10,
      "outputs": [
        {
          "output_type": "execute_result",
          "data": {
            "text/plain": [
              "Index(['Movie_ID', 'Movie_Title', 'Movie_Genre', 'Movie_Language',\n",
              "       'Movie_Budget', 'Movie_Popularity', 'Movie_Release_Date',\n",
              "       'Movie_Revenue', 'Movie_Runtime', 'Movie_Vote', 'Movie_Vote_Count',\n",
              "       'Movie_Homepage', 'Movie_Keywords', 'Movie_Overview',\n",
              "       'Movie_Production_House', 'Movie_Production_Country',\n",
              "       'Movie_Spoken_Language', 'Movie_Tagline', 'Movie_Cast', 'Movie_Crew',\n",
              "       'Movie_Director'],\n",
              "      dtype='object')"
            ]
          },
          "metadata": {},
          "execution_count": 10
        }
      ]
    },
    {
      "cell_type": "markdown",
      "source": [
        "# **Get Feature Selection**"
      ],
      "metadata": {
        "id": "ggnZ7zgPnwys"
      }
    },
    {
      "cell_type": "code",
      "source": [
        "df_features = df[['Movie_Genre','Movie_Keywords','Movie_Tagline','Movie_Cast','Movie_Director']].fillna('')"
      ],
      "metadata": {
        "id": "lSZhUz7rnuZy"
      },
      "execution_count": 14,
      "outputs": []
    },
    {
      "cell_type": "markdown",
      "source": [
        "selected five existing features to recommend movies.It may vary from one project to another.Like one can add vote counts,budget,language etc."
      ],
      "metadata": {
        "id": "NUtp05c0pRdH"
      }
    },
    {
      "cell_type": "code",
      "source": [
        "df_features.shape"
      ],
      "metadata": {
        "colab": {
          "base_uri": "https://localhost:8080/"
        },
        "id": "GiNjVPGnsTwI",
        "outputId": "1ddef3c1-630e-4593-e4cd-9f34c52c3f52"
      },
      "execution_count": 15,
      "outputs": [
        {
          "output_type": "execute_result",
          "data": {
            "text/plain": [
              "(4760, 5)"
            ]
          },
          "metadata": {},
          "execution_count": 15
        }
      ]
    },
    {
      "cell_type": "code",
      "source": [
        "df_features"
      ],
      "metadata": {
        "colab": {
          "base_uri": "https://localhost:8080/",
          "height": 580
        },
        "id": "foSlXdPxscjU",
        "outputId": "72b42956-9e41-4f4d-8474-e280d68442c7"
      },
      "execution_count": 16,
      "outputs": [
        {
          "output_type": "execute_result",
          "data": {
            "text/plain": [
              "                           Movie_Genre  \\\n",
              "0                         Crime Comedy   \n",
              "1     Adventure Action Science Fiction   \n",
              "2                     Animation Family   \n",
              "3                 Comedy Drama Romance   \n",
              "4                                Drama   \n",
              "...                                ...   \n",
              "4755                            Horror   \n",
              "4756               Comedy Family Drama   \n",
              "4757                    Thriller Drama   \n",
              "4758                            Family   \n",
              "4759                       Documentary   \n",
              "\n",
              "                                         Movie_Keywords  \\\n",
              "0             hotel new year's eve witch bet hotel room   \n",
              "1           android galaxy hermit death star lightsaber   \n",
              "2     father son relationship harbor underwater fish...   \n",
              "3     vietnam veteran hippie mentally disabled runni...   \n",
              "4     male nudity female nudity adultery midlife cri...   \n",
              "...                                                 ...   \n",
              "4755                                                      \n",
              "4756                                                      \n",
              "4757                     christian film sex trafficking   \n",
              "4758                                                      \n",
              "4759  music actors legendary perfomer classic hollyw...   \n",
              "\n",
              "                                          Movie_Tagline  \\\n",
              "0     Twelve outrageous guests. Four scandalous requ...   \n",
              "1          A long time ago in a galaxy far, far away...   \n",
              "2     There are 3.7 trillion fish in the ocean, they...   \n",
              "3     The world will never be the same, once you've ...   \n",
              "4                                          Look closer.   \n",
              "...                                                 ...   \n",
              "4755                The hot spot where Satan's waitin'.   \n",
              "4756           It’s better to stand out than to fit in.   \n",
              "4757           She never knew it could happen to her...   \n",
              "4758                                                      \n",
              "4759                                                      \n",
              "\n",
              "                                             Movie_Cast     Movie_Director  \n",
              "0     Tim Roth Antonio Banderas Jennifer Beals Madon...     Allison Anders  \n",
              "1     Mark Hamill Harrison Ford Carrie Fisher Peter ...       George Lucas  \n",
              "2     Albert Brooks Ellen DeGeneres Alexander Gould ...     Andrew Stanton  \n",
              "3     Tom Hanks Robin Wright Gary Sinise Mykelti Wil...    Robert Zemeckis  \n",
              "4     Kevin Spacey Annette Bening Thora Birch Wes Be...         Sam Mendes  \n",
              "...                                                 ...                ...  \n",
              "4755  Lisa Hart Carroll Michael Des Barres Paul Drak...         Pece Dingo  \n",
              "4756  Roni Akurati Brighton Sharbino Jason Lee Anjul...       Frank Lotito  \n",
              "4757  Nicole Smolen Kim Baldwin Ariana Stephens Brys...       Jaco Booyens  \n",
              "4758                                                                        \n",
              "4759                                    Tony Oppedisano  Simon Napier-Bell  \n",
              "\n",
              "[4760 rows x 5 columns]"
            ],
            "text/html": [
              "\n",
              "  <div id=\"df-8b0c56ab-d1a0-4046-b2d8-ecb3f5abaf3e\" class=\"colab-df-container\">\n",
              "    <div>\n",
              "<style scoped>\n",
              "    .dataframe tbody tr th:only-of-type {\n",
              "        vertical-align: middle;\n",
              "    }\n",
              "\n",
              "    .dataframe tbody tr th {\n",
              "        vertical-align: top;\n",
              "    }\n",
              "\n",
              "    .dataframe thead th {\n",
              "        text-align: right;\n",
              "    }\n",
              "</style>\n",
              "<table border=\"1\" class=\"dataframe\">\n",
              "  <thead>\n",
              "    <tr style=\"text-align: right;\">\n",
              "      <th></th>\n",
              "      <th>Movie_Genre</th>\n",
              "      <th>Movie_Keywords</th>\n",
              "      <th>Movie_Tagline</th>\n",
              "      <th>Movie_Cast</th>\n",
              "      <th>Movie_Director</th>\n",
              "    </tr>\n",
              "  </thead>\n",
              "  <tbody>\n",
              "    <tr>\n",
              "      <th>0</th>\n",
              "      <td>Crime Comedy</td>\n",
              "      <td>hotel new year's eve witch bet hotel room</td>\n",
              "      <td>Twelve outrageous guests. Four scandalous requ...</td>\n",
              "      <td>Tim Roth Antonio Banderas Jennifer Beals Madon...</td>\n",
              "      <td>Allison Anders</td>\n",
              "    </tr>\n",
              "    <tr>\n",
              "      <th>1</th>\n",
              "      <td>Adventure Action Science Fiction</td>\n",
              "      <td>android galaxy hermit death star lightsaber</td>\n",
              "      <td>A long time ago in a galaxy far, far away...</td>\n",
              "      <td>Mark Hamill Harrison Ford Carrie Fisher Peter ...</td>\n",
              "      <td>George Lucas</td>\n",
              "    </tr>\n",
              "    <tr>\n",
              "      <th>2</th>\n",
              "      <td>Animation Family</td>\n",
              "      <td>father son relationship harbor underwater fish...</td>\n",
              "      <td>There are 3.7 trillion fish in the ocean, they...</td>\n",
              "      <td>Albert Brooks Ellen DeGeneres Alexander Gould ...</td>\n",
              "      <td>Andrew Stanton</td>\n",
              "    </tr>\n",
              "    <tr>\n",
              "      <th>3</th>\n",
              "      <td>Comedy Drama Romance</td>\n",
              "      <td>vietnam veteran hippie mentally disabled runni...</td>\n",
              "      <td>The world will never be the same, once you've ...</td>\n",
              "      <td>Tom Hanks Robin Wright Gary Sinise Mykelti Wil...</td>\n",
              "      <td>Robert Zemeckis</td>\n",
              "    </tr>\n",
              "    <tr>\n",
              "      <th>4</th>\n",
              "      <td>Drama</td>\n",
              "      <td>male nudity female nudity adultery midlife cri...</td>\n",
              "      <td>Look closer.</td>\n",
              "      <td>Kevin Spacey Annette Bening Thora Birch Wes Be...</td>\n",
              "      <td>Sam Mendes</td>\n",
              "    </tr>\n",
              "    <tr>\n",
              "      <th>...</th>\n",
              "      <td>...</td>\n",
              "      <td>...</td>\n",
              "      <td>...</td>\n",
              "      <td>...</td>\n",
              "      <td>...</td>\n",
              "    </tr>\n",
              "    <tr>\n",
              "      <th>4755</th>\n",
              "      <td>Horror</td>\n",
              "      <td></td>\n",
              "      <td>The hot spot where Satan's waitin'.</td>\n",
              "      <td>Lisa Hart Carroll Michael Des Barres Paul Drak...</td>\n",
              "      <td>Pece Dingo</td>\n",
              "    </tr>\n",
              "    <tr>\n",
              "      <th>4756</th>\n",
              "      <td>Comedy Family Drama</td>\n",
              "      <td></td>\n",
              "      <td>It’s better to stand out than to fit in.</td>\n",
              "      <td>Roni Akurati Brighton Sharbino Jason Lee Anjul...</td>\n",
              "      <td>Frank Lotito</td>\n",
              "    </tr>\n",
              "    <tr>\n",
              "      <th>4757</th>\n",
              "      <td>Thriller Drama</td>\n",
              "      <td>christian film sex trafficking</td>\n",
              "      <td>She never knew it could happen to her...</td>\n",
              "      <td>Nicole Smolen Kim Baldwin Ariana Stephens Brys...</td>\n",
              "      <td>Jaco Booyens</td>\n",
              "    </tr>\n",
              "    <tr>\n",
              "      <th>4758</th>\n",
              "      <td>Family</td>\n",
              "      <td></td>\n",
              "      <td></td>\n",
              "      <td></td>\n",
              "      <td></td>\n",
              "    </tr>\n",
              "    <tr>\n",
              "      <th>4759</th>\n",
              "      <td>Documentary</td>\n",
              "      <td>music actors legendary perfomer classic hollyw...</td>\n",
              "      <td></td>\n",
              "      <td>Tony Oppedisano</td>\n",
              "      <td>Simon Napier-Bell</td>\n",
              "    </tr>\n",
              "  </tbody>\n",
              "</table>\n",
              "<p>4760 rows × 5 columns</p>\n",
              "</div>\n",
              "    <div class=\"colab-df-buttons\">\n",
              "\n",
              "  <div class=\"colab-df-container\">\n",
              "    <button class=\"colab-df-convert\" onclick=\"convertToInteractive('df-8b0c56ab-d1a0-4046-b2d8-ecb3f5abaf3e')\"\n",
              "            title=\"Convert this dataframe to an interactive table.\"\n",
              "            style=\"display:none;\">\n",
              "\n",
              "  <svg xmlns=\"http://www.w3.org/2000/svg\" height=\"24px\" viewBox=\"0 -960 960 960\">\n",
              "    <path d=\"M120-120v-720h720v720H120Zm60-500h600v-160H180v160Zm220 220h160v-160H400v160Zm0 220h160v-160H400v160ZM180-400h160v-160H180v160Zm440 0h160v-160H620v160ZM180-180h160v-160H180v160Zm440 0h160v-160H620v160Z\"/>\n",
              "  </svg>\n",
              "    </button>\n",
              "\n",
              "  <style>\n",
              "    .colab-df-container {\n",
              "      display:flex;\n",
              "      gap: 12px;\n",
              "    }\n",
              "\n",
              "    .colab-df-convert {\n",
              "      background-color: #E8F0FE;\n",
              "      border: none;\n",
              "      border-radius: 50%;\n",
              "      cursor: pointer;\n",
              "      display: none;\n",
              "      fill: #1967D2;\n",
              "      height: 32px;\n",
              "      padding: 0 0 0 0;\n",
              "      width: 32px;\n",
              "    }\n",
              "\n",
              "    .colab-df-convert:hover {\n",
              "      background-color: #E2EBFA;\n",
              "      box-shadow: 0px 1px 2px rgba(60, 64, 67, 0.3), 0px 1px 3px 1px rgba(60, 64, 67, 0.15);\n",
              "      fill: #174EA6;\n",
              "    }\n",
              "\n",
              "    .colab-df-buttons div {\n",
              "      margin-bottom: 4px;\n",
              "    }\n",
              "\n",
              "    [theme=dark] .colab-df-convert {\n",
              "      background-color: #3B4455;\n",
              "      fill: #D2E3FC;\n",
              "    }\n",
              "\n",
              "    [theme=dark] .colab-df-convert:hover {\n",
              "      background-color: #434B5C;\n",
              "      box-shadow: 0px 1px 3px 1px rgba(0, 0, 0, 0.15);\n",
              "      filter: drop-shadow(0px 1px 2px rgba(0, 0, 0, 0.3));\n",
              "      fill: #FFFFFF;\n",
              "    }\n",
              "  </style>\n",
              "\n",
              "    <script>\n",
              "      const buttonEl =\n",
              "        document.querySelector('#df-8b0c56ab-d1a0-4046-b2d8-ecb3f5abaf3e button.colab-df-convert');\n",
              "      buttonEl.style.display =\n",
              "        google.colab.kernel.accessAllowed ? 'block' : 'none';\n",
              "\n",
              "      async function convertToInteractive(key) {\n",
              "        const element = document.querySelector('#df-8b0c56ab-d1a0-4046-b2d8-ecb3f5abaf3e');\n",
              "        const dataTable =\n",
              "          await google.colab.kernel.invokeFunction('convertToInteractive',\n",
              "                                                    [key], {});\n",
              "        if (!dataTable) return;\n",
              "\n",
              "        const docLinkHtml = 'Like what you see? Visit the ' +\n",
              "          '<a target=\"_blank\" href=https://colab.research.google.com/notebooks/data_table.ipynb>data table notebook</a>'\n",
              "          + ' to learn more about interactive tables.';\n",
              "        element.innerHTML = '';\n",
              "        dataTable['output_type'] = 'display_data';\n",
              "        await google.colab.output.renderOutput(dataTable, element);\n",
              "        const docLink = document.createElement('div');\n",
              "        docLink.innerHTML = docLinkHtml;\n",
              "        element.appendChild(docLink);\n",
              "      }\n",
              "    </script>\n",
              "  </div>\n",
              "\n",
              "\n",
              "<div id=\"df-47c626c1-36f4-4f1b-afbf-c19dd70d436c\">\n",
              "  <button class=\"colab-df-quickchart\" onclick=\"quickchart('df-47c626c1-36f4-4f1b-afbf-c19dd70d436c')\"\n",
              "            title=\"Suggest charts\"\n",
              "            style=\"display:none;\">\n",
              "\n",
              "<svg xmlns=\"http://www.w3.org/2000/svg\" height=\"24px\"viewBox=\"0 0 24 24\"\n",
              "     width=\"24px\">\n",
              "    <g>\n",
              "        <path d=\"M19 3H5c-1.1 0-2 .9-2 2v14c0 1.1.9 2 2 2h14c1.1 0 2-.9 2-2V5c0-1.1-.9-2-2-2zM9 17H7v-7h2v7zm4 0h-2V7h2v10zm4 0h-2v-4h2v4z\"/>\n",
              "    </g>\n",
              "</svg>\n",
              "  </button>\n",
              "\n",
              "<style>\n",
              "  .colab-df-quickchart {\n",
              "      --bg-color: #E8F0FE;\n",
              "      --fill-color: #1967D2;\n",
              "      --hover-bg-color: #E2EBFA;\n",
              "      --hover-fill-color: #174EA6;\n",
              "      --disabled-fill-color: #AAA;\n",
              "      --disabled-bg-color: #DDD;\n",
              "  }\n",
              "\n",
              "  [theme=dark] .colab-df-quickchart {\n",
              "      --bg-color: #3B4455;\n",
              "      --fill-color: #D2E3FC;\n",
              "      --hover-bg-color: #434B5C;\n",
              "      --hover-fill-color: #FFFFFF;\n",
              "      --disabled-bg-color: #3B4455;\n",
              "      --disabled-fill-color: #666;\n",
              "  }\n",
              "\n",
              "  .colab-df-quickchart {\n",
              "    background-color: var(--bg-color);\n",
              "    border: none;\n",
              "    border-radius: 50%;\n",
              "    cursor: pointer;\n",
              "    display: none;\n",
              "    fill: var(--fill-color);\n",
              "    height: 32px;\n",
              "    padding: 0;\n",
              "    width: 32px;\n",
              "  }\n",
              "\n",
              "  .colab-df-quickchart:hover {\n",
              "    background-color: var(--hover-bg-color);\n",
              "    box-shadow: 0 1px 2px rgba(60, 64, 67, 0.3), 0 1px 3px 1px rgba(60, 64, 67, 0.15);\n",
              "    fill: var(--button-hover-fill-color);\n",
              "  }\n",
              "\n",
              "  .colab-df-quickchart-complete:disabled,\n",
              "  .colab-df-quickchart-complete:disabled:hover {\n",
              "    background-color: var(--disabled-bg-color);\n",
              "    fill: var(--disabled-fill-color);\n",
              "    box-shadow: none;\n",
              "  }\n",
              "\n",
              "  .colab-df-spinner {\n",
              "    border: 2px solid var(--fill-color);\n",
              "    border-color: transparent;\n",
              "    border-bottom-color: var(--fill-color);\n",
              "    animation:\n",
              "      spin 1s steps(1) infinite;\n",
              "  }\n",
              "\n",
              "  @keyframes spin {\n",
              "    0% {\n",
              "      border-color: transparent;\n",
              "      border-bottom-color: var(--fill-color);\n",
              "      border-left-color: var(--fill-color);\n",
              "    }\n",
              "    20% {\n",
              "      border-color: transparent;\n",
              "      border-left-color: var(--fill-color);\n",
              "      border-top-color: var(--fill-color);\n",
              "    }\n",
              "    30% {\n",
              "      border-color: transparent;\n",
              "      border-left-color: var(--fill-color);\n",
              "      border-top-color: var(--fill-color);\n",
              "      border-right-color: var(--fill-color);\n",
              "    }\n",
              "    40% {\n",
              "      border-color: transparent;\n",
              "      border-right-color: var(--fill-color);\n",
              "      border-top-color: var(--fill-color);\n",
              "    }\n",
              "    60% {\n",
              "      border-color: transparent;\n",
              "      border-right-color: var(--fill-color);\n",
              "    }\n",
              "    80% {\n",
              "      border-color: transparent;\n",
              "      border-right-color: var(--fill-color);\n",
              "      border-bottom-color: var(--fill-color);\n",
              "    }\n",
              "    90% {\n",
              "      border-color: transparent;\n",
              "      border-bottom-color: var(--fill-color);\n",
              "    }\n",
              "  }\n",
              "</style>\n",
              "\n",
              "  <script>\n",
              "    async function quickchart(key) {\n",
              "      const quickchartButtonEl =\n",
              "        document.querySelector('#' + key + ' button');\n",
              "      quickchartButtonEl.disabled = true;  // To prevent multiple clicks.\n",
              "      quickchartButtonEl.classList.add('colab-df-spinner');\n",
              "      try {\n",
              "        const charts = await google.colab.kernel.invokeFunction(\n",
              "            'suggestCharts', [key], {});\n",
              "      } catch (error) {\n",
              "        console.error('Error during call to suggestCharts:', error);\n",
              "      }\n",
              "      quickchartButtonEl.classList.remove('colab-df-spinner');\n",
              "      quickchartButtonEl.classList.add('colab-df-quickchart-complete');\n",
              "    }\n",
              "    (() => {\n",
              "      let quickchartButtonEl =\n",
              "        document.querySelector('#df-47c626c1-36f4-4f1b-afbf-c19dd70d436c button');\n",
              "      quickchartButtonEl.style.display =\n",
              "        google.colab.kernel.accessAllowed ? 'block' : 'none';\n",
              "    })();\n",
              "  </script>\n",
              "</div>\n",
              "\n",
              "  <div id=\"id_d58651cc-a3d1-4714-8aeb-f52848f705aa\">\n",
              "    <style>\n",
              "      .colab-df-generate {\n",
              "        background-color: #E8F0FE;\n",
              "        border: none;\n",
              "        border-radius: 50%;\n",
              "        cursor: pointer;\n",
              "        display: none;\n",
              "        fill: #1967D2;\n",
              "        height: 32px;\n",
              "        padding: 0 0 0 0;\n",
              "        width: 32px;\n",
              "      }\n",
              "\n",
              "      .colab-df-generate:hover {\n",
              "        background-color: #E2EBFA;\n",
              "        box-shadow: 0px 1px 2px rgba(60, 64, 67, 0.3), 0px 1px 3px 1px rgba(60, 64, 67, 0.15);\n",
              "        fill: #174EA6;\n",
              "      }\n",
              "\n",
              "      [theme=dark] .colab-df-generate {\n",
              "        background-color: #3B4455;\n",
              "        fill: #D2E3FC;\n",
              "      }\n",
              "\n",
              "      [theme=dark] .colab-df-generate:hover {\n",
              "        background-color: #434B5C;\n",
              "        box-shadow: 0px 1px 3px 1px rgba(0, 0, 0, 0.15);\n",
              "        filter: drop-shadow(0px 1px 2px rgba(0, 0, 0, 0.3));\n",
              "        fill: #FFFFFF;\n",
              "      }\n",
              "    </style>\n",
              "    <button class=\"colab-df-generate\" onclick=\"generateWithVariable('df_features')\"\n",
              "            title=\"Generate code using this dataframe.\"\n",
              "            style=\"display:none;\">\n",
              "\n",
              "  <svg xmlns=\"http://www.w3.org/2000/svg\" height=\"24px\"viewBox=\"0 0 24 24\"\n",
              "       width=\"24px\">\n",
              "    <path d=\"M7,19H8.4L18.45,9,17,7.55,7,17.6ZM5,21V16.75L18.45,3.32a2,2,0,0,1,2.83,0l1.4,1.43a1.91,1.91,0,0,1,.58,1.4,1.91,1.91,0,0,1-.58,1.4L9.25,21ZM18.45,9,17,7.55Zm-12,3A5.31,5.31,0,0,0,4.9,8.1,5.31,5.31,0,0,0,1,6.5,5.31,5.31,0,0,0,4.9,4.9,5.31,5.31,0,0,0,6.5,1,5.31,5.31,0,0,0,8.1,4.9,5.31,5.31,0,0,0,12,6.5,5.46,5.46,0,0,0,6.5,12Z\"/>\n",
              "  </svg>\n",
              "    </button>\n",
              "    <script>\n",
              "      (() => {\n",
              "      const buttonEl =\n",
              "        document.querySelector('#id_d58651cc-a3d1-4714-8aeb-f52848f705aa button.colab-df-generate');\n",
              "      buttonEl.style.display =\n",
              "        google.colab.kernel.accessAllowed ? 'block' : 'none';\n",
              "\n",
              "      buttonEl.onclick = () => {\n",
              "        google.colab.notebook.generateWithVariable('df_features');\n",
              "      }\n",
              "      })();\n",
              "    </script>\n",
              "  </div>\n",
              "\n",
              "    </div>\n",
              "  </div>\n"
            ],
            "application/vnd.google.colaboratory.intrinsic+json": {
              "type": "dataframe",
              "variable_name": "df_features",
              "summary": "{\n  \"name\": \"df_features\",\n  \"rows\": 4760,\n  \"fields\": [\n    {\n      \"column\": \"Movie_Genre\",\n      \"properties\": {\n        \"dtype\": \"category\",\n        \"num_unique_values\": 1164,\n        \"samples\": [\n          \"Family Animation Adventure\",\n          \"Adventure Science Fiction Action\",\n          \"Action Crime Drama Romance Thriller\"\n        ],\n        \"semantic_type\": \"\",\n        \"description\": \"\"\n      }\n    },\n    {\n      \"column\": \"Movie_Keywords\",\n      \"properties\": {\n        \"dtype\": \"string\",\n        \"num_unique_values\": 4203,\n        \"samples\": [\n          \"canada nazis sequel spin off ancient evil\",\n          \"sex professor wedding woman director columbia university\",\n          \"prophecy sea beach gold small town\"\n        ],\n        \"semantic_type\": \"\",\n        \"description\": \"\"\n      }\n    },\n    {\n      \"column\": \"Movie_Tagline\",\n      \"properties\": {\n        \"dtype\": \"string\",\n        \"num_unique_values\": 3928,\n        \"samples\": [\n          \"The messenger must be silenced.\",\n          \"It's not the house that's haunted.\",\n          \"The final hunt begins.\"\n        ],\n        \"semantic_type\": \"\",\n        \"description\": \"\"\n      }\n    },\n    {\n      \"column\": \"Movie_Cast\",\n      \"properties\": {\n        \"dtype\": \"string\",\n        \"num_unique_values\": 4715,\n        \"samples\": [\n          \"Robin Tunney Fairuza Balk Neve Campbell Rachel True Skeet Ulrich\",\n          \"Peter Sellers Christopher Plummer Herbert Lom Catherine Schell Peter Arne\",\n          \"John Wayne Laraine Day Cedric Hardwicke Judith Anderson Anthony Quinn\"\n        ],\n        \"semantic_type\": \"\",\n        \"description\": \"\"\n      }\n    },\n    {\n      \"column\": \"Movie_Director\",\n      \"properties\": {\n        \"dtype\": \"category\",\n        \"num_unique_values\": 2332,\n        \"samples\": [\n          \"Rob McKittrick\",\n          \"Terron R. Parsons\",\n          \"Cyrus Nowrasteh\"\n        ],\n        \"semantic_type\": \"\",\n        \"description\": \"\"\n      }\n    }\n  ]\n}"
            }
          },
          "metadata": {},
          "execution_count": 16
        }
      ]
    },
    {
      "cell_type": "code",
      "source": [
        "X = df_features['Movie_Genre']+' '+df_features['Movie_Keywords']+' '+ df_features['Movie_Tagline']+' '+ df_features['Movie_Genre']+' '+df_features['Movie_Director']"
      ],
      "metadata": {
        "id": "7rK3EZXwsyUS"
      },
      "execution_count": 20,
      "outputs": []
    },
    {
      "cell_type": "code",
      "source": [
        "X"
      ],
      "metadata": {
        "colab": {
          "base_uri": "https://localhost:8080/",
          "height": 458
        },
        "id": "yDDSPJmRwkgP",
        "outputId": "99eaf560-f9aa-46e1-baaf-4296232e8d49"
      },
      "execution_count": 23,
      "outputs": [
        {
          "output_type": "execute_result",
          "data": {
            "text/plain": [
              "0       Crime Comedy hotel new year's eve witch bet ho...\n",
              "1       Adventure Action Science Fiction android galax...\n",
              "2       Animation Family father son relationship harbo...\n",
              "3       Comedy Drama Romance vietnam veteran hippie me...\n",
              "4       Drama male nudity female nudity adultery midli...\n",
              "                              ...                        \n",
              "4755    Horror  The hot spot where Satan's waitin'. Ho...\n",
              "4756    Comedy Family Drama  It’s better to stand out ...\n",
              "4757    Thriller Drama christian film sex trafficking ...\n",
              "4758                                     Family   Family \n",
              "4759    Documentary music actors legendary perfomer cl...\n",
              "Length: 4760, dtype: object"
            ],
            "text/html": [
              "<div>\n",
              "<style scoped>\n",
              "    .dataframe tbody tr th:only-of-type {\n",
              "        vertical-align: middle;\n",
              "    }\n",
              "\n",
              "    .dataframe tbody tr th {\n",
              "        vertical-align: top;\n",
              "    }\n",
              "\n",
              "    .dataframe thead th {\n",
              "        text-align: right;\n",
              "    }\n",
              "</style>\n",
              "<table border=\"1\" class=\"dataframe\">\n",
              "  <thead>\n",
              "    <tr style=\"text-align: right;\">\n",
              "      <th></th>\n",
              "      <th>0</th>\n",
              "    </tr>\n",
              "  </thead>\n",
              "  <tbody>\n",
              "    <tr>\n",
              "      <th>0</th>\n",
              "      <td>Crime Comedy hotel new year's eve witch bet ho...</td>\n",
              "    </tr>\n",
              "    <tr>\n",
              "      <th>1</th>\n",
              "      <td>Adventure Action Science Fiction android galax...</td>\n",
              "    </tr>\n",
              "    <tr>\n",
              "      <th>2</th>\n",
              "      <td>Animation Family father son relationship harbo...</td>\n",
              "    </tr>\n",
              "    <tr>\n",
              "      <th>3</th>\n",
              "      <td>Comedy Drama Romance vietnam veteran hippie me...</td>\n",
              "    </tr>\n",
              "    <tr>\n",
              "      <th>4</th>\n",
              "      <td>Drama male nudity female nudity adultery midli...</td>\n",
              "    </tr>\n",
              "    <tr>\n",
              "      <th>...</th>\n",
              "      <td>...</td>\n",
              "    </tr>\n",
              "    <tr>\n",
              "      <th>4755</th>\n",
              "      <td>Horror  The hot spot where Satan's waitin'. Ho...</td>\n",
              "    </tr>\n",
              "    <tr>\n",
              "      <th>4756</th>\n",
              "      <td>Comedy Family Drama  It’s better to stand out ...</td>\n",
              "    </tr>\n",
              "    <tr>\n",
              "      <th>4757</th>\n",
              "      <td>Thriller Drama christian film sex trafficking ...</td>\n",
              "    </tr>\n",
              "    <tr>\n",
              "      <th>4758</th>\n",
              "      <td>Family   Family</td>\n",
              "    </tr>\n",
              "    <tr>\n",
              "      <th>4759</th>\n",
              "      <td>Documentary music actors legendary perfomer cl...</td>\n",
              "    </tr>\n",
              "  </tbody>\n",
              "</table>\n",
              "<p>4760 rows × 1 columns</p>\n",
              "</div><br><label><b>dtype:</b> object</label>"
            ]
          },
          "metadata": {},
          "execution_count": 23
        }
      ]
    },
    {
      "cell_type": "code",
      "source": [
        "X.shape"
      ],
      "metadata": {
        "colab": {
          "base_uri": "https://localhost:8080/"
        },
        "id": "EWXIxTfjxYL-",
        "outputId": "a4771252-9157-499a-ef58-6ab0872b110e"
      },
      "execution_count": 24,
      "outputs": [
        {
          "output_type": "execute_result",
          "data": {
            "text/plain": [
              "(4760,)"
            ]
          },
          "metadata": {},
          "execution_count": 24
        }
      ]
    },
    {
      "cell_type": "markdown",
      "source": [
        "# **Get Feature to Conversion to Tokens**"
      ],
      "metadata": {
        "id": "YRYhu7tAx2uF"
      }
    },
    {
      "cell_type": "code",
      "source": [
        "from sklearn.feature_extraction.text import TfidfVectorizer"
      ],
      "metadata": {
        "id": "EPZcyXLyyFpR"
      },
      "execution_count": 28,
      "outputs": []
    },
    {
      "cell_type": "code",
      "source": [
        "tfidf=TfidfVectorizer()"
      ],
      "metadata": {
        "id": "V3uZF0QvyvCt"
      },
      "execution_count": 39,
      "outputs": []
    },
    {
      "cell_type": "code",
      "source": [
        "X=tfidf.fit_transform(x)"
      ],
      "metadata": {
        "id": "SyK_p6AP0oRB"
      },
      "execution_count": 42,
      "outputs": []
    },
    {
      "cell_type": "code",
      "source": [
        "X.shape"
      ],
      "metadata": {
        "colab": {
          "base_uri": "https://localhost:8080/"
        },
        "id": "f_QQ2kzwzXMt",
        "outputId": "0439b5bc-67ac-455d-999d-4ec418faacc1"
      },
      "execution_count": 43,
      "outputs": [
        {
          "output_type": "execute_result",
          "data": {
            "text/plain": [
              "(4760, 9666)"
            ]
          },
          "metadata": {},
          "execution_count": 43
        }
      ]
    },
    {
      "cell_type": "code",
      "source": [
        "print(X)"
      ],
      "metadata": {
        "colab": {
          "base_uri": "https://localhost:8080/"
        },
        "id": "2QE7UI4y05YB",
        "outputId": "2c203e98-c145-4618-f4fa-a8b99791f9bb"
      },
      "execution_count": 44,
      "outputs": [
        {
          "output_type": "stream",
          "name": "stdout",
          "text": [
            "  (0, 2049)\t0.13877234107226116\n",
            "  (0, 1807)\t0.09684887439492793\n",
            "  (0, 4114)\t0.26898375330502855\n",
            "  (0, 5941)\t0.18872312694683369\n",
            "  (0, 9582)\t0.2789625805237341\n",
            "  (0, 2872)\t0.339788551887531\n",
            "  (0, 9478)\t0.13658269285677418\n",
            "  (0, 910)\t0.16780345973950564\n",
            "  (0, 7244)\t0.1567612526869699\n",
            "  (0, 8864)\t0.1888402975153362\n",
            "  (0, 6209)\t0.201115042826497\n",
            "  (0, 3724)\t0.201115042826497\n",
            "  (0, 3296)\t0.1567612526869699\n",
            "  (0, 7448)\t0.21085805629927049\n",
            "  (0, 7062)\t0.21085805629927049\n",
            "  (0, 374)\t0.08174995431086018\n",
            "  (0, 6133)\t0.08838557558505748\n",
            "  (0, 5106)\t0.16780345973950564\n",
            "  (0, 866)\t0.21085805629927049\n",
            "  (0, 4253)\t0.15772806243584914\n",
            "  (0, 4023)\t0.2120323305207379\n",
            "  (0, 3175)\t0.12251938976522714\n",
            "  (0, 2203)\t0.13604268748279782\n",
            "  (0, 6131)\t0.07784753769723717\n",
            "  (0, 8543)\t0.1053608789280717\n",
            "  :\t:\n",
            "  (4757, 8597)\t0.2011022383656284\n",
            "  (4757, 3948)\t0.22508974374683144\n",
            "  (4757, 4761)\t0.3090031728525546\n",
            "  (4757, 3145)\t0.16409379872012464\n",
            "  (4757, 7622)\t0.19644920594890583\n",
            "  (4757, 7673)\t0.21621279135254268\n",
            "  (4757, 3821)\t0.28612090557592007\n",
            "  (4757, 1975)\t0.2616277457576383\n",
            "  (4757, 1640)\t0.2549803102891695\n",
            "  (4757, 8727)\t0.3186257859946334\n",
            "  (4757, 4420)\t0.3784069190793096\n",
            "  (4757, 1081)\t0.3784069190793096\n",
            "  (4758, 3012)\t1.0\n",
            "  (4759, 5811)\t0.15528879478580992\n",
            "  (4759, 3313)\t0.21668038186176228\n",
            "  (4759, 2500)\t0.3578490387615898\n",
            "  (4759, 7777)\t0.24288930927488367\n",
            "  (4759, 4053)\t0.2582205489956824\n",
            "  (4759, 865)\t0.2844294764088038\n",
            "  (4759, 1692)\t0.2749269035160403\n",
            "  (4759, 4946)\t0.29715199288649047\n",
            "  (4759, 166)\t0.3164670706499605\n",
            "  (4759, 6411)\t0.3317983103707592\n",
            "  (4759, 7786)\t0.3317983103707592\n",
            "  (4759, 5864)\t0.3317983103707592\n"
          ]
        }
      ]
    },
    {
      "cell_type": "markdown",
      "source": [
        "#**Get Similarity Score using Cosin Simialarity**"
      ],
      "metadata": {
        "id": "Y0faZhg81O2d"
      }
    },
    {
      "cell_type": "markdown",
      "source": [
        "Cosin_similarity computes the L2-normalized dot product of vectors.Euclidean (L2) normalization projects the vectors onto the unit sphere, and their dot product is then the cosine of the angle between the points denoted by the vectors."
      ],
      "metadata": {
        "id": "8JLHpG1x1hdz"
      }
    },
    {
      "cell_type": "code",
      "source": [
        "from sklearn.metrics.pairwise import cosine_similarity"
      ],
      "metadata": {
        "id": "RG7r8kMl1OR_"
      },
      "execution_count": 45,
      "outputs": []
    },
    {
      "cell_type": "code",
      "source": [
        "Similarity_Score = cosine_similarity(X)"
      ],
      "metadata": {
        "id": "WhSuYbom27yG"
      },
      "execution_count": 46,
      "outputs": []
    },
    {
      "cell_type": "code",
      "source": [
        "Similarity_Score"
      ],
      "metadata": {
        "colab": {
          "base_uri": "https://localhost:8080/"
        },
        "id": "bSJsv1fa3U7Z",
        "outputId": "31652feb-c97e-4600-ce39-001b50427398"
      },
      "execution_count": 47,
      "outputs": [
        {
          "output_type": "execute_result",
          "data": {
            "text/plain": [
              "array([[1.        , 0.01617779, 0.04371226, ..., 0.        , 0.        ,\n",
              "        0.        ],\n",
              "       [0.01617779, 1.        , 0.01031735, ..., 0.        , 0.        ,\n",
              "        0.        ],\n",
              "       [0.04371226, 0.01031735, 1.        , ..., 0.        , 0.18316985,\n",
              "        0.        ],\n",
              "       ...,\n",
              "       [0.        , 0.        , 0.        , ..., 1.        , 0.        ,\n",
              "        0.        ],\n",
              "       [0.        , 0.        , 0.18316985, ..., 0.        , 1.        ,\n",
              "        0.        ],\n",
              "       [0.        , 0.        , 0.        , ..., 0.        , 0.        ,\n",
              "        1.        ]])"
            ]
          },
          "metadata": {},
          "execution_count": 47
        }
      ]
    },
    {
      "cell_type": "code",
      "source": [
        "Similarity_Score.shape"
      ],
      "metadata": {
        "colab": {
          "base_uri": "https://localhost:8080/"
        },
        "id": "_8jMXl2Y3d6j",
        "outputId": "b9e58653-5471-451a-c1ec-19992b264574"
      },
      "execution_count": 48,
      "outputs": [
        {
          "output_type": "execute_result",
          "data": {
            "text/plain": [
              "(4760, 4760)"
            ]
          },
          "metadata": {},
          "execution_count": 48
        }
      ]
    },
    {
      "cell_type": "markdown",
      "source": [
        "# **Get Moive Name as Input from User and Validate for Closest Spelling**"
      ],
      "metadata": {
        "id": "noOHlQjj3o6W"
      }
    },
    {
      "cell_type": "code",
      "source": [
        "Favourite_Movie_Name = input(' Enter your favourite movie name : ')"
      ],
      "metadata": {
        "colab": {
          "base_uri": "https://localhost:8080/"
        },
        "id": "m9HNS5vu4C8f",
        "outputId": "78bc4dec-6e97-4e82-e96f-ba456bf8a856"
      },
      "execution_count": 59,
      "outputs": [
        {
          "name": "stdout",
          "output_type": "stream",
          "text": [
            " Enter your favourite movie name : Avatar\n"
          ]
        }
      ]
    },
    {
      "cell_type": "code",
      "source": [
        "All_Movie_Title_list = df['Movie_Title'].tolist()"
      ],
      "metadata": {
        "id": "Yh2Kdr6u5Eb0"
      },
      "execution_count": 60,
      "outputs": []
    },
    {
      "cell_type": "code",
      "source": [
        "import difflib"
      ],
      "metadata": {
        "id": "Ud082Jmc5WRf"
      },
      "execution_count": 61,
      "outputs": []
    },
    {
      "cell_type": "code",
      "source": [
        "Movie_Recommendation = difflib.get_close_matches(Favourite_Movie_Name,All_Movie_Title_list)\n",
        "print(Movie_Recommendation)"
      ],
      "metadata": {
        "colab": {
          "base_uri": "https://localhost:8080/"
        },
        "id": "D9Ifo6GT5emX",
        "outputId": "1b719bbc-af6e-4b76-c3b3-79949f02f451"
      },
      "execution_count": 63,
      "outputs": [
        {
          "output_type": "stream",
          "name": "stdout",
          "text": [
            "['Avatar']\n"
          ]
        }
      ]
    },
    {
      "cell_type": "code",
      "source": [
        "Close_Match=Movie_Recommendation[0]\n",
        "print(Close_Match)"
      ],
      "metadata": {
        "colab": {
          "base_uri": "https://localhost:8080/"
        },
        "id": "OaBhKHka6QrB",
        "outputId": "07da3adb-a814-43e3-cc1b-7251757722a2"
      },
      "execution_count": 64,
      "outputs": [
        {
          "output_type": "stream",
          "name": "stdout",
          "text": [
            "Avatar\n"
          ]
        }
      ]
    },
    {
      "cell_type": "code",
      "source": [
        "Index_of_Close_Match_Movie = df[df.Movie_Title == Close_Match]['Movie_ID'].values[0]\n",
        "print(Index_of_Close_Match_Movie)"
      ],
      "metadata": {
        "colab": {
          "base_uri": "https://localhost:8080/"
        },
        "id": "t_B54O7l78UL",
        "outputId": "38378e3d-77d7-47fa-fa55-4935c6be7372"
      },
      "execution_count": 66,
      "outputs": [
        {
          "output_type": "stream",
          "name": "stdout",
          "text": [
            "2692\n"
          ]
        }
      ]
    },
    {
      "cell_type": "code",
      "source": [
        "#Getting a list of similar movies\n",
        "Recommendation_Score = list(enumerate(Similarity_Score[Index_of_Close_Match_Movie]))\n",
        "print(Recommendation_Score)"
      ],
      "metadata": {
        "colab": {
          "base_uri": "https://localhost:8080/"
        },
        "id": "ugKTExci8q6U",
        "outputId": "7efb894c-358c-469f-89aa-406c4708ab67"
      },
      "execution_count": 67,
      "outputs": [
        {
          "output_type": "stream",
          "name": "stdout",
          "text": [
            "[(0, 0.03150934308063443), (1, 0.0), (2, 0.0), (3, 0.01970533578072717), (4, 0.016925557382750943), (5, 0.055031463308799614), (6, 0.026256388490951736), (7, 0.028055576845293785), (8, 0.01720857127364171), (9, 0.00838926686957532), (10, 0.04575092424353887), (11, 0.013884561360317158), (12, 0.01604005646325838), (13, 0.018360238248960638), (14, 0.0), (15, 0.038616756433714504), (16, 0.04064561718420116), (17, 0.0), (18, 0.07632875847203767), (19, 0.015545919263678053), (20, 0.01581535868545606), (21, 0.09597553344245063), (22, 0.009189750032721255), (23, 0.014422437577146776), (24, 0.008795013903124822), (25, 0.01881520527791042), (26, 0.015321195632832357), (27, 0.026804271654092236), (28, 0.0), (29, 0.04794289044487439), (30, 0.02800155864955454), (31, 0.03687143875564605), (32, 0.022825190439142835), (33, 0.042593991294308894), (34, 0.046051817326832625), (35, 0.008312737369191827), (36, 0.0), (37, 0.0), (38, 0.048427179633682864), (39, 0.024680888949131657), (40, 0.05730326236375084), (41, 0.01631744428809226), (42, 0.04357989925903387), (43, 0.05784055117235775), (44, 0.08614348641841392), (45, 0.11500457722859031), (46, 0.04426659447596019), (47, 0.056502663192498165), (48, 0.0920744338447324), (49, 0.0), (50, 0.0380795193274313), (51, 0.08746490577362839), (52, 0.07149554839065804), (53, 0.0), (54, 0.0), (55, 0.0), (56, 0.009423722670992514), (57, 0.016902663317955872), (58, 0.0), (59, 0.0), (60, 0.01969202590379407), (61, 0.03575578671762167), (62, 0.10818994474954326), (63, 0.020939718844581297), (64, 0.0), (65, 0.04273958165098746), (66, 0.015457353868552542), (67, 0.07585038220009926), (68, 0.10349377994248396), (69, 0.03439391063746032), (70, 0.07308487770239999), (71, 0.014693618783213054), (72, 0.06258929471724432), (73, 0.0), (74, 0.01622004584383629), (75, 0.018450619199903907), (76, 0.02111346966320523), (77, 0.017974517388805233), (78, 0.02843344891861358), (79, 0.022918748354198153), (80, 0.022319798543944173), (81, 0.03876843734241147), (82, 0.02298010652727536), (83, 0.08097756277331301), (84, 0.06614570594849283), (85, 0.058252851748424865), (86, 0.03954702506387429), (87, 0.0723538389578526), (88, 0.06771106439658421), (89, 0.080982994014024), (90, 0.02436717045059533), (91, 0.0), (92, 0.01270915920558209), (93, 0.02654390165058256), (94, 0.024823479431865633), (95, 0.026156692022480624), (96, 0.04924215167810974), (97, 0.012102030056946265), (98, 0.014353382834027144), (99, 0.05750870028087787), (100, 0.0), (101, 0.0), (102, 0.028516392110514564), (103, 0.014595000167682611), (104, 0.023844530609023733), (105, 0.06160105602936311), (106, 0.0522493419493298), (107, 0.04658464751536827), (108, 0.07901725453357367), (109, 0.10397085759266632), (110, 0.0), (111, 0.04787711925242784), (112, 0.10806682351479098), (113, 0.017886910763372094), (114, 0.014241446607382474), (115, 0.015278942805049177), (116, 0.05979173295873429), (117, 0.0), (118, 0.029244095616630703), (119, 0.022277209648953952), (120, 0.060893059580969314), (121, 0.013105885063758621), (122, 0.017914424910771266), (123, 0.0786627936401815), (124, 0.08888489683697753), (125, 0.04174243321314449), (126, 0.09040951483185065), (127, 0.013857747418733093), (128, 0.02764080308205464), (129, 0.009166019102850885), (130, 0.017156910505924577), (131, 0.009192004752338272), (132, 0.013759415604102375), (133, 0.0), (134, 0.0), (135, 0.026054459866979716), (136, 0.01287069374088764), (137, 0.12567056517202962), (138, 0.06759402923558598), (139, 0.05167930484904761), (140, 0.01803234200903287), (141, 0.0), (142, 0.06344054604014342), (143, 0.044462388261268755), (144, 0.06877581080722286), (145, 0.08619395783776825), (146, 0.0), (147, 0.07236504730564321), (148, 0.057587112747792074), (149, 0.08359164860579901), (150, 0.0), (151, 0.0), (152, 0.02399631286502422), (153, 0.0), (154, 0.012690977245471028), (155, 0.006459866589873307), (156, 0.02005213242399164), (157, 0.01970212448087294), (158, 0.013574754017473637), (159, 0.020862231030350727), (160, 0.04179205290201577), (161, 0.028039488550559724), (162, 0.021999447703303296), (163, 0.0), (164, 0.02468319056255899), (165, 0.01346291142307383), (166, 0.10012484202808328), (167, 0.013768367424023714), (168, 0.007585077794838963), (169, 0.01482048907260571), (170, 0.06188137678473365), (171, 0.0), (172, 0.11640378935863749), (173, 0.06896508850321052), (174, 0.026665139838462415), (175, 0.042286111363238954), (176, 0.01787207320347007), (177, 0.008340869967913136), (178, 0.015048606747195544), (179, 0.04505596216049058), (180, 0.041347560914171674), (181, 0.05785966213447061), (182, 0.02334898075176482), (183, 0.02193610507805388), (184, 0.011718399817902963), (185, 0.00819898876487359), (186, 0.0), (187, 0.022588495315366653), (188, 0.0), (189, 0.02744025716244565), (190, 0.08221786705004247), (191, 0.022730361945520545), (192, 0.016521232674085142), (193, 0.05089198198781292), (194, 0.010936724079124278), (195, 0.012751210486915387), (196, 0.011914422848611942), (197, 0.026493753033534483), (198, 0.015049318628938244), (199, 0.08209719804761698), (200, 0.03652339412271968), (201, 0.06874729029759102), (202, 0.00923767920167653), (203, 0.03388774519610987), (204, 0.0363290558510293), (205, 0.0), (206, 0.05627826125038602), (207, 0.07552855926845965), (208, 0.055576906573708486), (209, 0.06743857859627642), (210, 0.10627382119109136), (211, 0.015630213937220753), (212, 0.033182797711833405), (213, 0.08209460643314251), (214, 0.0), (215, 0.012838857834605887), (216, 0.05641529495054323), (217, 0.03667927171019877), (218, 0.03058954894247068), (219, 0.0), (220, 0.029443054064979244), (221, 0.014289808009048407), (222, 0.04907526124179509), (223, 0.0), (224, 0.032720115346725545), (225, 0.0), (226, 0.01617596877834155), (227, 0.09339383895297033), (228, 0.009825891811177061), (229, 0.014122627639447449), (230, 0.008952122198336146), (231, 0.019647639157682344), (232, 0.010458490661845305), (233, 0.027892706205597077), (234, 0.021954892926312586), (235, 0.016174490455762233), (236, 0.07659048983485577), (237, 0.0), (238, 0.040862406567456995), (239, 0.027783784473396234), (240, 0.024364987156500297), (241, 0.02699503938146297), (242, 0.021728024518972884), (243, 0.03459966540849664), (244, 0.06319784624889516), (245, 0.0), (246, 0.015406700656074144), (247, 0.014314997947086943), (248, 0.00878908016624632), (249, 0.012391548837106072), (250, 0.029918116792888336), (251, 0.0526317875365246), (252, 0.033191564575826685), (253, 0.01761587461018903), (254, 0.06782721937657353), (255, 0.04287544606391057), (256, 0.04369795601344611), (257, 0.0), (258, 0.0), (259, 0.0), (260, 0.02531649816583256), (261, 0.049009812982045764), (262, 0.01777768586485337), (263, 0.008295271555377482), (264, 0.0), (265, 0.0), (266, 0.036335968023921014), (267, 0.01276201962757397), (268, 0.013953041179372502), (269, 0.040661541996582055), (270, 0.05686181573521792), (271, 0.03570565961265701), (272, 0.0), (273, 0.035262465987681006), (274, 0.07108400508643767), (275, 0.0), (276, 0.07373213651724467), (277, 0.05892086943734431), (278, 0.011346954014374694), (279, 0.03286453518879531), (280, 0.06401669068735834), (281, 0.06795781842664161), (282, 0.07963480701349653), (283, 0.015424549851214865), (284, 0.02528553936336408), (285, 0.04882983773887623), (286, 0.011193580562397934), (287, 0.06256387231743014), (288, 0.03195887637665705), (289, 0.021546719278435735), (290, 0.02291634024687673), (291, 0.06067911989862314), (292, 0.08479975373559939), (293, 0.011604014520658944), (294, 0.02174791683745098), (295, 0.022112788364656525), (296, 0.04986169515639367), (297, 0.0), (298, 0.0), (299, 0.0), (300, 0.008418455712959306), (301, 0.009390594535691693), (302, 0.0), (303, 0.027857034853753918), (304, 0.05816607859759931), (305, 0.026152590651748398), (306, 0.024388110027995145), (307, 0.02012355669309707), (308, 0.01691780545865118), (309, 0.019241469862817488), (310, 0.02603850457662135), (311, 0.039045655778928656), (312, 0.0), (313, 0.03785157076620146), (314, 0.021284965528469205), (315, 0.027487523384574206), (316, 0.0257586483789108), (317, 0.029114584657426057), (318, 0.016757072708447462), (319, 0.0), (320, 0.026704730426731563), (321, 0.03866035972678472), (322, 0.036970549250854384), (323, 0.022398546921701682), (324, 0.013262022504949667), (325, 0.01333212919839676), (326, 0.019797082239338154), (327, 0.03093517985752387), (328, 0.05999849930287081), (329, 0.0571767339857384), (330, 0.032711305376708716), (331, 0.0), (332, 0.030790369249529322), (333, 0.05464053556541118), (334, 0.08734538042652538), (335, 0.0), (336, 0.006759262989247387), (337, 0.0), (338, 0.0), (339, 0.0), (340, 0.009910748376285184), (341, 0.03851791201258675), (342, 0.07387652303481866), (343, 0.032899511855160865), (344, 0.0), (345, 0.06108574606459003), (346, 0.023484573869407124), (347, 0.02490101645373333), (348, 0.014238663185834832), (349, 0.01292579484183051), (350, 0.04393383788641101), (351, 0.01025753706328846), (352, 0.0), (353, 0.02223452755124742), (354, 0.03290450537813714), (355, 0.013097271851897994), (356, 0.04797936764804061), (357, 0.012409619569087158), (358, 0.0354817522478814), (359, 0.013073372454943081), (360, 0.09829896098588006), (361, 0.0), (362, 0.0), (363, 0.009360700209302056), (364, 0.03311369182286369), (365, 0.0), (366, 0.0), (367, 0.035895357121830486), (368, 0.046185568681865935), (369, 0.028238279208860656), (370, 0.07857234080577097), (371, 0.07215653013946034), (372, 0.014127541655376831), (373, 0.012420178601157236), (374, 0.031471005425604597), (375, 0.02513250651199853), (376, 0.0), (377, 0.015337479239424088), (378, 0.015962328010094364), (379, 0.0), (380, 0.03078103956862819), (381, 0.03526930784174327), (382, 0.0), (383, 0.0), (384, 0.0), (385, 0.04296835034063411), (386, 0.009066947724167536), (387, 0.04987711255127985), (388, 0.013551155426618739), (389, 0.0264256425977556), (390, 0.0), (391, 0.0), (392, 0.0), (393, 0.0), (394, 0.0), (395, 0.01633835973744792), (396, 0.06309639273670072), (397, 0.023077426015423997), (398, 0.0), (399, 0.014650436316684947), (400, 0.015057829685619226), (401, 0.0), (402, 0.03282411132053055), (403, 0.020458831153818118), (404, 0.0), (405, 0.0), (406, 0.06439309444478411), (407, 0.02493303585174004), (408, 0.05068501417461577), (409, 0.022805044330792664), (410, 0.012916404333231487), (411, 0.0), (412, 0.0707522730231049), (413, 0.009492859265712333), (414, 0.00663661710976393), (415, 0.0), (416, 0.012992280432002734), (417, 0.057371650690960875), (418, 0.06874884070815579), (419, 0.015988023761637066), (420, 0.030366862177421836), (421, 0.0), (422, 0.019367086225915223), (423, 0.0), (424, 0.031583128796216275), (425, 0.031341913764132125), (426, 0.02411964251464497), (427, 0.0), (428, 0.021752228397992974), (429, 0.09580869261423856), (430, 0.014918073089139106), (431, 0.018934042485479616), (432, 0.011725470726976052), (433, 0.04501892023335548), (434, 0.03280606714224083), (435, 0.054367180944290765), (436, 0.04510859471938233), (437, 0.037838931434703724), (438, 0.07409625386462676), (439, 0.0), (440, 0.0), (441, 0.019112451757433795), (442, 0.05676908536739507), (443, 0.04736584829128229), (444, 0.017388093600552726), (445, 0.021882008044817877), (446, 0.02574684530885739), (447, 0.08339845383492556), (448, 0.016466468468152223), (449, 0.02375295219303045), (450, 0.10287085528419079), (451, 0.02518900768219684), (452, 0.024886068469504093), (453, 0.013931583629961532), (454, 0.0), (455, 0.03706752227023346), (456, 0.014456696027609251), (457, 0.012793026903144105), (458, 0.09574157671032558), (459, 0.0), (460, 0.024622540231241524), (461, 0.023177621293987257), (462, 0.0), (463, 0.07925877806260756), (464, 0.02839910188878664), (465, 0.05223834022981902), (466, 0.016005306714981883), (467, 0.025352197328800972), (468, 0.03193773347072751), (469, 0.02178805471567084), (470, 0.05940841751065974), (471, 0.014730895795155453), (472, 0.02363964782714324), (473, 0.016155484455974235), (474, 0.04130687926850661), (475, 0.007180747415211423), (476, 0.01755862230836283), (477, 0.0071504031701619284), (478, 0.020779106583133863), (479, 0.06012214814494626), (480, 0.013447191348568203), (481, 0.08829932252721553), (482, 0.054181083454053605), (483, 0.0635683927034145), (484, 0.0), (485, 0.062001910343145984), (486, 0.0), (487, 0.01933585935590318), (488, 0.015131965770165566), (489, 0.019402296734630845), (490, 0.014393097196757866), (491, 0.0), (492, 0.0), (493, 0.043383979089135036), (494, 0.04064297985057464), (495, 0.014064806096675223), (496, 0.025795405977968783), (497, 0.018262506175004124), (498, 0.0), (499, 0.016409663659913535), (500, 0.06319417832699947), (501, 0.05612561663009899), (502, 0.08309472094439452), (503, 0.04074604836330642), (504, 0.015717783523272643), (505, 0.014285784834248656), (506, 0.0), (507, 0.013719381433795396), (508, 0.019035903101007185), (509, 0.03859382256103308), (510, 0.029312371210490337), (511, 0.03805083607269277), (512, 0.03157764408423785), (513, 0.029738935541436428), (514, 0.03343593358176905), (515, 0.06576070041571926), (516, 0.0), (517, 0.0), (518, 0.020240380299434042), (519, 0.07150353671435608), (520, 0.0), (521, 0.008238190556806711), (522, 0.013702706660989963), (523, 0.038563059208270786), (524, 0.01324768669451919), (525, 0.0), (526, 0.023842232546660166), (527, 0.02813960290588057), (528, 0.0), (529, 0.0), (530, 0.08952206918330402), (531, 0.0), (532, 0.05999542252246298), (533, 0.09924128774432654), (534, 0.08253405075738311), (535, 0.0), (536, 0.0), (537, 0.03999592656031964), (538, 0.014131732780943346), (539, 0.03681463251274479), (540, 0.06467571460202623), (541, 0.01391928095806574), (542, 0.05001175196129638), (543, 0.0819282793158457), (544, 0.05590105700258585), (545, 0.018440408836062933), (546, 0.0), (547, 0.05710586585661314), (548, 0.0), (549, 0.0), (550, 0.027571885791407225), (551, 0.033567434542849536), (552, 0.0), (553, 0.023722227732677313), (554, 0.0), (555, 0.01484068698208687), (556, 0.0), (557, 0.0), (558, 0.054734233554199256), (559, 0.025303539802842466), (560, 0.06380439995052718), (561, 0.006567750054692543), (562, 0.02853995265353594), (563, 0.034395144944470456), (564, 0.015804912365653553), (565, 0.0), (566, 0.05926831383127451), (567, 0.0), (568, 0.008910104547057122), (569, 0.0), (570, 0.0), (571, 0.02854573447831021), (572, 0.0), (573, 0.0), (574, 0.0), (575, 0.0), (576, 0.015074897146189349), (577, 0.0), (578, 0.057397460375606196), (579, 0.016392586517738665), (580, 0.04217191111730896), (581, 0.03506119029016263), (582, 0.010737200487973192), (583, 0.00836364775257014), (584, 0.08887274018266396), (585, 0.0), (586, 0.020742083448093744), (587, 0.018110817097157835), (588, 0.015135821909368595), (589, 0.012847448413637863), (590, 0.11163455581360363), (591, 0.0), (592, 0.0), (593, 0.015149756417304299), (594, 0.01280071272337823), (595, 0.03145469379465595), (596, 0.017309778161223772), (597, 0.022528707425661817), (598, 0.012968512106004897), (599, 0.0), (600, 0.009568432208603678), (601, 0.0), (602, 0.0), (603, 0.0), (604, 0.07743842887290302), (605, 0.01240637523271214), (606, 0.03935856558971731), (607, 0.011133610973664304), (608, 0.03874582961727279), (609, 0.025436112701061345), (610, 0.0), (611, 0.019757561236441096), (612, 0.015815950931252834), (613, 0.04106311336177117), (614, 0.01603839764832131), (615, 0.009518705245621298), (616, 0.019421471692334553), (617, 0.03199953677301707), (618, 0.008734801545122508), (619, 0.024536063177245795), (620, 0.03196395769232551), (621, 0.05598294375465783), (622, 0.08177390528013322), (623, 0.01613273896147058), (624, 0.0160177681711466), (625, 0.02167156739680222), (626, 0.01128942831898208), (627, 0.016820257262645702), (628, 0.14873417774566283), (629, 0.08321477529551843), (630, 0.0), (631, 0.02343689040437586), (632, 0.03562953378842249), (633, 0.02560887482957925), (634, 0.02837902492486334), (635, 0.039585791104017914), (636, 0.03986176925422284), (637, 0.04758264826689913), (638, 0.03221767398876261), (639, 0.020000711611659665), (640, 0.020066975203188966), (641, 0.01828749018865132), (642, 0.03359645325260179), (643, 0.08449534668082984), (644, 0.046108470008156585), (645, 0.013932800708312178), (646, 0.016140574403662417), (647, 0.013845831041893717), (648, 0.017393574915718014), (649, 0.0), (650, 0.0), (651, 0.023106910903075817), (652, 0.0771459450190992), (653, 0.064831682563853), (654, 0.07076403719356522), (655, 0.014321198766191407), (656, 0.0), (657, 0.04259339114122425), (658, 0.0), (659, 0.013393888596104634), (660, 0.04234627357778001), (661, 0.023252998780452023), (662, 0.0), (663, 0.0), (664, 0.04197832480982338), (665, 0.0), (666, 0.028635440123717527), (667, 0.07347836985570984), (668, 0.04822766433033197), (669, 0.08248301633983078), (670, 0.08122152145634128), (671, 0.010144088667725294), (672, 0.013756676142349319), (673, 0.0902383778609106), (674, 0.0), (675, 0.16431561558370106), (676, 0.07279344418795172), (677, 0.024235358225982606), (678, 0.07322751431481966), (679, 0.0), (680, 0.015271483249145144), (681, 0.0), (682, 0.08658366874673197), (683, 0.06335744924039063), (684, 0.04228597689967764), (685, 0.028338951122491688), (686, 0.0), (687, 0.032055519070902254), (688, 0.047297350553827014), (689, 0.06569385546033617), (690, 0.023298900828964814), (691, 0.040307015456737386), (692, 0.06179399202470941), (693, 0.01568871866417593), (694, 0.08469959765793827), (695, 0.06924625553046344), (696, 0.04075109932123887), (697, 0.02439908931173216), (698, 0.013792361030121287), (699, 0.0), (700, 0.0), (701, 0.09331449076754267), (702, 0.0), (703, 0.01160494807526148), (704, 0.0), (705, 0.02013439617328184), (706, 0.03886145088665702), (707, 0.012955171300597047), (708, 0.0), (709, 0.0), (710, 0.0487694023447673), (711, 0.0), (712, 0.011873777667016437), (713, 0.0), (714, 0.0), (715, 0.02765538171638935), (716, 0.04158506730207679), (717, 0.01682448142445635), (718, 0.0), (719, 0.038988681052917876), (720, 0.0), (721, 0.020491906108004464), (722, 0.013874658840358805), (723, 0.0207607436640095), (724, 0.0), (725, 0.0), (726, 0.0), (727, 0.03797170103180638), (728, 0.04588351652911484), (729, 0.04475661644119845), (730, 0.0), (731, 0.013410136053414146), (732, 0.043828244767606064), (733, 0.05292332085813376), (734, 0.023083586071265837), (735, 0.02481560824388358), (736, 0.0), (737, 0.027691609036616265), (738, 0.019969877607968017), (739, 0.016824695465562003), (740, 0.008718342210113382), (741, 0.0), (742, 0.046744801544179454), (743, 0.04397957745892888), (744, 0.03577509584434166), (745, 0.0350816865353449), (746, 0.0), (747, 0.0), (748, 0.009623968389649493), (749, 0.013787929183022239), (750, 0.04046442218643759), (751, 0.0), (752, 0.009396116421212339), (753, 0.08619289969945337), (754, 0.0), (755, 0.014220064827415582), (756, 0.021457276243587387), (757, 0.050825245069669414), (758, 0.009746717905516138), (759, 0.013278551821721586), (760, 0.08766515718247497), (761, 0.05303854059123706), (762, 0.0378427657299395), (763, 0.03019101077163952), (764, 0.0), (765, 0.027639783996466893), (766, 0.02616915741309047), (767, 0.015696087479224477), (768, 0.02759368834390128), (769, 0.038877615538151444), (770, 0.0), (771, 0.0), (772, 0.0), (773, 0.0), (774, 0.014842139905828595), (775, 0.034702204915976115), (776, 0.02394615476101085), (777, 0.02120831794566205), (778, 0.010146426889627618), (779, 0.05115106873072377), (780, 0.0), (781, 0.0), (782, 0.024551434578065016), (783, 0.019888651080758903), (784, 0.0), (785, 0.0), (786, 0.0), (787, 0.026596591218519428), (788, 0.035809614470056594), (789, 0.0), (790, 0.06393492574802903), (791, 0.017938544817002616), (792, 0.05710812724493505), (793, 0.026233627010301193), (794, 0.03814116015710968), (795, 0.08379670267006739), (796, 0.03423776146301768), (797, 0.0), (798, 0.013546034424398824), (799, 0.08732076528685924), (800, 0.04415237833469675), (801, 0.06010037225025239), (802, 0.028248406704070757), (803, 0.022775260145782773), (804, 0.03432185489879713), (805, 0.013352476668782894), (806, 0.055723142268571835), (807, 0.0), (808, 0.04909292061079043), (809, 0.03785209119132218), (810, 0.02397166705206671), (811, 0.02843980715239308), (812, 0.009423968204668414), (813, 0.017595042777050263), (814, 0.020761877920173435), (815, 0.012022611325182102), (816, 0.05057543412900298), (817, 0.025062721957033365), (818, 0.056147143520270906), (819, 0.0), (820, 0.0), (821, 0.00930142069847056), (822, 0.0), (823, 0.09160268336671273), (824, 0.03862949711905754), (825, 0.06493060022880556), (826, 0.018114790063543443), (827, 0.06985443316870811), (828, 0.05397212004987086), (829, 0.06989256094366592), (830, 0.060558353456422104), (831, 0.03147856867562997), (832, 0.07285073279712106), (833, 0.043754670948885514), (834, 0.009082897439695783), (835, 0.00841879434228594), (836, 0.038122317522717476), (837, 0.0), (838, 0.027207097209593314), (839, 0.0), (840, 0.0), (841, 0.0), (842, 0.0820572295497217), (843, 0.018841600960095753), (844, 0.03454079547932034), (845, 0.04215801073934075), (846, 0.0), (847, 0.029670529713001662), (848, 0.015735517425658367), (849, 0.026547229848759856), (850, 0.02312036262744556), (851, 0.04574625792710948), (852, 0.0125223671688509), (853, 0.06505094978437172), (854, 0.012756651302714271), (855, 0.03196505304075541), (856, 0.012395993043479653), (857, 0.016221083886212354), (858, 0.008613765865514735), (859, 0.0), (860, 0.10489047672134205), (861, 0.045854842519322245), (862, 0.03414840484623558), (863, 0.0391510367324006), (864, 0.08477030846854698), (865, 0.014087120960999918), (866, 0.07686787344798329), (867, 0.031989714624770335), (868, 0.03519005776714792), (869, 0.042740785519256246), (870, 0.08618712702012034), (871, 0.014402460692145439), (872, 0.014964719196704526), (873, 0.07397603947773237), (874, 0.056090136055988116), (875, 0.0717951774663366), (876, 0.09256847382253544), (877, 0.07949931645033788), (878, 0.07181918352543024), (879, 0.0811274632484492), (880, 0.03883759567743245), (881, 0.0), (882, 0.0), (883, 0.014604556796761065), (884, 0.015263845865748723), (885, 0.01327254491959238), (886, 0.013995068161076355), (887, 0.01571720913773939), (888, 0.11892763622383568), (889, 0.022170248399269888), (890, 0.014896798252046142), (891, 0.030112479941291185), (892, 0.0), (893, 0.023357963758366934), (894, 0.05660444001559538), (895, 0.029178546983692155), (896, 0.0865040365440577), (897, 0.026137623115257504), (898, 0.023355392377243146), (899, 0.029681172633067784), (900, 0.0523701891121504), (901, 0.011501836841097077), (902, 0.025661294865874106), (903, 0.01835984103643146), (904, 0.0945530842410746), (905, 0.08909350722264092), (906, 0.01771692153872852), (907, 0.01407515864716937), (908, 0.0413511690831244), (909, 0.0), (910, 0.03617986489709059), (911, 0.07540790817027775), (912, 0.0), (913, 0.0), (914, 0.0), (915, 0.05939959974264898), (916, 0.06806403653150236), (917, 0.01570473772219468), (918, 0.06577244557731762), (919, 0.029092240791298962), (920, 0.0), (921, 0.024382049181166224), (922, 0.018748803639550702), (923, 0.041450619307763004), (924, 0.02186089585531107), (925, 0.022429855067587174), (926, 0.0), (927, 0.030929315322940666), (928, 0.06751664712209911), (929, 0.037628754390640964), (930, 0.04484080560054057), (931, 0.06618792900461773), (932, 0.022550383544969983), (933, 0.023386379312067464), (934, 0.02703398163411616), (935, 0.055620772799897626), (936, 0.04053834438007345), (937, 0.09193443585642527), (938, 0.0), (939, 0.05094234082558761), (940, 0.015126216197042481), (941, 0.02292321244631193), (942, 0.09069072176181717), (943, 0.0), (944, 0.013761318252099067), (945, 0.0), (946, 0.0), (947, 0.12514275872042352), (948, 0.05118479816686504), (949, 0.0305038548274981), (950, 0.0), (951, 0.012588977079286872), (952, 0.06897048980734072), (953, 0.03119438379440908), (954, 0.0), (955, 0.0), (956, 0.0), (957, 0.0293879131983096), (958, 0.008770897181358006), (959, 0.013999516226348168), (960, 0.0), (961, 0.0), (962, 0.02216504088448846), (963, 0.046622121131578056), (964, 0.0), (965, 0.0), (966, 0.02050663336342235), (967, 0.06946161485596043), (968, 0.06481805374738098), (969, 0.014434018208239531), (970, 0.02818395706747799), (971, 0.0), (972, 0.0), (973, 0.014226185247543715), (974, 0.027309616659564526), (975, 0.01568389731108883), (976, 0.09353485771123489), (977, 0.0), (978, 0.0), (979, 0.0325599676731259), (980, 0.043575642791460575), (981, 0.03405559779220784), (982, 0.0), (983, 0.0), (984, 0.0145794999045071), (985, 0.017357863682181635), (986, 0.10223860667137129), (987, 0.015733442665747777), (988, 0.07368302071851048), (989, 0.07809948427572888), (990, 0.0), (991, 0.05074883884520052), (992, 0.028717662391151904), (993, 0.015206952303178796), (994, 0.05422239107001087), (995, 0.0), (996, 0.053545756121843285), (997, 0.022103978279924812), (998, 0.01763930519466493), (999, 0.01723138464773572), (1000, 0.07024351218143066), (1001, 0.03742282202524069), (1002, 0.013250984740293386), (1003, 0.046404145809597105), (1004, 0.013053174653479471), (1005, 0.0509994021255039), (1006, 0.026783701964395293), (1007, 0.014108421972728163), (1008, 0.0), (1009, 0.04135742841708229), (1010, 0.0), (1011, 0.0), (1012, 0.037696993809316945), (1013, 0.0), (1014, 0.010798246892640051), (1015, 0.09378678533813986), (1016, 0.0), (1017, 0.0827099538177581), (1018, 0.06265334649200151), (1019, 0.03854153195448828), (1020, 0.023196345331674542), (1021, 0.024093520918210744), (1022, 0.0), (1023, 0.08061637286754657), (1024, 0.07029051095795565), (1025, 0.0), (1026, 0.013342444674931921), (1027, 0.01322407913901875), (1028, 0.0), (1029, 0.0), (1030, 0.06954873846911122), (1031, 0.0), (1032, 0.01620328583871585), (1033, 0.04415725869806346), (1034, 0.013665055598408332), (1035, 0.08917013169660734), (1036, 0.014166322344574838), (1037, 0.02187258549926717), (1038, 0.0), (1039, 0.0), (1040, 0.016137139408389848), (1041, 0.03947284586111268), (1042, 0.01363249368700269), (1043, 0.056958370788250764), (1044, 0.03696057285794196), (1045, 0.023573702745237984), (1046, 0.03967276712864675), (1047, 0.06891147286263263), (1048, 0.02728174787826421), (1049, 0.02102079492773881), (1050, 0.04588729951049896), (1051, 0.0), (1052, 0.03910727914200891), (1053, 0.0680929174314296), (1054, 0.06434507954818085), (1055, 0.0), (1056, 0.0), (1057, 0.0), (1058, 0.09892732776708918), (1059, 0.014554613663348646), (1060, 0.012967475717580173), (1061, 0.05560317605497889), (1062, 0.0), (1063, 0.06357205523786008), (1064, 0.10294065356365895), (1065, 0.049910061313048454), (1066, 0.0), (1067, 0.0), (1068, 0.0853141072973772), (1069, 0.010113138039887394), (1070, 0.16591407046862106), (1071, 0.04639007021768367), (1072, 0.016895391450397416), (1073, 0.0), (1074, 0.07244924748628782), (1075, 0.030062613551639764), (1076, 0.03904093475432734), (1077, 0.026210767158674413), (1078, 0.04764143507509379), (1079, 0.012624370669052542), (1080, 0.012937010978754328), (1081, 0.0), (1082, 0.024428154273078), (1083, 0.04263192539801258), (1084, 0.014555745270166134), (1085, 0.0), (1086, 0.0), (1087, 0.02446983264007937), (1088, 0.011454177699674932), (1089, 0.0), (1090, 0.015454965691591428), (1091, 0.0), (1092, 0.05500655637270841), (1093, 0.0), (1094, 0.008956578851088118), (1095, 0.008483854518944773), (1096, 0.02568780955404645), (1097, 0.0), (1098, 0.013071594592880417), (1099, 0.03709377248628664), (1100, 0.015927270996446356), (1101, 0.0), (1102, 0.014997192026844526), (1103, 0.0), (1104, 0.07330140346862823), (1105, 0.0), (1106, 0.0), (1107, 0.06999148574849429), (1108, 0.0), (1109, 0.016567037982873817), (1110, 0.01428180767554584), (1111, 0.008957657927796318), (1112, 0.036774831030272966), (1113, 0.0), (1114, 0.029169745519882072), (1115, 0.06810111730653037), (1116, 0.05493805694200968), (1117, 0.014397930635298605), (1118, 0.05036046992696365), (1119, 0.08404616911078205), (1120, 0.02073618618608678), (1121, 0.020886767437760172), (1122, 0.014461155058370635), (1123, 0.03720582854203778), (1124, 0.02667331364488549), (1125, 0.024073735799985434), (1126, 0.0), (1127, 0.02679238073398464), (1128, 0.04764263674997343), (1129, 0.043120682395090315), (1130, 0.0), (1131, 0.012923955653470896), (1132, 0.0924675422191903), (1133, 0.0), (1134, 0.0667332817755957), (1135, 0.0), (1136, 0.019365863370014974), (1137, 0.05142541642037355), (1138, 0.040842979253251366), (1139, 0.0), (1140, 0.04071193175309697), (1141, 0.1005072794391762), (1142, 0.0), (1143, 0.0), (1144, 0.020960612359459476), (1145, 0.026655459872709886), (1146, 0.033903408315241856), (1147, 0.0), (1148, 0.155437708057422), (1149, 0.0), (1150, 0.026586282511836416), (1151, 0.0), (1152, 0.021199562508267402), (1153, 0.016973125081695906), (1154, 0.02145573285895913), (1155, 0.0), (1156, 0.0), (1157, 0.016672689986764064), (1158, 0.033567391547968076), (1159, 0.0), (1160, 0.05587361199847077), (1161, 0.015491438116864964), (1162, 0.09568857382902156), (1163, 0.015386938504021798), (1164, 0.0193389084957186), (1165, 0.0), (1166, 0.0), (1167, 0.03200856691456163), (1168, 0.017173941341946473), (1169, 0.017751448490644653), (1170, 0.014289093327089625), (1171, 0.0), (1172, 0.00915849212591413), (1173, 0.0835683864273752), (1174, 0.041623489059900244), (1175, 0.03437369449582096), (1176, 0.014750862281823372), (1177, 0.041294435369887916), (1178, 0.0), (1179, 0.040667772274607494), (1180, 0.0), (1181, 0.0252662803413343), (1182, 0.024806459374191417), (1183, 0.08293872736580044), (1184, 0.08831609934120456), (1185, 0.06672299376149463), (1186, 0.012384072819080287), (1187, 0.018883143827574854), (1188, 0.046272421761825965), (1189, 0.0), (1190, 0.0), (1191, 0.04042256137211711), (1192, 0.05122149263565072), (1193, 0.0), (1194, 0.04124177392563751), (1195, 0.008883611679411669), (1196, 0.0), (1197, 0.024717928325874546), (1198, 0.0), (1199, 0.01161799113295448), (1200, 0.0), (1201, 0.0), (1202, 0.051557005418390256), (1203, 0.07308892041428476), (1204, 0.015297514934159295), (1205, 0.0), (1206, 0.02139355879133281), (1207, 0.024885153369260258), (1208, 0.022042665337977135), (1209, 0.013250955707722029), (1210, 0.018014276638204686), (1211, 0.026471483584534085), (1212, 0.0), (1213, 0.03830556325913231), (1214, 0.03288624504938397), (1215, 0.04519826038634851), (1216, 0.03144392717234159), (1217, 0.011754680111175043), (1218, 0.0), (1219, 0.012106760125752177), (1220, 0.0396422943159066), (1221, 0.0), (1222, 0.0), (1223, 0.04094860138713784), (1224, 0.07937567132849326), (1225, 0.04432817702696955), (1226, 0.06987500720822098), (1227, 0.0), (1228, 0.0), (1229, 0.04103688708165939), (1230, 0.05838970193032482), (1231, 0.03987260463646427), (1232, 0.08142957176024326), (1233, 0.0), (1234, 0.057268273063186284), (1235, 0.0), (1236, 0.060119709536658884), (1237, 0.07509640640356531), (1238, 0.010151741437697096), (1239, 0.019740790595476853), (1240, 0.0), (1241, 0.030587866681062358), (1242, 0.0), (1243, 0.09216334032600135), (1244, 0.0), (1245, 0.03312956767690307), (1246, 0.0), (1247, 0.013880796225469252), (1248, 0.11456529637860371), (1249, 0.015354677292872706), (1250, 0.009491770521421571), (1251, 0.011859227722684659), (1252, 0.07351519189104003), (1253, 0.0), (1254, 0.03350384762615988), (1255, 0.04617255744887727), (1256, 0.0), (1257, 0.061931176068755686), (1258, 0.0), (1259, 0.06558567939991558), (1260, 0.045368899332687215), (1261, 0.03777734949806122), (1262, 0.037089190216680425), (1263, 0.0), (1264, 0.09210180033858456), (1265, 0.0), (1266, 0.037596300455188886), (1267, 0.009694925901459353), (1268, 0.0), (1269, 0.0), (1270, 0.04953771439335293), (1271, 0.0), (1272, 0.06445099425359528), (1273, 0.013578120375201001), (1274, 0.02517706181757409), (1275, 0.09745059850289006), (1276, 0.04812377710322903), (1277, 0.010624242355632313), (1278, 0.019574553302304325), (1279, 0.028045712364436787), (1280, 0.0283267418381906), (1281, 0.022681060482228132), (1282, 0.04517322012087278), (1283, 0.0), (1284, 0.013393011221012887), (1285, 0.0), (1286, 0.014376275104889306), (1287, 0.0), (1288, 0.0), (1289, 0.0), (1290, 0.06492218398825066), (1291, 0.0), (1292, 0.10714167048406875), (1293, 0.017523491919880927), (1294, 0.015348117092387044), (1295, 0.0), (1296, 0.0), (1297, 0.0), (1298, 0.01424965897423783), (1299, 0.0), (1300, 0.0531942731837024), (1301, 0.011839303538084562), (1302, 0.08289714750482619), (1303, 0.059348786399594206), (1304, 0.014281200493691078), (1305, 0.01104182317593574), (1306, 0.015835325757676197), (1307, 0.008335147807856528), (1308, 0.02074942822192772), (1309, 0.02132456531816548), (1310, 0.015612352374160329), (1311, 0.05086322895870956), (1312, 0.021719218378481137), (1313, 0.01430172059852663), (1314, 0.08669923127829643), (1315, 0.0), (1316, 0.008310763397239917), (1317, 0.05068119421978061), (1318, 0.01238711302444212), (1319, 0.01421738561032721), (1320, 0.09709173666931295), (1321, 0.0), (1322, 0.0), (1323, 0.0), (1324, 0.016098806119755643), (1325, 0.08801981140568213), (1326, 0.0), (1327, 0.008960332388900316), (1328, 0.0), (1329, 0.009199541166437893), (1330, 0.04210382372480301), (1331, 0.01952865039613629), (1332, 0.03187117230180697), (1333, 0.0), (1334, 0.05395215518148204), (1335, 0.0781925421654892), (1336, 0.0), (1337, 0.0783094003560284), (1338, 0.05557391731666846), (1339, 0.06023265730341493), (1340, 0.011673467814563774), (1341, 0.1011514848615087), (1342, 0.017363527949746303), (1343, 0.08185777225091584), (1344, 0.030404827651662823), (1345, 0.009409619778801441), (1346, 0.0), (1347, 0.026913794592133344), (1348, 0.055936885531411205), (1349, 0.015758022869883353), (1350, 0.017027783274974374), (1351, 0.027192151782751372), (1352, 0.01227327015784106), (1353, 0.0), (1354, 0.0), (1355, 0.014652075650750404), (1356, 0.03251058585937644), (1357, 0.013159753715949511), (1358, 0.025268586327559583), (1359, 0.030014426577121757), (1360, 0.08077094370268796), (1361, 0.021678045192951044), (1362, 0.029206824224170067), (1363, 0.03889846642944297), (1364, 0.015697057671688844), (1365, 0.033540417643027724), (1366, 0.012459998008264446), (1367, 0.05719832547001792), (1368, 0.0), (1369, 0.08529890160825497), (1370, 0.013155648148689008), (1371, 0.04677066194988595), (1372, 0.013240390726523764), (1373, 0.0), (1374, 0.009406372271198195), (1375, 0.03709870107011139), (1376, 0.017294244683434403), (1377, 0.06851881268751342), (1378, 0.014604480344479474), (1379, 0.046967849853120205), (1380, 0.02884804537814314), (1381, 0.029087221399653668), (1382, 0.02449047917461848), (1383, 0.12260531327946622), (1384, 0.043218376293328656), (1385, 0.08928774025879102), (1386, 0.028080687099921977), (1387, 0.0440110804052607), (1388, 0.021728976286144442), (1389, 0.049278080968073006), (1390, 0.0), (1391, 0.03201220209617031), (1392, 0.012849672561868843), (1393, 0.08869295013671441), (1394, 0.011981049768017445), (1395, 0.02043767416037297), (1396, 0.03733724387054679), (1397, 0.015037864054629174), (1398, 0.017514583601160018), (1399, 0.0), (1400, 0.042716654325612356), (1401, 0.021109039670055115), (1402, 0.016083647139602312), (1403, 0.03038890557266561), (1404, 0.013709535881431612), (1405, 0.03916577454894466), (1406, 0.06282753827873287), (1407, 0.03974820850465245), (1408, 0.013887979509213997), (1409, 0.01677457299980405), (1410, 0.01645111980104138), (1411, 0.015724144747388744), (1412, 0.08156219134873373), (1413, 0.048551650404627694), (1414, 0.035007506453339374), (1415, 0.015935526211877996), (1416, 0.014038719031681754), (1417, 0.06822125330955871), (1418, 0.013313997611839441), (1419, 0.06315998464615097), (1420, 0.033991480904270926), (1421, 0.03762450867042345), (1422, 0.013974922060859466), (1423, 0.013022735530103587), (1424, 0.0), (1425, 0.009809646890694674), (1426, 0.028984621985293894), (1427, 0.011354675770894293), (1428, 0.026018170371827107), (1429, 0.05399544753628038), (1430, 0.023328703424959348), (1431, 0.028650032688703427), (1432, 0.07169523773848267), (1433, 0.03643884366379457), (1434, 0.018659737754676223), (1435, 0.028272983904459863), (1436, 0.06620415667407081), (1437, 0.0), (1438, 0.054619106025337365), (1439, 0.01642682237007142), (1440, 0.05647598240279407), (1441, 0.0), (1442, 0.04636281559006405), (1443, 0.04738112484861548), (1444, 0.0), (1445, 0.023461216213389154), (1446, 0.02406264095106224), (1447, 0.0), (1448, 0.03672098189284746), (1449, 0.03555788786267814), (1450, 0.012092854588140672), (1451, 0.02628914896308843), (1452, 0.031693323664614685), (1453, 0.0069899250132193875), (1454, 0.0433235269309495), (1455, 0.06661080979798238), (1456, 0.012853554450483088), (1457, 0.0), (1458, 0.019901629804074242), (1459, 0.0), (1460, 0.0), (1461, 0.05038579168243823), (1462, 0.03957092825842319), (1463, 0.01375838005101866), (1464, 0.053327729398015764), (1465, 0.029641605619236237), (1466, 0.0), (1467, 0.0), (1468, 0.0), (1469, 0.02550302302394942), (1470, 0.0), (1471, 0.06871947277643208), (1472, 0.04106618419297372), (1473, 0.0), (1474, 0.014682782966462523), (1475, 0.025148041211394086), (1476, 0.015446094917518438), (1477, 0.020127841386571362), (1478, 0.07322920731574353), (1479, 0.016320018825052414), (1480, 0.02422839731243914), (1481, 0.07619923279222335), (1482, 0.0), (1483, 0.08129563117744815), (1484, 0.04546966330588473), (1485, 0.0), (1486, 0.010268602464291524), (1487, 0.0), (1488, 0.03634065197455644), (1489, 0.0451299270814287), (1490, 0.0), (1491, 0.0), (1492, 0.030169991768727998), (1493, 0.04662774424024041), (1494, 0.026167650952491302), (1495, 0.0), (1496, 0.0), (1497, 0.019369311112092422), (1498, 0.04574517569688477), (1499, 0.019598874805804186), (1500, 0.048985060152170315), (1501, 0.009533174725500143), (1502, 0.030069463938254642), (1503, 0.012995017982463483), (1504, 0.04431502795346107), (1505, 0.029166342005784093), (1506, 0.09591642552939098), (1507, 0.052550775764944116), (1508, 0.0), (1509, 0.05354012207890859), (1510, 0.058011345436625325), (1511, 0.0), (1512, 0.023865423795557245), (1513, 0.06185710948701972), (1514, 0.020523683399075156), (1515, 0.030179100973207834), (1516, 0.014847295478291061), (1517, 0.0), (1518, 0.015589440514403766), (1519, 0.048455298563068766), (1520, 0.0), (1521, 0.0), (1522, 0.0), (1523, 0.020742495401965003), (1524, 0.0), (1525, 0.0), (1526, 0.010869375606068005), (1527, 0.09692237596467863), (1528, 0.013176082105282493), (1529, 0.0), (1530, 0.01987620467316266), (1531, 0.029124753310223163), (1532, 0.0), (1533, 0.013910796651024895), (1534, 0.0), (1535, 0.0), (1536, 0.03982416806629313), (1537, 0.042717380715567306), (1538, 0.0212298891967402), (1539, 0.02198084730382696), (1540, 0.05036179939828035), (1541, 0.0), (1542, 0.07093174148113857), (1543, 0.013801761792155209), (1544, 0.06145107438546352), (1545, 0.0), (1546, 0.024333420146706926), (1547, 0.01686358788553827), (1548, 0.0), (1549, 0.0), (1550, 0.014574222514417371), (1551, 0.03607152930198596), (1552, 0.008944866930018619), (1553, 0.022883385324438024), (1554, 0.029261939315188654), (1555, 0.03616288665224665), (1556, 0.0), (1557, 0.0), (1558, 0.01361971412320767), (1559, 0.022013264250444437), (1560, 0.0), (1561, 0.0), (1562, 0.023682783670289153), (1563, 0.0), (1564, 0.0), (1565, 0.012813832843624884), (1566, 0.02814949056178497), (1567, 0.050096240192291294), (1568, 0.07138487726664605), (1569, 0.0), (1570, 0.015514089157763743), (1571, 0.020171999045151746), (1572, 0.0896846057974087), (1573, 0.028648692971883865), (1574, 0.014724417047304678), (1575, 0.02830712000962), (1576, 0.019506429395096562), (1577, 0.0), (1578, 0.0), (1579, 0.02325586452799537), (1580, 0.015963446825437717), (1581, 0.0), (1582, 0.05146072982889249), (1583, 0.012031818704375905), (1584, 0.0), (1585, 0.062067897567585975), (1586, 0.0), (1587, 0.026665912829924258), (1588, 0.028353184437369193), (1589, 0.0), (1590, 0.021058545395817717), (1591, 0.09058041755771261), (1592, 0.0), (1593, 0.024563036899874956), (1594, 0.016604815608153783), (1595, 0.06937960593969486), (1596, 0.0), (1597, 0.013525927214179228), (1598, 0.014451858638550448), (1599, 0.0), (1600, 0.0), (1601, 0.0), (1602, 0.0), (1603, 0.0), (1604, 0.0), (1605, 0.013233722761087384), (1606, 0.0), (1607, 0.0), (1608, 0.03324024308164316), (1609, 0.026641092585409615), (1610, 0.0), (1611, 0.0), (1612, 0.02278676570447765), (1613, 0.0), (1614, 0.026051636160066723), (1615, 0.0), (1616, 0.012071877596730618), (1617, 0.01504620149702932), (1618, 0.0), (1619, 0.030133204252542983), (1620, 0.05116150424676176), (1621, 0.08435312357189555), (1622, 0.026950175017674244), (1623, 0.0269080411360801), (1624, 0.010979172259046384), (1625, 0.015374227550033422), (1626, 0.0), (1627, 0.032376197787145775), (1628, 0.015447441859209406), (1629, 0.09105827638755024), (1630, 0.045025223976765186), (1631, 0.027015211663159396), (1632, 0.02733505381180493), (1633, 0.025547315686431118), (1634, 0.014846814629882781), (1635, 0.02794312579248834), (1636, 0.0), (1637, 0.016166122266286033), (1638, 0.0), (1639, 0.0), (1640, 0.0), (1641, 0.013968338940650311), (1642, 0.013447421087358635), (1643, 0.04256572113257989), (1644, 0.00914109218088967), (1645, 0.012732572116574916), (1646, 0.0), (1647, 0.009387816345028688), (1648, 0.05341780712537945), (1649, 0.0), (1650, 0.021919062303501234), (1651, 0.0), (1652, 0.0), (1653, 0.039349973046195745), (1654, 0.019242177250664044), (1655, 0.04441584586823409), (1656, 0.0173166286504101), (1657, 0.0), (1658, 0.02659761486833352), (1659, 0.028929146181306084), (1660, 0.01622966115385197), (1661, 0.029938992644710158), (1662, 0.03115120715535708), (1663, 0.014028938387180443), (1664, 0.008199484552467148), (1665, 0.0776078535193012), (1666, 0.013361477837975368), (1667, 0.0746868175615939), (1668, 0.0), (1669, 0.0), (1670, 0.016743096083861018), (1671, 0.0981728620478247), (1672, 0.01453167952651159), (1673, 0.0), (1674, 0.04593615371558568), (1675, 0.059796734952939745), (1676, 0.05174672082721798), (1677, 0.010404920194409938), (1678, 0.08478547596877985), (1679, 0.0), (1680, 0.07342803479737542), (1681, 0.07684891379700787), (1682, 0.031119275912059312), (1683, 0.019104026598660707), (1684, 0.008405876787566621), (1685, 0.02998009254126785), (1686, 0.0), (1687, 0.08784666922945546), (1688, 0.024672682060161016), (1689, 0.0), (1690, 0.021325978885320628), (1691, 0.011885460959387957), (1692, 0.010574394300872564), (1693, 0.013120512292269255), (1694, 0.055975179137147016), (1695, 0.007205233891258671), (1696, 0.03267683889427285), (1697, 0.0), (1698, 0.0), (1699, 0.022851232953244396), (1700, 0.0), (1701, 0.025155804447188606), (1702, 0.0), (1703, 0.01497216322797788), (1704, 0.0), (1705, 0.04135305760522308), (1706, 0.01464895490104656), (1707, 0.04724074147554569), (1708, 0.027524308093932488), (1709, 0.0), (1710, 0.02195860157042202), (1711, 0.01909038725150767), (1712, 0.03404863841856295), (1713, 0.04616274427816479), (1714, 0.01551249138195259), (1715, 0.008687947003840783), (1716, 0.09151929018982292), (1717, 0.015953703647684284), (1718, 0.010332110595356945), (1719, 0.01226363633373381), (1720, 0.0), (1721, 0.07894608533154668), (1722, 0.01573806720639175), (1723, 0.03284560087090785), (1724, 0.029980896994786878), (1725, 0.0), (1726, 0.0), (1727, 0.06046541229553167), (1728, 0.0), (1729, 0.0), (1730, 0.020588993236067502), (1731, 0.0), (1732, 0.02995081830805495), (1733, 0.016113087445298865), (1734, 0.0), (1735, 0.043386079867794296), (1736, 0.05651227926422425), (1737, 0.01117664899746423), (1738, 0.03612934025699023), (1739, 0.07505751990850193), (1740, 0.08496050866189847), (1741, 0.022109642765626245), (1742, 0.01348893971212754), (1743, 0.019159797275586275), (1744, 0.014124677079316158), (1745, 0.0), (1746, 0.008889458696840139), (1747, 0.017168074858619504), (1748, 0.01573199023239158), (1749, 0.02683215400736037), (1750, 0.040775752042486096), (1751, 0.0), (1752, 0.017367874354840926), (1753, 0.024381288841915143), (1754, 0.06272873219377714), (1755, 0.0), (1756, 0.0), (1757, 0.0), (1758, 0.0), (1759, 0.03475879682386575), (1760, 0.034380859642936114), (1761, 0.036043769847692864), (1762, 0.02168033823628375), (1763, 0.01288732514054311), (1764, 0.02031164399526366), (1765, 0.014823516592435032), (1766, 0.0), (1767, 0.0), (1768, 0.015687210195191495), (1769, 0.0), (1770, 0.010955288275578963), (1771, 0.0), (1772, 0.022622766083150853), (1773, 0.040489755929333994), (1774, 0.0631017141044448), (1775, 0.0), (1776, 0.047495377352343535), (1777, 0.0), (1778, 0.0), (1779, 0.05428010299500145), (1780, 0.00828328627254904), (1781, 0.05249098153014346), (1782, 0.012560376480566115), (1783, 0.0), (1784, 0.022613483401547875), (1785, 0.0), (1786, 0.0), (1787, 0.0177350015674235), (1788, 0.058919901447664666), (1789, 0.06110980728231964), (1790, 0.015675211701503485), (1791, 0.02821875861558375), (1792, 0.01832336782720743), (1793, 0.022175136925662274), (1794, 0.0), (1795, 0.04332064212103516), (1796, 0.06938390064377639), (1797, 0.03165214683520007), (1798, 0.02553939442261659), (1799, 0.03982854203012061), (1800, 0.0), (1801, 0.01189805500049759), (1802, 0.017626873599759438), (1803, 0.0), (1804, 0.0), (1805, 0.017975936568955467), (1806, 0.0438698050882723), (1807, 0.02621818658149154), (1808, 0.012021084965048567), (1809, 0.03557974758065861), (1810, 0.0), (1811, 0.03938615252408323), (1812, 0.039530435337088166), (1813, 0.013790414443520298), (1814, 0.013008473509665263), (1815, 0.07790857602605879), (1816, 0.03461686407802757), (1817, 0.04783057861589937), (1818, 0.00866681197914258), (1819, 0.038512688397316065), (1820, 0.0), (1821, 0.10558257550963751), (1822, 0.015204069680358444), (1823, 0.0), (1824, 0.0), (1825, 0.0), (1826, 0.01698121976224413), (1827, 0.013051208266534692), (1828, 0.011131425104749687), (1829, 0.029686841514048472), (1830, 0.011259065828688549), (1831, 0.014417497541488161), (1832, 0.07924576438374048), (1833, 0.01841460969172127), (1834, 0.0), (1835, 0.0), (1836, 0.0), (1837, 0.0), (1838, 0.045086223180887286), (1839, 0.0), (1840, 0.02263980588127235), (1841, 0.00848613236554613), (1842, 0.0), (1843, 0.042710275720874845), (1844, 0.0), (1845, 0.06190420743269432), (1846, 0.026963882799647464), (1847, 0.06886941472807617), (1848, 0.01666788661741062), (1849, 0.009158327949137273), (1850, 0.057411312015244916), (1851, 0.015962038189208803), (1852, 0.03621662579567505), (1853, 0.08990121994807954), (1854, 0.05325318032809293), (1855, 0.0), (1856, 0.0), (1857, 0.028573871290730482), (1858, 0.06428838292629555), (1859, 0.02753559116795061), (1860, 0.02446893302165978), (1861, 0.06787469765815028), (1862, 0.019400166315357844), (1863, 0.008697231281791638), (1864, 0.046237693153701534), (1865, 0.05847544878200847), (1866, 0.045405125006330566), (1867, 0.009268418790276753), (1868, 0.04479634246255988), (1869, 0.013207135782703864), (1870, 0.016589334706512415), (1871, 0.06129421592387474), (1872, 0.038195562331822225), (1873, 0.03561873303113782), (1874, 0.06450547476896043), (1875, 0.022472593099262063), (1876, 0.04942513192402047), (1877, 0.015068816418263449), (1878, 0.034225131600782735), (1879, 0.0), (1880, 0.020367965706456992), (1881, 0.02651169978632628), (1882, 0.013718912102063554), (1883, 0.0), (1884, 0.015515010644344459), (1885, 0.019116231894603212), (1886, 0.010537424653136914), (1887, 0.01768733601354897), (1888, 0.0), (1889, 0.0), (1890, 0.01682420159931963), (1891, 0.014796180396988538), (1892, 0.04526158731750944), (1893, 0.01581991803201437), (1894, 0.0), (1895, 0.01882982769419079), (1896, 0.014381652842637207), (1897, 0.05440491211753459), (1898, 0.0), (1899, 0.0), (1900, 0.04769208495348388), (1901, 0.027464112311900234), (1902, 0.04497248153360216), (1903, 0.008272333937144778), (1904, 0.028771625629215286), (1905, 0.020273843470243733), (1906, 0.022855469566193026), (1907, 0.016277700426101355), (1908, 0.00859696928236158), (1909, 0.01897439303706405), (1910, 0.021200472273584587), (1911, 0.009069616216942569), (1912, 0.0), (1913, 0.009262080553408015), (1914, 0.026572089654621243), (1915, 0.0), (1916, 0.0162650650200992), (1917, 0.0), (1918, 0.0440940943306664), (1919, 0.025686853216348865), (1920, 0.02091524916608481), (1921, 0.012336609291883613), (1922, 0.053834780304604826), (1923, 0.06765750369020027), (1924, 0.046209887659038246), (1925, 0.02120263636449942), (1926, 0.0), (1927, 0.0512824517128609), (1928, 0.0), (1929, 0.013733976612036831), (1930, 0.027533502875252313), (1931, 0.04244409241264542), (1932, 0.0), (1933, 0.02609439542878443), (1934, 0.0426831953163672), (1935, 0.03261539540118074), (1936, 0.024631026122576533), (1937, 0.08297072536318997), (1938, 0.0), (1939, 0.04052323076548495), (1940, 0.03217969356869257), (1941, 0.03560399030437664), (1942, 0.09508765965215775), (1943, 0.011747461614896603), (1944, 0.0), (1945, 0.05045193062844726), (1946, 0.015404355202519947), (1947, 0.018967676024768412), (1948, 0.011459579737431903), (1949, 0.07175535126665945), (1950, 0.01894032434253915), (1951, 0.028709864725422772), (1952, 0.028118195511957846), (1953, 0.02759570594318517), (1954, 0.013563821542779107), (1955, 0.0), (1956, 0.0), (1957, 0.016428859992565013), (1958, 0.06531824955557877), (1959, 0.01679008240426806), (1960, 0.047247685598907324), (1961, 0.0), (1962, 0.032252419073282246), (1963, 0.0), (1964, 0.036163762297822324), (1965, 0.0), (1966, 0.0), (1967, 0.07578298809103984), (1968, 0.04622035242608401), (1969, 0.01302488587451664), (1970, 0.0890322639288499), (1971, 0.04121952132853413), (1972, 0.0), (1973, 0.03525752646146267), (1974, 0.0), (1975, 0.03006840470824566), (1976, 0.03080886733450365), (1977, 0.013035105961253398), (1978, 0.0), (1979, 0.0), (1980, 0.012427590181941745), (1981, 0.03206580116394682), (1982, 0.051738454561090164), (1983, 0.07924635420420084), (1984, 0.0), (1985, 0.09475355683302158), (1986, 0.04995627795481476), (1987, 0.03915228900401412), (1988, 0.018216394521487888), (1989, 0.06091748707831192), (1990, 0.02379362365004823), (1991, 0.06737738582357064), (1992, 0.062413372337904574), (1993, 0.027472099597387233), (1994, 0.07754828158177085), (1995, 0.017911769513615637), (1996, 0.050964766465431126), (1997, 0.11034326489558395), (1998, 0.02472530475992705), (1999, 0.0), (2000, 0.024419011433429106), (2001, 0.0), (2002, 0.0), (2003, 0.0), (2004, 0.01376155103799084), (2005, 0.01675009068697098), (2006, 0.0), (2007, 0.0), (2008, 0.04685731951087507), (2009, 0.0), (2010, 0.01171443153660366), (2011, 0.041941455358848787), (2012, 0.03189378986799622), (2013, 0.032154263008916356), (2014, 0.04110935010446218), (2015, 0.02714398381645453), (2016, 0.05367847565848452), (2017, 0.0), (2018, 0.0), (2019, 0.0), (2020, 0.008951729010692125), (2021, 0.0), (2022, 0.006849922027315209), (2023, 0.09080408823919746), (2024, 0.0838989150496687), (2025, 0.0), (2026, 0.10304852356947145), (2027, 0.030754710651428162), (2028, 0.0), (2029, 0.056315293459331846), (2030, 0.0), (2031, 0.03799925337542273), (2032, 0.0), (2033, 0.0), (2034, 0.014847856371935014), (2035, 0.03385656983605673), (2036, 0.0), (2037, 0.10983616559381677), (2038, 0.0), (2039, 0.011214935828972946), (2040, 0.10996141565252053), (2041, 0.0), (2042, 0.0), (2043, 0.0), (2044, 0.027753061455353875), (2045, 0.050609759476922575), (2046, 0.0), (2047, 0.012365949637795925), (2048, 0.016439094600351895), (2049, 0.027239287757851567), (2050, 0.0), (2051, 0.031102445068114125), (2052, 0.022616196728209602), (2053, 0.08462485459626407), (2054, 0.0), (2055, 0.06124923735103263), (2056, 0.00971881577937778), (2057, 0.06452005352519641), (2058, 0.007951956290367792), (2059, 0.0), (2060, 0.013972418268852826), (2061, 0.03975182111190925), (2062, 0.03256853221151386), (2063, 0.0), (2064, 0.006596860712676056), (2065, 0.04548640929907491), (2066, 0.0729078671974331), (2067, 0.013191266579678746), (2068, 0.014638002697051277), (2069, 0.039647387149157956), (2070, 0.0720686466705445), (2071, 0.0), (2072, 0.017018370913757262), (2073, 0.015436333731292454), (2074, 0.02877412796683039), (2075, 0.05865430899009963), (2076, 0.04303287737041273), (2077, 0.0575148366727621), (2078, 0.01986333392074564), (2079, 0.0), (2080, 0.07192568036971711), (2081, 0.0), (2082, 0.04229406094472098), (2083, 0.01379645455103485), (2084, 0.032859228912081935), (2085, 0.0), (2086, 0.0), (2087, 0.025230611982275806), (2088, 0.04357438500081161), (2089, 0.05424887350193279), (2090, 0.0), (2091, 0.03850796552003576), (2092, 0.0), (2093, 0.07275075268581117), (2094, 0.051149071046086333), (2095, 0.009096540863826094), (2096, 0.10565466029111192), (2097, 0.05936804835889624), (2098, 0.009146608149770549), (2099, 0.013418704186053438), (2100, 0.0), (2101, 0.010658558331763664), (2102, 0.014285762765208508), (2103, 0.02180865917040882), (2104, 0.04305787137885577), (2105, 0.016584324907343604), (2106, 0.0), (2107, 0.0), (2108, 0.019894148836019313), (2109, 0.08000122717727892), (2110, 0.07083096309402923), (2111, 0.013628003535574305), (2112, 0.09808657545180816), (2113, 0.008986759157983248), (2114, 0.038441113711260855), (2115, 0.0), (2116, 0.03395218252952982), (2117, 0.014160868024212717), (2118, 0.0), (2119, 0.06501320692616609), (2120, 0.0), (2121, 0.053984636036726), (2122, 0.05610341157322317), (2123, 0.06278699704861981), (2124, 0.0), (2125, 0.0), (2126, 0.055632585371481), (2127, 0.012968190668779547), (2128, 0.0), (2129, 0.014579187288944613), (2130, 0.02623547329291505), (2131, 0.01444235432389391), (2132, 0.013127725498409012), (2133, 0.08186855130225146), (2134, 0.017581471077115305), (2135, 0.0), (2136, 0.027724148673706792), (2137, 0.03550206731943708), (2138, 0.0), (2139, 0.026398839212890445), (2140, 0.0), (2141, 0.014918470701751004), (2142, 0.02011894967646891), (2143, 0.021529641447727718), (2144, 0.026464511153790088), (2145, 0.01743258050956132), (2146, 0.013760687225997765), (2147, 0.04600564180915276), (2148, 0.01737192394455095), (2149, 0.0422233606329276), (2150, 0.0), (2151, 0.08064307630909705), (2152, 0.0), (2153, 0.0), (2154, 0.11831771498928317), (2155, 0.06917096346123422), (2156, 0.00806939260851742), (2157, 0.005964674971576744), (2158, 0.04956168772865273), (2159, 0.018668916855042662), (2160, 0.008643081476969246), (2161, 0.022483436129820625), (2162, 0.06199825004493483), (2163, 0.014877342929889433), (2164, 0.0), (2165, 0.0), (2166, 0.012504081571825294), (2167, 0.025294239264857035), (2168, 0.0), (2169, 0.014714425486632604), (2170, 0.0), (2171, 0.0), (2172, 0.0), (2173, 0.019451382857015975), (2174, 0.0970784102979934), (2175, 0.00799442408201415), (2176, 0.017124473417010733), (2177, 0.017479383793778648), (2178, 0.06437793454386247), (2179, 0.0), (2180, 0.0), (2181, 0.03082171117741602), (2182, 0.0), (2183, 0.0), (2184, 0.037970218320958656), (2185, 0.008461153731854408), (2186, 0.0), (2187, 0.07524898466318423), (2188, 0.06486313452631645), (2189, 0.030874938074649187), (2190, 0.018200815242433076), (2191, 0.1045345754734722), (2192, 0.014308500988293678), (2193, 0.025518415655131577), (2194, 0.0), (2195, 0.015119010218150953), (2196, 0.08551604467658315), (2197, 0.030228686757844618), (2198, 0.009520295926381019), (2199, 0.022757446451232004), (2200, 0.0), (2201, 0.013627765124972819), (2202, 0.008684142603842452), (2203, 0.009158606404744796), (2204, 0.0), (2205, 0.008336020629553525), (2206, 0.0729818867134488), (2207, 0.023773772167894107), (2208, 0.02864455057999771), (2209, 0.03082268778589476), (2210, 0.0999147078574437), (2211, 0.018996789938858193), (2212, 0.05808374138528469), (2213, 0.014526675688785948), (2214, 0.15080878465133798), (2215, 0.0), (2216, 0.07666287494089125), (2217, 0.0), (2218, 0.0), (2219, 0.0), (2220, 0.0), (2221, 0.04614838063984625), (2222, 0.0), (2223, 0.01736199614195242), (2224, 0.07541352524132428), (2225, 0.0), (2226, 0.01386915103968742), (2227, 0.0), (2228, 0.06479469316898608), (2229, 0.10451072991024857), (2230, 0.01691249820375127), (2231, 0.03502608804012535), (2232, 0.025455780573932798), (2233, 0.0), (2234, 0.0), (2235, 0.06987575194774782), (2236, 0.02107911186216866), (2237, 0.038607687837349275), (2238, 0.0), (2239, 0.008398555099791132), (2240, 0.011306841197523442), (2241, 0.0), (2242, 0.013195074548287153), (2243, 0.0), (2244, 0.009003198303531076), (2245, 0.024284692815836905), (2246, 0.026646419305326182), (2247, 0.0), (2248, 0.08012652636478668), (2249, 0.0), (2250, 0.053179474749770236), (2251, 0.028577693213017775), (2252, 0.056152256218470566), (2253, 0.0), (2254, 0.08253768836000533), (2255, 0.07217105680073585), (2256, 0.0), (2257, 0.02905672946978923), (2258, 0.025210692639556106), (2259, 0.0), (2260, 0.015967219068682436), (2261, 0.0), (2262, 0.0), (2263, 0.0), (2264, 0.05026849776385716), (2265, 0.02700308254619893), (2266, 0.02126596280373446), (2267, 0.0), (2268, 0.01416902422276986), (2269, 0.016358465473091624), (2270, 0.011929836497714851), (2271, 0.0), (2272, 0.0), (2273, 0.036699689641719484), (2274, 0.0), (2275, 0.1371588346593701), (2276, 0.09686911406004384), (2277, 0.023832357449562896), (2278, 0.02625317986735788), (2279, 0.05203545646428699), (2280, 0.06872571462483076), (2281, 0.0), (2282, 0.0), (2283, 0.027650270527482892), (2284, 0.074893753561166), (2285, 0.020567522048460678), (2286, 0.019115350706203727), (2287, 0.011868217770521947), (2288, 0.03142608746248391), (2289, 0.021995507777057412), (2290, 0.02315475544345067), (2291, 0.007588667911011914), (2292, 0.016535790785239722), (2293, 0.01960447462688261), (2294, 0.03512217106028616), (2295, 0.08099349675950575), (2296, 0.0), (2297, 0.0), (2298, 0.02155367551398327), (2299, 0.03030288986002054), (2300, 0.0), (2301, 0.03774185191595585), (2302, 0.01935242029744633), (2303, 0.02541309502774386), (2304, 0.05327111891695695), (2305, 0.0), (2306, 0.038628860657067846), (2307, 0.0), (2308, 0.05323225788335068), (2309, 0.02311640431474843), (2310, 0.033435446813473206), (2311, 0.0), (2312, 0.0), (2313, 0.013035136351425378), (2314, 0.032207783870420593), (2315, 0.0), (2316, 0.04321386141406509), (2317, 0.01673967190736014), (2318, 0.08026893353905547), (2319, 0.015019795465169362), (2320, 0.017676474796350396), (2321, 0.10354902617073557), (2322, 0.0), (2323, 0.013693044467536851), (2324, 0.04270490251941225), (2325, 0.0), (2326, 0.026445207459296766), (2327, 0.0), (2328, 0.048555295106409366), (2329, 0.0), (2330, 0.02920366668013467), (2331, 0.0), (2332, 0.0), (2333, 0.0), (2334, 0.08605846370506037), (2335, 0.010064315474617665), (2336, 0.07087713495072065), (2337, 0.0), (2338, 0.013273403890442584), (2339, 0.011367570534241858), (2340, 0.014885658253764885), (2341, 0.0), (2342, 0.0), (2343, 0.06899796299945236), (2344, 0.0478867727700779), (2345, 0.0), (2346, 0.07973118657389468), (2347, 0.03193956538208531), (2348, 0.05058484691912736), (2349, 0.0275725298265878), (2350, 0.02322104024720315), (2351, 0.0), (2352, 0.0), (2353, 0.026951583973788162), (2354, 0.015151902950609973), (2355, 0.03799199268602576), (2356, 0.017591920775620624), (2357, 0.0), (2358, 0.0), (2359, 0.011273920774292434), (2360, 0.0), (2361, 0.017874867102456254), (2362, 0.04804047805769007), (2363, 0.07703650844026907), (2364, 0.0), (2365, 0.0), (2366, 0.018275570156226963), (2367, 0.014131151789260134), (2368, 0.032454842643726126), (2369, 0.0), (2370, 0.01635502922656818), (2371, 0.0), (2372, 0.0), (2373, 0.0), (2374, 0.09747566982027234), (2375, 0.06682131469044685), (2376, 0.02058889040020523), (2377, 0.0), (2378, 0.020300020100286746), (2379, 0.03156514207910393), (2380, 0.0), (2381, 0.0), (2382, 0.011622525404061477), (2383, 0.08214454766320384), (2384, 0.0), (2385, 0.015338709553078266), (2386, 0.016709165256492915), (2387, 0.014702884110746136), (2388, 0.03030612780863689), (2389, 0.0), (2390, 0.017352973947016077), (2391, 0.018493062495584044), (2392, 0.026415168727514447), (2393, 0.015778660154199778), (2394, 0.02201919639970842), (2395, 0.0), (2396, 0.01536813774687797), (2397, 0.015203779341310272), (2398, 0.0), (2399, 0.013469947459279503), (2400, 0.01967748919714292), (2401, 0.018602512470691855), (2402, 0.016249292250090898), (2403, 0.030066298394697592), (2404, 0.033766150718858336), (2405, 0.018381799702878343), (2406, 0.10790655555884678), (2407, 0.03136837654103875), (2408, 0.05634438970525052), (2409, 0.0), (2410, 0.01671678698129008), (2411, 0.021006992686202364), (2412, 0.07003651117456798), (2413, 0.027061122402023116), (2414, 0.0), (2415, 0.020750224364764976), (2416, 0.014812942641346792), (2417, 0.03906398005368153), (2418, 0.02849371495772083), (2419, 0.015664447738371633), (2420, 0.0), (2421, 0.03437558853326629), (2422, 0.014367651430936306), (2423, 0.03101107584283207), (2424, 0.042048185484339945), (2425, 0.035937345487495734), (2426, 0.010246087174287766), (2427, 0.0512807551977645), (2428, 0.0550858477866996), (2429, 0.0646904281688466), (2430, 0.01398151177486027), (2431, 0.0), (2432, 0.026760984151352862), (2433, 0.0), (2434, 0.02177300715421139), (2435, 0.0), (2436, 0.029417743764875316), (2437, 0.02079397512547095), (2438, 0.020163917126259378), (2439, 0.00804716791852107), (2440, 0.04838597010458935), (2441, 0.011166941477447888), (2442, 0.023893907431172017), (2443, 0.05466333381996606), (2444, 0.05237698393378144), (2445, 0.0), (2446, 0.014147977640469494), (2447, 0.06608707970103073), (2448, 0.02398008334679472), (2449, 0.0), (2450, 0.0), (2451, 0.0), (2452, 0.0), (2453, 0.013305418587737969), (2454, 0.03451916128207529), (2455, 0.0), (2456, 0.0), (2457, 0.013806919510916902), (2458, 0.0), (2459, 0.05555050295216434), (2460, 0.02204218207536857), (2461, 0.013966412136064914), (2462, 0.0), (2463, 0.02740615015256501), (2464, 0.10165570347251175), (2465, 0.0), (2466, 0.015683493232211996), (2467, 0.014245213036650847), (2468, 0.07313659504666861), (2469, 0.03460878283645835), (2470, 0.0), (2471, 0.0), (2472, 0.0), (2473, 0.02286351979001187), (2474, 0.02319807361157214), (2475, 0.026359848532241062), (2476, 0.03674384987625918), (2477, 0.04631900681083), (2478, 0.01954287158105043), (2479, 0.0), (2480, 0.03954153047100013), (2481, 0.04923524929150616), (2482, 0.011786387075469008), (2483, 0.0), (2484, 0.040692249726030784), (2485, 0.0), (2486, 0.07746926801573961), (2487, 0.08731771268586132), (2488, 0.019786897568624204), (2489, 0.060456073133125336), (2490, 0.03631746459421496), (2491, 0.0), (2492, 0.015113136658018054), (2493, 0.0), (2494, 0.029614048584357185), (2495, 0.014875856036476294), (2496, 0.03796164994751391), (2497, 0.0), (2498, 0.0), (2499, 0.0), (2500, 0.0), (2501, 0.04933929020761353), (2502, 0.01229235407972066), (2503, 0.00927788298845823), (2504, 0.0), (2505, 0.03258674786003858), (2506, 0.03582430734772988), (2507, 0.017551275508413573), (2508, 0.0), (2509, 0.012943363697622818), (2510, 0.0112835417761779), (2511, 0.0), (2512, 0.05391270643351953), (2513, 0.026331208815583616), (2514, 0.0), (2515, 0.0), (2516, 0.0), (2517, 0.00893317980988137), (2518, 0.0), (2519, 0.043317175516418574), (2520, 0.013511558887793552), (2521, 0.0), (2522, 0.08310281201810688), (2523, 0.0), (2524, 0.06772570946084482), (2525, 0.013608773366467456), (2526, 0.01231706120417155), (2527, 0.011306959910589878), (2528, 0.012854379905287382), (2529, 0.03226697520934763), (2530, 0.01952685019674515), (2531, 0.017006801991204648), (2532, 0.0), (2533, 0.01895610428775403), (2534, 0.005506824149069409), (2535, 0.02286102408771777), (2536, 0.0), (2537, 0.03229839625428042), (2538, 0.09215812273519544), (2539, 0.0), (2540, 0.0800775141939372), (2541, 0.021769068343652172), (2542, 0.0), (2543, 0.0), (2544, 0.027944164879154805), (2545, 0.0294693450343807), (2546, 0.05927504484452937), (2547, 0.0), (2548, 0.0), (2549, 0.0), (2550, 0.06897461343238881), (2551, 0.0), (2552, 0.013152811218840831), (2553, 0.03461727301088231), (2554, 0.016041444284245157), (2555, 0.05515537752732735), (2556, 0.017504176257440322), (2557, 0.02111119889913907), (2558, 0.1576583609360021), (2559, 0.025670849965325752), (2560, 0.053340077821926665), (2561, 0.01840709183165711), (2562, 0.0), (2563, 0.01867941210522329), (2564, 0.0), (2565, 0.02708038118606057), (2566, 0.0), (2567, 0.03182112917064795), (2568, 0.02696207266851553), (2569, 0.014478787979028634), (2570, 0.019617351929465995), (2571, 0.014625883276024145), (2572, 0.02264811793948538), (2573, 0.01986915303481744), (2574, 0.0), (2575, 0.0), (2576, 0.031077101604305525), (2577, 0.0), (2578, 0.0), (2579, 0.020806619782035473), (2580, 0.03601939017309841), (2581, 0.0634790607792771), (2582, 0.02745668407077857), (2583, 0.0), (2584, 0.0), (2585, 0.01716318424055482), (2586, 0.0), (2587, 0.02024533260649112), (2588, 0.0), (2589, 0.0), (2590, 0.0), (2591, 0.013326530628268855), (2592, 0.016521475762434804), (2593, 0.013829082199141014), (2594, 0.0), (2595, 0.01616089094969152), (2596, 0.0), (2597, 0.0), (2598, 0.056726941793958444), (2599, 0.031028262942158633), (2600, 0.06737753050662373), (2601, 0.02613666550688032), (2602, 0.08262756040742437), (2603, 0.020036303220105633), (2604, 0.0), (2605, 0.0), (2606, 0.04343916960025067), (2607, 0.08823795364559056), (2608, 0.0), (2609, 0.01487306810987413), (2610, 0.0147646558276019), (2611, 0.013028089017937328), (2612, 0.014596046800857567), (2613, 0.03172549416394004), (2614, 0.021516860850559885), (2615, 0.0), (2616, 0.0), (2617, 0.06832904804422235), (2618, 0.05419245864125982), (2619, 0.0200672124435515), (2620, 0.0), (2621, 0.09310220354221145), (2622, 0.0643038845672614), (2623, 0.020897471668795197), (2624, 0.018450600919418744), (2625, 0.06369141059960542), (2626, 0.02884926482204854), (2627, 0.0), (2628, 0.02582396539862197), (2629, 0.017666125514128144), (2630, 0.03234609400089767), (2631, 0.0), (2632, 0.05105739409072764), (2633, 0.02553896076950185), (2634, 0.013455372961914996), (2635, 0.05738206083418873), (2636, 0.009813271742701796), (2637, 0.0), (2638, 0.12130410375943705), (2639, 0.02177552133596179), (2640, 0.024853066815605944), (2641, 0.0), (2642, 0.01426559713113032), (2643, 0.026104839022120456), (2644, 0.02103174505970281), (2645, 0.10270889116850652), (2646, 0.0), (2647, 0.061494425505817435), (2648, 0.0), (2649, 0.12105259595930981), (2650, 0.03897657812632628), (2651, 0.015509798503736367), (2652, 0.014392293475012882), (2653, 0.07742681767116516), (2654, 0.025351830302802938), (2655, 0.08665687965302536), (2656, 0.0), (2657, 0.0), (2658, 0.0), (2659, 0.0), (2660, 0.005816597935408486), (2661, 0.01569508687881829), (2662, 0.0), (2663, 0.0), (2664, 0.0180791368231964), (2665, 0.007282766956679864), (2666, 0.0), (2667, 0.0), (2668, 0.09199459186939578), (2669, 0.0), (2670, 0.0), (2671, 0.0), (2672, 0.0), (2673, 0.04596885900221106), (2674, 0.01888428878877951), (2675, 0.0), (2676, 0.0), (2677, 0.0), (2678, 0.024453227182776115), (2679, 0.01573780010102518), (2680, 0.03330667274201485), (2681, 0.0), (2682, 0.022827369331553552), (2683, 0.03397565060792775), (2684, 0.0), (2685, 0.0), (2686, 0.0), (2687, 0.016559889446972745), (2688, 0.015343231941694643), (2689, 0.055282090293745055), (2690, 0.0), (2691, 0.009060584115798105), (2692, 1.0000000000000002), (2693, 0.0), (2694, 0.09486605435555442), (2695, 0.0807138695579777), (2696, 0.02140844515419724), (2697, 0.0646096661970893), (2698, 0.023750426497301615), (2699, 0.0), (2700, 0.0523379396587042), (2701, 0.0), (2702, 0.018694591820750128), (2703, 0.0), (2704, 0.0), (2705, 0.018926185572057174), (2706, 0.021671194691046655), (2707, 0.029526640145210007), (2708, 0.009628143845348944), (2709, 0.0), (2710, 0.0), (2711, 0.023157913101054712), (2712, 0.04964777709950843), (2713, 0.0), (2714, 0.03794937440149082), (2715, 0.0), (2716, 0.08461667442629589), (2717, 0.0), (2718, 0.0), (2719, 0.0), (2720, 0.017620530486608887), (2721, 0.011957833140853798), (2722, 0.031248674956527507), (2723, 0.01678303445510301), (2724, 0.033783637237926434), (2725, 0.017612007978638784), (2726, 0.01084133233259687), (2727, 0.1003261537894636), (2728, 0.01223004583503705), (2729, 0.0), (2730, 0.0), (2731, 0.034230947516888176), (2732, 0.009861703655113416), (2733, 0.03185720938949578), (2734, 0.0), (2735, 0.015737703719852784), (2736, 0.046985412315246514), (2737, 0.0), (2738, 0.019247558532847174), (2739, 0.06950158404043907), (2740, 0.02831833026831069), (2741, 0.01629662519923003), (2742, 0.07073212976581675), (2743, 0.012304345030285853), (2744, 0.024930808069477298), (2745, 0.03291548190499158), (2746, 0.015402886782227773), (2747, 0.014627977895791695), (2748, 0.024251354907774848), (2749, 0.0), (2750, 0.0), (2751, 0.10095721264581331), (2752, 0.05241326639848898), (2753, 0.01244710953073223), (2754, 0.0), (2755, 0.016388755802042736), (2756, 0.0), (2757, 0.040200994660443155), (2758, 0.011443408138865751), (2759, 0.049543836203453526), (2760, 0.010371799159008679), (2761, 0.011774843810880552), (2762, 0.035031761133126525), (2763, 0.0), (2764, 0.032604446755295176), (2765, 0.013785490054980937), (2766, 0.010030037993913643), (2767, 0.010516651386738346), (2768, 0.15875081187777684), (2769, 0.02943743661854894), (2770, 0.0), (2771, 0.062095362581552495), (2772, 0.01819557255383114), (2773, 0.0), (2774, 0.006864712754071696), (2775, 0.025409851376920728), (2776, 0.016667249666671366), (2777, 0.07886393786897754), (2778, 0.08135127847556575), (2779, 0.014586327644955786), (2780, 0.06874579340126002), (2781, 0.0), (2782, 0.015846917661140682), (2783, 0.017397823909961748), (2784, 0.0842118488514655), (2785, 0.0), (2786, 0.020418381716699168), (2787, 0.025184864628829205), (2788, 0.07313628803247862), (2789, 0.029183127794055838), (2790, 0.027059773149201435), (2791, 0.08586889667226104), (2792, 0.017226132911637947), (2793, 0.0), (2794, 0.0), (2795, 0.11235566638044656), (2796, 0.01843022989746287), (2797, 0.02038453948370715), (2798, 0.02495873751112191), (2799, 0.0), (2800, 0.013411508672778573), (2801, 0.020966772589362175), (2802, 0.013339766919021003), (2803, 0.04028341692834135), (2804, 0.0), (2805, 0.019136693137274875), (2806, 0.0), (2807, 0.04657670971090862), (2808, 0.08888858169568975), (2809, 0.02463141767615398), (2810, 0.0), (2811, 0.0), (2812, 0.02269328588760377), (2813, 0.0), (2814, 0.0), (2815, 0.06366695148761406), (2816, 0.011498536956685108), (2817, 0.0), (2818, 0.0), (2819, 0.02949887160753058), (2820, 0.030542395546908352), (2821, 0.019801488106281552), (2822, 0.043970017949708874), (2823, 0.026005261565411917), (2824, 0.0), (2825, 0.04225554101582583), (2826, 0.014656190488404762), (2827, 0.0), (2828, 0.0), (2829, 0.0), (2830, 0.016070196047312017), (2831, 0.0256954605446765), (2832, 0.026253003260419804), (2833, 0.03409833977445486), (2834, 0.020551720450611558), (2835, 0.0), (2836, 0.0), (2837, 0.0), (2838, 0.021512847795666323), (2839, 0.0), (2840, 0.05019571489955361), (2841, 0.029335604763538976), (2842, 0.0), (2843, 0.0), (2844, 0.017809229285994255), (2845, 0.01250727138657115), (2846, 0.10147836755185165), (2847, 0.024725623927627578), (2848, 0.02061431362835013), (2849, 0.10239031318881965), (2850, 0.0), (2851, 0.0), (2852, 0.0), (2853, 0.015587906429150521), (2854, 0.04814773323833256), (2855, 0.0), (2856, 0.0), (2857, 0.019706820650933217), (2858, 0.038392788295594525), (2859, 0.0652335223216017), (2860, 0.0), (2861, 0.02884448223122451), (2862, 0.013423363393965338), (2863, 0.01548438271512144), (2864, 0.0), (2865, 0.0), (2866, 0.0), (2867, 0.02596170995876268), (2868, 0.0312555674517895), (2869, 0.05819629419057099), (2870, 0.029231484483623064), (2871, 0.06069822740232105), (2872, 0.028551372469662842), (2873, 0.01206674359354303), (2874, 0.043412310166417785), (2875, 0.0), (2876, 0.052373899522689914), (2877, 0.0), (2878, 0.01374516653348535), (2879, 0.06789226316981967), (2880, 0.0), (2881, 0.053117768510012243), (2882, 0.01710105923135906), (2883, 0.025563653396864346), (2884, 0.017453899029050708), (2885, 0.0), (2886, 0.06204840620495902), (2887, 0.017143589245650157), (2888, 0.015209789253998959), (2889, 0.028963922693559435), (2890, 0.029931637716860086), (2891, 0.0), (2892, 0.013877074894686361), (2893, 0.016597068298094722), (2894, 0.015163698778194916), (2895, 0.019869873037546528), (2896, 0.0), (2897, 0.0374013612188074), (2898, 0.0), (2899, 0.03737627092129716), (2900, 0.024894326918990337), (2901, 0.026859574325507875), (2902, 0.010223583450356158), (2903, 0.21871537100806535), (2904, 0.015297039981297115), (2905, 0.0), (2906, 0.0), (2907, 0.015733637241414068), (2908, 0.10254373519871351), (2909, 0.013686551607798421), (2910, 0.06966542060493743), (2911, 0.016000405559348698), (2912, 0.013834877842492413), (2913, 0.05928849628322953), (2914, 0.026380781559983565), (2915, 0.029221104449496757), (2916, 0.028239452782843913), (2917, 0.04488205748961135), (2918, 0.06957552888343221), (2919, 0.0836054683536859), (2920, 0.013081040567103587), (2921, 0.0), (2922, 0.0), (2923, 0.029803337541852534), (2924, 0.018903622458201187), (2925, 0.06359615100544101), (2926, 0.015549741853379189), (2927, 0.0), (2928, 0.0), (2929, 0.03269727884093967), (2930, 0.0), (2931, 0.03708998425961248), (2932, 0.1439090950363035), (2933, 0.023512026512529264), (2934, 0.06139481879846309), (2935, 0.007969128754150885), (2936, 0.03128483060172032), (2937, 0.027844927080355686), (2938, 0.0), (2939, 0.10528643603502473), (2940, 0.0158788968907417), (2941, 0.0), (2942, 0.02168948458431923), (2943, 0.017152520091762585), (2944, 0.06452631939669473), (2945, 0.014950151973795017), (2946, 0.016027343323949235), (2947, 0.02885260139545931), (2948, 0.06445634001100382), (2949, 0.042104374503871805), (2950, 0.0), (2951, 0.0), (2952, 0.0), (2953, 0.018182905783753093), (2954, 0.014286001724814743), (2955, 0.0), (2956, 0.0), (2957, 0.02292519901978711), (2958, 0.0), (2959, 0.031207108600840815), (2960, 0.029594613903773645), (2961, 0.09480262701676602), (2962, 0.03525483585267532), (2963, 0.07363689122844638), (2964, 0.02820536152079963), (2965, 0.013745299699859128), (2966, 0.02671759206831816), (2967, 0.0), (2968, 0.0), (2969, 0.02761359787400741), (2970, 0.02143143201125084), (2971, 0.041535575031453206), (2972, 0.013650538629774174), (2973, 0.0), (2974, 0.019824527542289958), (2975, 0.020728040742264746), (2976, 0.015289632948495738), (2977, 0.024770342516963743), (2978, 0.08005651304522773), (2979, 0.0), (2980, 0.023755118252111792), (2981, 0.03985307477911698), (2982, 0.0), (2983, 0.0), (2984, 0.026039439188328153), (2985, 0.09284558590627282), (2986, 0.023155424338879755), (2987, 0.01921719785887876), (2988, 0.05406104903623818), (2989, 0.030822481202490492), (2990, 0.0), (2991, 0.03209159735073168), (2992, 0.03440322867676617), (2993, 0.03322192587343003), (2994, 0.05396144370349703), (2995, 0.038805640083290904), (2996, 0.0874322861385633), (2997, 0.02034461942534484), (2998, 0.02602065073277601), (2999, 0.01575172725244408), (3000, 0.04189223170102578), (3001, 0.0), (3002, 0.0), (3003, 0.0175511055634556), (3004, 0.023007769888148653), (3005, 0.02884219577155461), (3006, 0.0), (3007, 0.01955042150089214), (3008, 0.009847609572467837), (3009, 0.0), (3010, 0.06884693419839447), (3011, 0.02606343760644738), (3012, 0.13439555398463168), (3013, 0.017409943032524158), (3014, 0.013819032450281656), (3015, 0.02732513753956207), (3016, 0.018613217831641153), (3017, 0.0), (3018, 0.0386996792406353), (3019, 0.13364739108216966), (3020, 0.025661028739893486), (3021, 0.0), (3022, 0.032032818839102244), (3023, 0.009267060623057027), (3024, 0.012872058635869045), (3025, 0.0), (3026, 0.018055849408399386), (3027, 0.01260013355370528), (3028, 0.013912929892373556), (3029, 0.0), (3030, 0.03191608722148565), (3031, 0.021627874351915457), (3032, 0.0554204468535264), (3033, 0.009720759265792167), (3034, 0.0), (3035, 0.06904873309743868), (3036, 0.03404781328498643), (3037, 0.028258380809740646), (3038, 0.0), (3039, 0.013484654817418552), (3040, 0.02952002224848251), (3041, 0.0), (3042, 0.032031937367889625), (3043, 0.09071134932608414), (3044, 0.020084908453702564), (3045, 0.08533936889305901), (3046, 0.02257486473158482), (3047, 0.0), (3048, 0.0), (3049, 0.05897153026182734), (3050, 0.015545637984403487), (3051, 0.02571885084206812), (3052, 0.03884609734400622), (3053, 0.0), (3054, 0.0), (3055, 0.02860826383666147), (3056, 0.012441300763264634), (3057, 0.01786412355877709), (3058, 0.0), (3059, 0.0), (3060, 0.0), (3061, 0.0), (3062, 0.020182636832041943), (3063, 0.0), (3064, 0.017233238729637022), (3065, 0.05329667224808622), (3066, 0.009158155995566566), (3067, 0.03633952935558338), (3068, 0.0), (3069, 0.015653536107362264), (3070, 0.06165355668347523), (3071, 0.01341816425986857), (3072, 0.021045430518739555), (3073, 0.0), (3074, 0.027971508080843695), (3075, 0.01700945963891258), (3076, 0.08438203766854105), (3077, 0.0), (3078, 0.0), (3079, 0.026890550259446453), (3080, 0.0), (3081, 0.023054846094307867), (3082, 0.0), (3083, 0.0), (3084, 0.017181229307649662), (3085, 0.07063518021415821), (3086, 0.09954324942541518), (3087, 0.0), (3088, 0.0), (3089, 0.0), (3090, 0.0), (3091, 0.03418859879510619), (3092, 0.0), (3093, 0.017766890178601415), (3094, 0.030691813334445477), (3095, 0.10627008554417076), (3096, 0.0195237561978123), (3097, 0.08706372424668973), (3098, 0.023710644783097413), (3099, 0.054922595914248765), (3100, 0.023386292479809147), (3101, 0.017908006528563083), (3102, 0.050995582125827305), (3103, 0.0), (3104, 0.0), (3105, 0.0), (3106, 0.0), (3107, 0.0), (3108, 0.04108568366158048), (3109, 0.0), (3110, 0.07894374809921101), (3111, 0.035144612011147734), (3112, 0.05291894730587961), (3113, 0.016659129547050656), (3114, 0.008376410883483528), (3115, 0.0), (3116, 0.017169287547965876), (3117, 0.039125501161413986), (3118, 0.07177613677038631), (3119, 0.13482507909291636), (3120, 0.05229427786382323), (3121, 0.0), (3122, 0.03685018679982494), (3123, 0.0622989357949819), (3124, 0.027335688841165492), (3125, 0.04546061230448633), (3126, 0.024690268001678894), (3127, 0.07961217107177895), (3128, 0.026895120843772782), (3129, 0.03987228766999951), (3130, 0.0), (3131, 0.02701154804920044), (3132, 0.0), (3133, 0.02281416114477115), (3134, 0.02623977782510083), (3135, 0.024916045041571692), (3136, 0.025710788766617684), (3137, 0.056017680081130415), (3138, 0.0), (3139, 0.03445577239468083), (3140, 0.020383297249144786), (3141, 0.0), (3142, 0.04669506695935092), (3143, 0.02446113903237123), (3144, 0.02860773492523063), (3145, 0.0), (3146, 0.02023267976964488), (3147, 0.014152650395386266), (3148, 0.016884325855140377), (3149, 0.03811412880462097), (3150, 0.01586567663719909), (3151, 0.023880894743219416), (3152, 0.020519438370867938), (3153, 0.06275134490298656), (3154, 0.1368531606826387), (3155, 0.0680091715801335), (3156, 0.027490749164454226), (3157, 0.06710804532062777), (3158, 0.030181958989345763), (3159, 0.0194016141461255), (3160, 0.02231257482299526), (3161, 0.02512023326860589), (3162, 0.0), (3163, 0.02916546406115816), (3164, 0.007709357062525283), (3165, 0.025849329050550783), (3166, 0.02422620260297561), (3167, 0.012892622335168868), (3168, 0.03241950328307597), (3169, 0.0), (3170, 0.017105420038450038), (3171, 0.06712667409373141), (3172, 0.0), (3173, 0.01657363468012752), (3174, 0.01523133949053544), (3175, 0.0), (3176, 0.0), (3177, 0.0), (3178, 0.03293573585839377), (3179, 0.02717013170982381), (3180, 0.029094217435282985), (3181, 0.0), (3182, 0.014269014778128367), (3183, 0.018704396870690563), (3184, 0.01665630178713859), (3185, 0.0592637190506095), (3186, 0.016501870531511836), (3187, 0.016869786967135234), (3188, 0.0), (3189, 0.0), (3190, 0.0), (3191, 0.024399481724732903), (3192, 0.048867440379206574), (3193, 0.0), (3194, 0.012840100549152593), (3195, 0.044436589150817815), (3196, 0.04978760706678921), (3197, 0.0), (3198, 0.015316232112665307), (3199, 0.01123216729175614), (3200, 0.013557886523095789), (3201, 0.0), (3202, 0.0), (3203, 0.0), (3204, 0.0), (3205, 0.005982501831100195), (3206, 0.0188901902672159), (3207, 0.0), (3208, 0.0), (3209, 0.06342203739619331), (3210, 0.09003451106426169), (3211, 0.014486879432173824), (3212, 0.0), (3213, 0.038745621089940493), (3214, 0.01901009803057765), (3215, 0.030093572412977145), (3216, 0.015341830486599647), (3217, 0.0), (3218, 0.02522522083633324), (3219, 0.022431020180001156), (3220, 0.014262738491672913), (3221, 0.0), (3222, 0.0347449752973964), (3223, 0.0), (3224, 0.016722015075287422), (3225, 0.015244528669684721), (3226, 0.0396827840626094), (3227, 0.040506037489226994), (3228, 0.0800311205539001), (3229, 0.0), (3230, 0.018326087729426895), (3231, 0.0), (3232, 0.05340870727165427), (3233, 0.0408436903206584), (3234, 0.01694507962539963), (3235, 0.01855074790187775), (3236, 0.0), (3237, 0.023568117785893503), (3238, 0.011683546464350209), (3239, 0.025622844247169447), (3240, 0.03190572852676472), (3241, 0.016296205480383037), (3242, 0.019533778290378594), (3243, 0.015158719323525752), (3244, 0.00886469727658147), (3245, 0.049529387078611556), (3246, 0.02326714483087825), (3247, 0.021924498852436233), (3248, 0.028218060213307868), (3249, 0.08457666414752789), (3250, 0.0), (3251, 0.0), (3252, 0.011735642838841764), (3253, 0.020424356300702468), (3254, 0.012654918373710682), (3255, 0.0), (3256, 0.01112198271854386), (3257, 0.023226238806427407), (3258, 0.026280964238080868), (3259, 0.04446871267804437), (3260, 0.015000020529893987), (3261, 0.0), (3262, 0.022575002608991698), (3263, 0.032354095848808294), (3264, 0.028362357604630954), (3265, 0.009808306044303232), (3266, 0.0), (3267, 0.04837631754037253), (3268, 0.01675116986027527), (3269, 0.019125032569899145), (3270, 0.0), (3271, 0.015558921691916958), (3272, 0.0), (3273, 0.02111910786537436), (3274, 0.02083662226340208), (3275, 0.0984915170256288), (3276, 0.027303738981567204), (3277, 0.0), (3278, 0.014004461248835627), (3279, 0.041171467711142384), (3280, 0.08030747426191756), (3281, 0.0), (3282, 0.021817087089403102), (3283, 0.015331239830765299), (3284, 0.053286984012191646), (3285, 0.04695570426870426), (3286, 0.0), (3287, 0.0), (3288, 0.009374671284888782), (3289, 0.015511484112192398), (3290, 0.015216904994389602), (3291, 0.03285838147675413), (3292, 0.024982238124217522), (3293, 0.08126026990147191), (3294, 0.0647425664881376), (3295, 0.022706799019493656), (3296, 0.027356941566219258), (3297, 0.038289149758387875), (3298, 0.014054030523337887), (3299, 0.03521238996423311), (3300, 0.01379487750535539), (3301, 0.01039950450193216), (3302, 0.01801181321294472), (3303, 0.04019890712190897), (3304, 0.013644875380762292), (3305, 0.0), (3306, 0.06830311128869149), (3307, 0.026802551497036413), (3308, 0.017938433222021783), (3309, 0.009686924095644634), (3310, 0.0), (3311, 0.012907700716878528), (3312, 0.09625016405966277), (3313, 0.048544049116903173), (3314, 0.015447822061306458), (3315, 0.013477838966801397), (3316, 0.01692433916823517), (3317, 0.0807149522118368), (3318, 0.0696627982162761), (3319, 0.0), (3320, 0.0), (3321, 0.0), (3322, 0.029609108580077762), (3323, 0.0), (3324, 0.0), (3325, 0.054808621691940416), (3326, 0.08007463075427378), (3327, 0.013545893327646295), (3328, 0.024331562917441596), (3329, 0.02242933477221589), (3330, 0.04222721824732762), (3331, 0.03453615206206883), (3332, 0.0), (3333, 0.0), (3334, 0.07612639614864372), (3335, 0.016236589051756043), (3336, 0.012620164730402485), (3337, 0.02002928931006588), (3338, 0.02710043202061152), (3339, 0.021416526104124915), (3340, 0.0), (3341, 0.015889643982956628), (3342, 0.04075371032634905), (3343, 0.0), (3344, 0.06330490299307724), (3345, 0.0320459198667329), (3346, 0.022633086366471333), (3347, 0.01340113225137544), (3348, 0.01537674435738033), (3349, 0.08419271603524486), (3350, 0.0), (3351, 0.0594851920523365), (3352, 0.04114237844112448), (3353, 0.018852985758314317), (3354, 0.03472766592787027), (3355, 0.018576929396792674), (3356, 0.018390589988853037), (3357, 0.01910350080055233), (3358, 0.020763975816503615), (3359, 0.02351054384790279), (3360, 0.08571239822319746), (3361, 0.024980093693482513), (3362, 0.03237887581312063), (3363, 0.02163943607179875), (3364, 0.018732599635399076), (3365, 0.010583033212282674), (3366, 0.0), (3367, 0.023802100151567317), (3368, 0.0), (3369, 0.014479012959836116), (3370, 0.07718111515222659), (3371, 0.0), (3372, 0.01780307210651287), (3373, 0.04167637519551329), (3374, 0.12912573274975386), (3375, 0.022194477850753482), (3376, 0.05345630592434569), (3377, 0.11712217755282614), (3378, 0.0), (3379, 0.014257363992581694), (3380, 0.012897132728402634), (3381, 0.013846093135093804), (3382, 0.06398271518907239), (3383, 0.0), (3384, 0.09438295570072344), (3385, 0.028636918690227445), (3386, 0.025041603511395817), (3387, 0.042083669641818915), (3388, 0.015480674360026864), (3389, 0.02159621024707184), (3390, 0.014200297605919957), (3391, 0.02549104783621937), (3392, 0.009508025834888424), (3393, 0.011588001456618927), (3394, 0.0), (3395, 0.023539288646976464), (3396, 0.029609108580077762), (3397, 0.0), (3398, 0.026953631557936286), (3399, 0.02329067591730512), (3400, 0.0), (3401, 0.0), (3402, 0.014255269233863008), (3403, 0.08234228385904646), (3404, 0.026351075377434828), (3405, 0.02182898821959171), (3406, 0.01592110834210676), (3407, 0.06194562115236491), (3408, 0.01789300583367983), (3409, 0.022235345169072086), (3410, 0.018147842423349634), (3411, 0.0), (3412, 0.014775379951197341), (3413, 0.019338714360118907), (3414, 0.01807150071544993), (3415, 0.0), (3416, 0.07028030766714005), (3417, 0.0174521408446467), (3418, 0.052746496573840305), (3419, 0.016406417068318208), (3420, 0.032983936994097365), (3421, 0.030746018001263073), (3422, 0.0), (3423, 0.038570544597884136), (3424, 0.0), (3425, 0.02095710865655807), (3426, 0.034717669968200554), (3427, 0.0), (3428, 0.0), (3429, 0.02524898237785176), (3430, 0.03318928471932585), (3431, 0.015847277726066502), (3432, 0.026478704335284844), (3433, 0.05980730118507627), (3434, 0.020041629711767574), (3435, 0.040875894028763585), (3436, 0.04275087387038249), (3437, 0.0874601578595616), (3438, 0.033485490010271485), (3439, 0.0), (3440, 0.03177537943049802), (3441, 0.014680161233405431), (3442, 0.0), (3443, 0.0268201076463211), (3444, 0.0), (3445, 0.014054606954219825), (3446, 0.05708519527103023), (3447, 0.04821643808921274), (3448, 0.03692344099334395), (3449, 0.016048098347105532), (3450, 0.11275049103126586), (3451, 0.028893386648868858), (3452, 0.03771881747403255), (3453, 0.022913603090414594), (3454, 0.0), (3455, 0.014200051479007037), (3456, 0.0225872896354885), (3457, 0.009176114032961591), (3458, 0.015096745639104753), (3459, 0.0), (3460, 0.03555616832401224), (3461, 0.0), (3462, 0.022716083246281243), (3463, 0.045333820408019865), (3464, 0.042543179758189935), (3465, 0.12923061096567617), (3466, 0.09426279325136129), (3467, 0.0), (3468, 0.02852185444175104), (3469, 0.02663757034579747), (3470, 0.02944732091141924), (3471, 0.05760496053343991), (3472, 0.0), (3473, 0.0), (3474, 0.038889274357371266), (3475, 0.0), (3476, 0.0), (3477, 0.014957739915385005), (3478, 0.015156078364459633), (3479, 0.026341294313152356), (3480, 0.043871457041065896), (3481, 0.0), (3482, 0.0), (3483, 0.09372247002269277), (3484, 0.019711110327986028), (3485, 0.0), (3486, 0.07769698845639397), (3487, 0.0400383355921647), (3488, 0.03170477628790869), (3489, 0.0), (3490, 0.0), (3491, 0.014866672448909475), (3492, 0.03851400160929304), (3493, 0.014597126786746337), (3494, 0.0), (3495, 0.02483575985405629), (3496, 0.016803257371993355), (3497, 0.019563083703479478), (3498, 0.08137568096316397), (3499, 0.03975539224086532), (3500, 0.01668568209378394), (3501, 0.053483563836763365), (3502, 0.03544647873243257), (3503, 0.012884136348306768), (3504, 0.08288570615824437), (3505, 0.0), (3506, 0.01572526809092012), (3507, 0.06907274969071431), (3508, 0.05574567720940213), (3509, 0.008196715157088233), (3510, 0.0), (3511, 0.01675460892570277), (3512, 0.026011432372783274), (3513, 0.03915082466139995), (3514, 0.041240911320379534), (3515, 0.010321860816920759), (3516, 0.04340413578223906), (3517, 0.014798571963281288), (3518, 0.06181212468086007), (3519, 0.0), (3520, 0.027016914414601953), (3521, 0.0926528953409862), (3522, 0.0), (3523, 0.03335553240024411), (3524, 0.03171834437405839), (3525, 0.0), (3526, 0.019709262918474402), (3527, 0.02192227497310198), (3528, 0.02364896866423619), (3529, 0.0), (3530, 0.0), (3531, 0.0376627773887725), (3532, 0.0), (3533, 0.0), (3534, 0.019936239970315482), (3535, 0.07671862288135825), (3536, 0.025063848869204534), (3537, 0.018093751081238552), (3538, 0.01259762557525307), (3539, 0.0), (3540, 0.018841504480985073), (3541, 0.03630864737697599), (3542, 0.017663896159886443), (3543, 0.0), (3544, 0.02516850558466568), (3545, 0.0), (3546, 0.010138787281819064), (3547, 0.0), (3548, 0.01457818223862606), (3549, 0.0), (3550, 0.0), (3551, 0.0158134805655284), (3552, 0.04075759283751354), (3553, 0.10054973389964558), (3554, 0.0), (3555, 0.02503624233994547), (3556, 0.07493349700187568), (3557, 0.017075950607531747), (3558, 0.03236589978586518), (3559, 0.007207682936553469), (3560, 0.01707275722571996), (3561, 0.025557803722070043), (3562, 0.0), (3563, 0.006494610516323363), (3564, 0.013435010950186062), (3565, 0.014692560661789656), (3566, 0.00844662301704626), (3567, 0.0), (3568, 0.0), (3569, 0.011657973424202227), (3570, 0.044780319897688686), (3571, 0.03987129673172364), (3572, 0.0), (3573, 0.0), (3574, 0.0), (3575, 0.011669607146088952), (3576, 0.0311548998488653), (3577, 0.018016628023807314), (3578, 0.0), (3579, 0.02150146509784323), (3580, 0.02215449313348283), (3581, 0.0), (3582, 0.06346259585594287), (3583, 0.02611062430199685), (3584, 0.028734020873966964), (3585, 0.0), (3586, 0.043145851785713195), (3587, 0.01607470369335117), (3588, 0.04385465381026829), (3589, 0.0), (3590, 0.023436025767603324), (3591, 0.0), (3592, 0.0), (3593, 0.017006564603946832), (3594, 0.01026037698254961), (3595, 0.0), (3596, 0.025422045151914117), (3597, 0.09163801364925492), (3598, 0.008471130219657142), (3599, 0.02739589152104182), (3600, 0.0), (3601, 0.019422188782389223), (3602, 0.025300836070685718), (3603, 0.0), (3604, 0.029703562654628108), (3605, 0.024014663882070627), (3606, 0.014316474478875367), (3607, 0.0), (3608, 0.015810514577657128), (3609, 0.0), (3610, 0.0), (3611, 0.01726957778202649), (3612, 0.051342130322472666), (3613, 0.02405462338332407), (3614, 0.012861321234849071), (3615, 0.01971714871512385), (3616, 0.0211062608455147), (3617, 0.0), (3618, 0.047022074772996095), (3619, 0.022552511193639883), (3620, 0.021627543730060733), (3621, 0.020246599559775254), (3622, 0.0), (3623, 0.03893655661246015), (3624, 0.04098425188275655), (3625, 0.0), (3626, 0.01082934826757308), (3627, 0.015866221100317667), (3628, 0.0), (3629, 0.012381196727518357), (3630, 0.018617818796043975), (3631, 0.0), (3632, 0.010307974200074276), (3633, 0.0), (3634, 0.0194715831374815), (3635, 0.07088195725709284), (3636, 0.020113465550565986), (3637, 0.07329912727614593), (3638, 0.055744443494987486), (3639, 0.017259655495723464), (3640, 0.09473236001089455), (3641, 0.01311902002139882), (3642, 0.09205323525119563), (3643, 0.024786692563747097), (3644, 0.0), (3645, 0.04004744275966385), (3646, 0.014315478249469708), (3647, 0.016310553394999292), (3648, 0.009745918341233686), (3649, 0.0), (3650, 0.0), (3651, 0.023919046423858503), (3652, 0.12333562015134313), (3653, 0.04444347106114256), (3654, 0.016112569471205564), (3655, 0.07923030514932648), (3656, 0.02131742089300329), (3657, 0.01249087196002951), (3658, 0.03232374281949656), (3659, 0.07621146826184388), (3660, 0.07641251853253976), (3661, 0.06912762163429852), (3662, 0.0), (3663, 0.0), (3664, 0.0264311736793263), (3665, 0.041695402224965816), (3666, 0.049894713369756594), (3667, 0.022318773000254602), (3668, 0.01485884572981629), (3669, 0.013179049165708417), (3670, 0.08225115067204947), (3671, 0.0), (3672, 0.0271837148538846), (3673, 0.014728762829823168), (3674, 0.053663774881775185), (3675, 0.17065553740382555), (3676, 0.0), (3677, 0.017205300076106673), (3678, 0.017260975607248197), (3679, 0.03596058193242661), (3680, 0.06042802727863977), (3681, 0.0), (3682, 0.0), (3683, 0.0), (3684, 0.07627378116641567), (3685, 0.0), (3686, 0.0), (3687, 0.03010269738502298), (3688, 0.0), (3689, 0.02419967941429417), (3690, 0.0), (3691, 0.01377990248349448), (3692, 0.06910145705772727), (3693, 0.0), (3694, 0.08899152948489086), (3695, 0.0), (3696, 0.040475130842677495), (3697, 0.0), (3698, 0.0), (3699, 0.07866916435417577), (3700, 0.0), (3701, 0.01525873402693816), (3702, 0.0), (3703, 0.0), (3704, 0.05569962988404413), (3705, 0.03507948399344948), (3706, 0.014020636133913042), (3707, 0.01900248113428928), (3708, 0.10139620879436739), (3709, 0.0), (3710, 0.02893906635734093), (3711, 0.07492737123127001), (3712, 0.0), (3713, 0.07863680175898807), (3714, 0.018539076709871358), (3715, 0.042111033073180947), (3716, 0.0), (3717, 0.0), (3718, 0.0), (3719, 0.026895120843772782), (3720, 0.024046049672658658), (3721, 0.04347562662845476), (3722, 0.0), (3723, 0.027146912022765417), (3724, 0.0), (3725, 0.013004791576163905), (3726, 0.0), (3727, 0.04345513233960282), (3728, 0.09317195469125925), (3729, 0.022683137293544146), (3730, 0.0), (3731, 0.04288968771227823), (3732, 0.0), (3733, 0.02461850974220017), (3734, 0.0391926301868349), (3735, 0.0), (3736, 0.0), (3737, 0.021744251206669153), (3738, 0.0), (3739, 0.014732693009935315), (3740, 0.0), (3741, 0.07693086477682556), (3742, 0.012276705107994109), (3743, 0.0), (3744, 0.03392155377700368), (3745, 0.018347478238982456), (3746, 0.06433666442455785), (3747, 0.03664617541559938), (3748, 0.009476318374750463), (3749, 0.017813242029432824), (3750, 0.018874853769293643), (3751, 0.018231055716409893), (3752, 0.007853325249804624), (3753, 0.0), (3754, 0.02137499080842322), (3755, 0.015222830486597096), (3756, 0.0626952988707134), (3757, 0.01598192191101408), (3758, 0.0), (3759, 0.0), (3760, 0.0), (3761, 0.0), (3762, 0.027681084224020894), (3763, 0.018181774491478092), (3764, 0.0), (3765, 0.01401366709396973), (3766, 0.11245701853536513), (3767, 0.023114138898292225), (3768, 0.08288176235923422), (3769, 0.02629433832908656), (3770, 0.017197715179915474), (3771, 0.046703648063191994), (3772, 0.01910318101261551), (3773, 0.0), (3774, 0.02861272417717801), (3775, 0.060471760404289976), (3776, 0.023380710031596995), (3777, 0.08798461429177311), (3778, 0.04427840771912912), (3779, 0.01925575369193917), (3780, 0.04616283243081199), (3781, 0.017896713006411817), (3782, 0.028065840409995803), (3783, 0.0), (3784, 0.023307107997745494), (3785, 0.0), (3786, 0.0), (3787, 0.029719417694706873), (3788, 0.027561782666650315), (3789, 0.0), (3790, 0.0), (3791, 0.0), (3792, 0.014589895712325036), (3793, 0.028049730759754508), (3794, 0.06221758610106522), (3795, 0.013090907561942595), (3796, 0.0), (3797, 0.0525079230396447), (3798, 0.0), (3799, 0.018158769985148638), (3800, 0.0), (3801, 0.0864901643216988), (3802, 0.03319397381210247), (3803, 0.0), (3804, 0.019039909245636265), (3805, 0.0), (3806, 0.026182206736334594), (3807, 0.0757483002320942), (3808, 0.0), (3809, 0.016603920784740017), (3810, 0.06290793095195574), (3811, 0.013921427313975094), (3812, 0.0), (3813, 0.02042829449293141), (3814, 0.029213435217290015), (3815, 0.02916419186270409), (3816, 0.0), (3817, 0.0), (3818, 0.0), (3819, 0.07500807216836408), (3820, 0.0), (3821, 0.02197971262571885), (3822, 0.029183391614894902), (3823, 0.024264195159277798), (3824, 0.02866117212813534), (3825, 0.008844711397053872), (3826, 0.02219491516534233), (3827, 0.022575002608991698), (3828, 0.10553076899442998), (3829, 0.020848930613671674), (3830, 0.0), (3831, 0.0), (3832, 0.02727647184059264), (3833, 0.02890485773613315), (3834, 0.0), (3835, 0.04882717467383141), (3836, 0.0), (3837, 0.0), (3838, 0.0), (3839, 0.0436775788360787), (3840, 0.0), (3841, 0.03686404905371222), (3842, 0.019481208520297888), (3843, 0.0), (3844, 0.040325696908660946), (3845, 0.01487379998066996), (3846, 0.0), (3847, 0.0), (3848, 0.03278969952442979), (3849, 0.0711099651995484), (3850, 0.02760739732865563), (3851, 0.0), (3852, 0.02267016406208603), (3853, 0.045524024154771185), (3854, 0.07756039184805691), (3855, 0.012117706976354607), (3856, 0.0), (3857, 0.04763001514815497), (3858, 0.0), (3859, 0.0), (3860, 0.05928196839876489), (3861, 0.02004942556155918), (3862, 0.08110804384004225), (3863, 0.013080198341203674), (3864, 0.00881685488285145), (3865, 0.007620059319614702), (3866, 0.017336855837105543), (3867, 0.017197293527092348), (3868, 0.0135980999343024), (3869, 0.0), (3870, 0.0), (3871, 0.0), (3872, 0.05858797568614764), (3873, 0.01664064166817052), (3874, 0.02618820703348663), (3875, 0.03229152749481095), (3876, 0.03620086737742738), (3877, 0.017187292747496027), (3878, 0.022344364360164678), (3879, 0.0), (3880, 0.021669990560557004), (3881, 0.028919929765670975), (3882, 0.015947565092175042), (3883, 0.11590798943525202), (3884, 0.026693043516820704), (3885, 0.0), (3886, 0.024506349936433882), (3887, 0.0), (3888, 0.050264930781334864), (3889, 0.017914316541820102), (3890, 0.014557657107202566), (3891, 0.0), (3892, 0.028048419881883453), (3893, 0.017067603578156138), (3894, 0.013204615506724575), (3895, 0.030420445546409394), (3896, 0.0), (3897, 0.03543327077212017), (3898, 0.02060939427751743), (3899, 0.037548528805026724), (3900, 0.015590049038046129), (3901, 0.05805689914040107), (3902, 0.015558803322030775), (3903, 0.028013393950375776), (3904, 0.020011468671811153), (3905, 0.04234835607146336), (3906, 0.014562302860359732), (3907, 0.0266963372701655), (3908, 0.030358793485516653), (3909, 0.009117609736736037), (3910, 0.03706466866332488), (3911, 0.01836770046100037), (3912, 0.0), (3913, 0.014027950271048084), (3914, 0.0), (3915, 0.015748481454173006), (3916, 0.0), (3917, 0.01701645873033345), (3918, 0.0), (3919, 0.024784240473825322), (3920, 0.01749672374116066), (3921, 0.0), (3922, 0.028258380809740646), (3923, 0.0), (3924, 0.06514928737507097), (3925, 0.029998304589565886), (3926, 0.010584848939479561), (3927, 0.04407375591055286), (3928, 0.0149667934403824), (3929, 0.0), (3930, 0.0), (3931, 0.0), (3932, 0.02010500430283488), (3933, 0.0), (3934, 0.031600593950403426), (3935, 0.022206518635172298), (3936, 0.0), (3937, 0.0), (3938, 0.031120002108832534), (3939, 0.03634842578530995), (3940, 0.00763187357452591), (3941, 0.049700258527736754), (3942, 0.04184270200523203), (3943, 0.0), (3944, 0.022131070077424434), (3945, 0.03335553240024411), (3946, 0.14736282241945084), (3947, 0.07269241637245501), (3948, 0.0), (3949, 0.07824048231818831), (3950, 0.0), (3951, 0.03449554133644368), (3952, 0.02748655946141401), (3953, 0.013541132013291188), (3954, 0.02162929991970385), (3955, 0.05586101659455881), (3956, 0.047585928843478134), (3957, 0.04120892557369023), (3958, 0.021726497261563425), (3959, 0.12265724363794611), (3960, 0.04362823427948816), (3961, 0.11397753453491297), (3962, 0.020208132865245535), (3963, 0.0), (3964, 0.0), (3965, 0.0), (3966, 0.02258838435386573), (3967, 0.025821471486571605), (3968, 0.0), (3969, 0.0), (3970, 0.025374607784831447), (3971, 0.0), (3972, 0.0), (3973, 0.08419404417127685), (3974, 0.099981441935993), (3975, 0.03962424918822194), (3976, 0.025618243662672603), (3977, 0.0), (3978, 0.09441892287566535), (3979, 0.0), (3980, 0.0), (3981, 0.0), (3982, 0.0), (3983, 0.017335492401006375), (3984, 0.07422801038233945), (3985, 0.0), (3986, 0.015384418165641204), (3987, 0.016986817714711947), (3988, 0.0), (3989, 0.021447566198708544), (3990, 0.030584232446639926), (3991, 0.0), (3992, 0.07099313130664686), (3993, 0.06300779766605819), (3994, 0.0), (3995, 0.028342050581942953), (3996, 0.0), (3997, 0.030119641282164815), (3998, 0.008501672861317738), (3999, 0.058856250979874236), (4000, 0.08290227389408185), (4001, 0.010029479827517), (4002, 0.021113290164817018), (4003, 0.0), (4004, 0.10825344320527441), (4005, 0.04642438057242098), (4006, 0.0), (4007, 0.07676463973638756), (4008, 0.00947064900487494), (4009, 0.00873729099655597), (4010, 0.0), (4011, 0.01399106743443763), (4012, 0.025996430702974745), (4013, 0.054878074288500486), (4014, 0.02504193163303399), (4015, 0.011466321375755708), (4016, 0.0440550627406937), (4017, 0.026230935868778338), (4018, 0.0), (4019, 0.026559982180633823), (4020, 0.014330884251160343), (4021, 0.0), (4022, 0.0), (4023, 0.08186908827912136), (4024, 0.017427025713969254), (4025, 0.026144737465502096), (4026, 0.0), (4027, 0.0), (4028, 0.036129865420527464), (4029, 0.0), (4030, 0.029609108580077762), (4031, 0.0), (4032, 0.030165633258980463), (4033, 0.05867834320450775), (4034, 0.0), (4035, 0.007923303158599768), (4036, 0.014300502782012666), (4037, 0.0), (4038, 0.04324147551454782), (4039, 0.025149261889739608), (4040, 0.0), (4041, 0.0), (4042, 0.022862831808885677), (4043, 0.03740102238105029), (4044, 0.02585955673550478), (4045, 0.04275334012218661), (4046, 0.04227008029196065), (4047, 0.048593675333571826), (4048, 0.09036346493343257), (4049, 0.015682896129851232), (4050, 0.0654459986686852), (4051, 0.016132448168681285), (4052, 0.028479118581763094), (4053, 0.07681273003703679), (4054, 0.015327799125380025), (4055, 0.00793204722896441), (4056, 0.014564165066046148), (4057, 0.009759382903249725), (4058, 0.0), (4059, 0.01455645753661003), (4060, 0.06221279434636101), (4061, 0.010846273628466116), (4062, 0.12194961924132336), (4063, 0.0), (4064, 0.0), (4065, 0.0), (4066, 0.012830530231871775), (4067, 0.0), (4068, 0.0837299760382699), (4069, 0.013883874845284817), (4070, 0.0), (4071, 0.025396051915391432), (4072, 0.0), (4073, 0.0), (4074, 0.012836597591009283), (4075, 0.020308795362354318), (4076, 0.0277058296249962), (4077, 0.010084917534392196), (4078, 0.0), (4079, 0.022558557615906364), (4080, 0.015861836038075533), (4081, 0.038209446896775884), (4082, 0.023972801623423745), (4083, 0.01563307040271214), (4084, 0.0), (4085, 0.01446944221164865), (4086, 0.0), (4087, 0.01653787141418641), (4088, 0.08400878305133411), (4089, 0.04313659063484085), (4090, 0.029112583243131835), (4091, 0.02921981450436651), (4092, 0.06787555400737447), (4093, 0.04007628481603048), (4094, 0.04857390207825075), (4095, 0.06970411445130703), (4096, 0.05672700008777649), (4097, 0.0), (4098, 0.05204681662608793), (4099, 0.008659515147312063), (4100, 0.0), (4101, 0.015648670245569714), (4102, 0.02427295736014685), (4103, 0.02504832304983609), (4104, 0.0138628206161104), (4105, 0.04727009850394011), (4106, 0.031198440701695362), (4107, 0.020648259037779063), (4108, 0.0), (4109, 0.0), (4110, 0.007412678994335261), (4111, 0.019184744349050254), (4112, 0.0), (4113, 0.015458774795124463), (4114, 0.0), (4115, 0.0), (4116, 0.09697713208553907), (4117, 0.01862841135174394), (4118, 0.04877222222253443), (4119, 0.030895644641008652), (4120, 0.03389994150173114), (4121, 0.07480278023498126), (4122, 0.05501658455285945), (4123, 0.084252662814543), (4124, 0.07458464323396383), (4125, 0.0), (4126, 0.028670078794656703), (4127, 0.0), (4128, 0.0), (4129, 0.015352476583004853), (4130, 0.015382171156150336), (4131, 0.0), (4132, 0.01608850326273967), (4133, 0.05723525103243249), (4134, 0.04677245156722432), (4135, 0.013480818176056565), (4136, 0.01552657257114996), (4137, 0.01415260280702127), (4138, 0.019776676255101606), (4139, 0.013158034665126389), (4140, 0.017217521481517225), (4141, 0.08140239959182066), (4142, 0.015266227296638759), (4143, 0.011392024120001353), (4144, 0.0), (4145, 0.01651015172903537), (4146, 0.0), (4147, 0.020579732037946264), (4148, 0.07165184369972119), (4149, 0.03167572221778028), (4150, 0.0), (4151, 0.02305359563150346), (4152, 0.012616148462264696), (4153, 0.0), (4154, 0.032729273267354676), (4155, 0.014169149250800823), (4156, 0.039302699581872505), (4157, 0.0), (4158, 0.03008383917042072), (4159, 0.0), (4160, 0.020450096411514924), (4161, 0.020494066887503118), (4162, 0.03570122401861989), (4163, 0.07261668714818581), (4164, 0.06205604357542639), (4165, 0.04260025911339682), (4166, 0.0), (4167, 0.0), (4168, 0.0), (4169, 0.01802440334264482), (4170, 0.0), (4171, 0.010308762116378203), (4172, 0.03792602388583775), (4173, 0.0), (4174, 0.012683735171062398), (4175, 0.08254464668102114), (4176, 0.05866959277599759), (4177, 0.04689374871533549), (4178, 0.08290358897516684), (4179, 0.0), (4180, 0.0), (4181, 0.0), (4182, 0.01740439613846001), (4183, 0.014706341781499587), (4184, 0.02194108914002073), (4185, 0.0), (4186, 0.0), (4187, 0.06253545143733447), (4188, 0.0), (4189, 0.09145067214765047), (4190, 0.0), (4191, 0.0), (4192, 0.0491239643192421), (4193, 0.025948808882264817), (4194, 0.0), (4195, 0.0), (4196, 0.009902858189032797), (4197, 0.01488254110443834), (4198, 0.0), (4199, 0.0), (4200, 0.011207485797108938), (4201, 0.0), (4202, 0.024450772871504187), (4203, 0.08692973323376152), (4204, 0.0), (4205, 0.020630475091278886), (4206, 0.016129476766256957), (4207, 0.0), (4208, 0.04212543263334894), (4209, 0.024043484023843344), (4210, 0.008621022842728726), (4211, 0.025088635917650776), (4212, 0.0), (4213, 0.019296217992929302), (4214, 0.0), (4215, 0.0), (4216, 0.0646529519470578), (4217, 0.008977109472836134), (4218, 0.0), (4219, 0.04767230535991395), (4220, 0.013647866631964357), (4221, 0.0327148047355139), (4222, 0.028551372469662842), (4223, 0.0), (4224, 0.0), (4225, 0.020749909177795824), (4226, 0.012873246294486019), (4227, 0.08076056382497598), (4228, 0.021167293971706976), (4229, 0.0), (4230, 0.03350274283907707), (4231, 0.12691318159150555), (4232, 0.0523908611958988), (4233, 0.04353552859637176), (4234, 0.0), (4235, 0.06498657627590858), (4236, 0.009811260185070544), (4237, 0.0), (4238, 0.0), (4239, 0.0), (4240, 0.027833526388251626), (4241, 0.0), (4242, 0.1485921263444311), (4243, 0.027356941566219258), (4244, 0.11411635363720042), (4245, 0.016943946568018835), (4246, 0.07134553623159012), (4247, 0.013069504475250961), (4248, 0.027036099355937933), (4249, 0.04753787469272781), (4250, 0.0), (4251, 0.031256484056675596), (4252, 0.08858152593976855), (4253, 0.0), (4254, 0.020286243343565248), (4255, 0.050170852564801395), (4256, 0.0), (4257, 0.021491062266169474), (4258, 0.0), (4259, 0.01787519480570041), (4260, 0.0), (4261, 0.028629893010872376), (4262, 0.016993948012389366), (4263, 0.01597773522190943), (4264, 0.027646472039263133), (4265, 0.07452189985512862), (4266, 0.015960998848246165), (4267, 0.017907117752357614), (4268, 0.11749707486291575), (4269, 0.01670056051363285), (4270, 0.0), (4271, 0.0), (4272, 0.00954063247110804), (4273, 0.01715098352350915), (4274, 0.024703049347881475), (4275, 0.0289257540770644), (4276, 0.0), (4277, 0.014090486267798104), (4278, 0.0), (4279, 0.0), (4280, 0.01979037038504041), (4281, 0.0679438294781128), (4282, 0.035884709474876174), (4283, 0.062908338988728), (4284, 0.04292322952925788), (4285, 0.036580313807316474), (4286, 0.015928627633119977), (4287, 0.01684052069244603), (4288, 0.12196749432785708), (4289, 0.04525640328686853), (4290, 0.02454446952337845), (4291, 0.0), (4292, 0.02744774929796336), (4293, 0.07231729259023037), (4294, 0.0), (4295, 0.01824932221984279), (4296, 0.01687856700762199), (4297, 0.0), (4298, 0.024258325531059367), (4299, 0.03975629340860418), (4300, 0.0), (4301, 0.01647447626092262), (4302, 0.0), (4303, 0.008322328267665574), (4304, 0.01695135680520643), (4305, 0.0), (4306, 0.022356649703619214), (4307, 0.03537855669376443), (4308, 0.022498524988813932), (4309, 0.0439018668106107), (4310, 0.03143647169126636), (4311, 0.018513229944418882), (4312, 0.02936886522600568), (4313, 0.0), (4314, 0.02187490142684608), (4315, 0.0), (4316, 0.0), (4317, 0.0), (4318, 0.020835598407008687), (4319, 0.0), (4320, 0.015951517735688925), (4321, 0.032065773069130415), (4322, 0.025139398725125762), (4323, 0.0), (4324, 0.0), (4325, 0.061469664420177816), (4326, 0.019117693815145026), (4327, 0.0), (4328, 0.024284202269948006), (4329, 0.0), (4330, 0.01606032629704957), (4331, 0.03877506239448602), (4332, 0.0), (4333, 0.018780945057186405), (4334, 0.016037498303264768), (4335, 0.02385783954057463), (4336, 0.02187546740191475), (4337, 0.04463727315217742), (4338, 0.0), (4339, 0.024720208818702526), (4340, 0.016324833293169062), (4341, 0.0), (4342, 0.009622173824240219), (4343, 0.016306979887470974), (4344, 0.03926780963122854), (4345, 0.012811645937679786), (4346, 0.0), (4347, 0.0), (4348, 0.01573292872473621), (4349, 0.039150236167500296), (4350, 0.01275160370435531), (4351, 0.010318427625327812), (4352, 0.0), (4353, 0.0), (4354, 0.0178017695401689), (4355, 0.01547198454668676), (4356, 0.015196549488744052), (4357, 0.015235794890024629), (4358, 0.0), (4359, 0.013865647039111103), (4360, 0.02809212041872167), (4361, 0.0204280579167273), (4362, 0.09678378622478986), (4363, 0.017832764495401072), (4364, 0.0), (4365, 0.02115375547861532), (4366, 0.045006136719196455), (4367, 0.009494433667991754), (4368, 0.017575792413556703), (4369, 0.019892770061892148), (4370, 0.0), (4371, 0.027365231796580677), (4372, 0.0), (4373, 0.00708478274106022), (4374, 0.07871445831634), (4375, 0.1512344598510562), (4376, 0.02738154808046142), (4377, 0.028391110931689292), (4378, 0.06622350923363887), (4379, 0.08134194016472839), (4380, 0.09350512692767744), (4381, 0.015307333484690828), (4382, 0.04137916754710329), (4383, 0.028274651483982203), (4384, 0.029491621409075425), (4385, 0.008407669974848167), (4386, 0.017518999652624618), (4387, 0.08068861460481005), (4388, 0.009703509920053874), (4389, 0.032242406582168384), (4390, 0.052705022268329946), (4391, 0.01849099303923052), (4392, 0.028104879995914253), (4393, 0.0), (4394, 0.014341165793398567), (4395, 0.048992595155974386), (4396, 0.07036319232683343), (4397, 0.018742758877622726), (4398, 0.049196553077619415), (4399, 0.03610485738826111), (4400, 0.02567322235729284), (4401, 0.016536315287976836), (4402, 0.03751102357492607), (4403, 0.13933293600665805), (4404, 0.0), (4405, 0.0), (4406, 0.0), (4407, 0.021703271841920606), (4408, 0.0), (4409, 0.018586311422257314), (4410, 0.0), (4411, 0.012619969150462092), (4412, 0.0609902887851253), (4413, 0.0), (4414, 0.0), (4415, 0.0), (4416, 0.021857148237019876), (4417, 0.0), (4418, 0.02313555839975122), (4419, 0.02141262341109133), (4420, 0.015069143029034851), (4421, 0.0), (4422, 0.016762078087550474), (4423, 0.030249416572213344), (4424, 0.0), (4425, 0.0), (4426, 0.024783776565288282), (4427, 0.016295264321002034), (4428, 0.0128417400879215), (4429, 0.013556876156640767), (4430, 0.04689056225358808), (4431, 0.06092564051925065), (4432, 0.035810982066856144), (4433, 0.0), (4434, 0.0), (4435, 0.055954779469105875), (4436, 0.09856177866544369), (4437, 0.0), (4438, 0.026772448045501312), (4439, 0.0), (4440, 0.0752462516540033), (4441, 0.027453686468249014), (4442, 0.05145215533520636), (4443, 0.05868886289990122), (4444, 0.0687179856488586), (4445, 0.011960845708326557), (4446, 0.015795208760246773), (4447, 0.0), (4448, 0.016663959768827504), (4449, 0.0), (4450, 0.08345886925327291), (4451, 0.0), (4452, 0.0), (4453, 0.0), (4454, 0.0), (4455, 0.0), (4456, 0.07020066377608591), (4457, 0.0), (4458, 0.027356941566219258), (4459, 0.008616867709189034), (4460, 0.0), (4461, 0.021123636050629575), (4462, 0.03173213583146905), (4463, 0.0), (4464, 0.04019633800809832), (4465, 0.08847656988436783), (4466, 0.052719521627902076), (4467, 0.010438865683719156), (4468, 0.02283373053921727), (4469, 0.1188499935742539), (4470, 0.04508184211416506), (4471, 0.017926683518478932), (4472, 0.01445939336751559), (4473, 0.012156997996320109), (4474, 0.09462356423095974), (4475, 0.09215461318042689), (4476, 0.013212701998798052), (4477, 0.07614536563401843), (4478, 0.0), (4479, 0.012755491646981826), (4480, 0.0), (4481, 0.06114606103273518), (4482, 0.022508176165823523), (4483, 0.0), (4484, 0.02501121545255989), (4485, 0.0), (4486, 0.05305870412404976), (4487, 0.013753297093153058), (4488, 0.023281536172814348), (4489, 0.015737222697553798), (4490, 0.051054284707986335), (4491, 0.0), (4492, 0.02701274208063114), (4493, 0.0), (4494, 0.046072442633199526), (4495, 0.016650521322586216), (4496, 0.0), (4497, 0.018749956599656198), (4498, 0.0), (4499, 0.0), (4500, 0.0), (4501, 0.016098743898554996), (4502, 0.04756697112815952), (4503, 0.08065380905295522), (4504, 0.03552331576965938), (4505, 0.01909279125190579), (4506, 0.0), (4507, 0.020454183310057234), (4508, 0.0), (4509, 0.0), (4510, 0.0761056473294994), (4511, 0.024989145462553347), (4512, 0.14588746836358812), (4513, 0.02399730152274635), (4514, 0.05929041959598482), (4515, 0.03807537965821595), (4516, 0.017981670199739026), (4517, 0.058213802206482035), (4518, 0.037925644515280986), (4519, 0.0), (4520, 0.01590009581235353), (4521, 0.024141499196011374), (4522, 0.07529430215113297), (4523, 0.035928616542430104), (4524, 0.050945606075329754), (4525, 0.0), (4526, 0.0), (4527, 0.036023643707646484), (4528, 0.019512716258758573), (4529, 0.02532530931087209), (4530, 0.015082064750942347), (4531, 0.089216204663322), (4532, 0.0), (4533, 0.0481961528849405), (4534, 0.056901484625320214), (4535, 0.016062791996468345), (4536, 0.01476463652409494), (4537, 0.05319477064245752), (4538, 0.07220021192218022), (4539, 0.0), (4540, 0.03297737482249102), (4541, 0.0), (4542, 0.0), (4543, 0.07689571773454648), (4544, 0.027372276534945773), (4545, 0.017248729726513347), (4546, 0.06165304140580457), (4547, 0.0), (4548, 0.0275116219866993), (4549, 0.0), (4550, 0.012844719066677397), (4551, 0.06229103696185148), (4552, 0.02824583454162877), (4553, 0.06034480720666745), (4554, 0.11336819015061055), (4555, 0.02001676451909527), (4556, 0.0), (4557, 0.039920393049211994), (4558, 0.0), (4559, 0.0), (4560, 0.0), (4561, 0.0), (4562, 0.0), (4563, 0.015494434339237752), (4564, 0.009304411183836452), (4565, 0.0), (4566, 0.016318382737647984), (4567, 0.015453242886443641), (4568, 0.0), (4569, 0.0), (4570, 0.0), (4571, 0.040027464934219735), (4572, 0.03297737482249102), (4573, 0.022329897336042015), (4574, 0.016262013548000446), (4575, 0.01736908383989505), (4576, 0.04792631614672488), (4577, 0.0), (4578, 0.0), (4579, 0.060305221867773984), (4580, 0.0), (4581, 0.03784576316505147), (4582, 0.024763592077648635), (4583, 0.023867501395137897), (4584, 0.01878177808182663), (4585, 0.026188673025042297), (4586, 0.030568091300761567), (4587, 0.02911818310702494), (4588, 0.0), (4589, 0.020301840350256357), (4590, 0.03471857984372971), (4591, 0.0360759716268063), (4592, 0.0), (4593, 0.05450718971341008), (4594, 0.01990722049136581), (4595, 0.033168864063279825), (4596, 0.01655743973205566), (4597, 0.0), (4598, 0.013719340485483511), (4599, 0.0), (4600, 0.0), (4601, 0.03936183529610104), (4602, 0.017624535905441784), (4603, 0.026275167292030152), (4604, 0.01810651673538933), (4605, 0.027704016345949264), (4606, 0.02443099039329893), (4607, 0.023031522054438834), (4608, 0.014424887163700642), (4609, 0.0), (4610, 0.056816707790679856), (4611, 0.028021295446145542), (4612, 0.05633816999450754), (4613, 0.0), (4614, 0.1565885035436968), (4615, 0.0), (4616, 0.01768837250769499), (4617, 0.11904910499930223), (4618, 0.0), (4619, 0.07470676024330583), (4620, 0.013926671449570847), (4621, 0.029904859937001513), (4622, 0.0), (4623, 0.06933142241256587), (4624, 0.04031127885637998), (4625, 0.020047761867499337), (4626, 0.012408102373359705), (4627, 0.030682828060415644), (4628, 0.0), (4629, 0.044378025779156755), (4630, 0.03331560656576193), (4631, 0.0), (4632, 0.027356941566219258), (4633, 0.01785941671595347), (4634, 0.013837424688487431), (4635, 0.0), (4636, 0.013574895163457092), (4637, 0.11641779712583569), (4638, 0.016444352753100924), (4639, 0.02657588087834479), (4640, 0.034427901253787335), (4641, 0.06253734630739427), (4642, 0.038810780423687796), (4643, 0.015603732223402429), (4644, 0.0), (4645, 0.0), (4646, 0.040738436785122976), (4647, 0.0), (4648, 0.0), (4649, 0.021634515184147877), (4650, 0.017909747564834662), (4651, 0.0), (4652, 0.020784778124550412), (4653, 0.0366504505503162), (4654, 0.0), (4655, 0.0), (4656, 0.05151688662701567), (4657, 0.01794489394711722), (4658, 0.085316171575182), (4659, 0.0), (4660, 0.056934531921497736), (4661, 0.0366656209643941), (4662, 0.0), (4663, 0.09955605442128716), (4664, 0.037716677813516265), (4665, 0.0319102721548383), (4666, 0.05971759667884688), (4667, 0.0), (4668, 0.017677078370199127), (4669, 0.09335945848420371), (4670, 0.04273960170637861), (4671, 0.0), (4672, 0.0), (4673, 0.081870398099721), (4674, 0.039400217493082215), (4675, 0.0), (4676, 0.0), (4677, 0.03983179951882618), (4678, 0.027606160348528738), (4679, 0.09388100870941422), (4680, 0.01734952796361572), (4681, 0.0), (4682, 0.03370299089257522), (4683, 0.0), (4684, 0.09231965362976223), (4685, 0.03088956590343822), (4686, 0.01606858196246514), (4687, 0.01509402088884985), (4688, 0.0), (4689, 0.08072543548059236), (4690, 0.0), (4691, 0.04523787896743989), (4692, 0.023530415186523174), (4693, 0.02447134139598746), (4694, 0.020977804113343893), (4695, 0.04354089116107121), (4696, 0.02936318163623849), (4697, 0.024801839852864018), (4698, 0.048774195418019486), (4699, 0.05333533231187064), (4700, 0.0), (4701, 0.08384639896477344), (4702, 0.0), (4703, 0.026640371385138185), (4704, 0.025526050663373927), (4705, 0.02515326149004807), (4706, 0.026816499750081577), (4707, 0.054267115821935996), (4708, 0.027211882871253975), (4709, 0.1092294154287225), (4710, 0.0749389467921819), (4711, 0.0), (4712, 0.015465054937975429), (4713, 0.022224828248202926), (4714, 0.0), (4715, 0.04602209295524659), (4716, 0.0), (4717, 0.027010603402100552), (4718, 0.025925674709467755), (4719, 0.021481153702123095), (4720, 0.0), (4721, 0.035635083043499084), (4722, 0.11179988754445172), (4723, 0.023685751006618325), (4724, 0.1559963374958705), (4725, 0.0), (4726, 0.008843386579022776), (4727, 0.054095762298921844), (4728, 0.0), (4729, 0.023804088854696658), (4730, 0.0), (4731, 0.09124978452393015), (4732, 0.017987260316405233), (4733, 0.03472858604409788), (4734, 0.025039548568038392), (4735, 0.13578476973046583), (4736, 0.0), (4737, 0.0), (4738, 0.010150589363951185), (4739, 0.0981242526854878), (4740, 0.0), (4741, 0.0), (4742, 0.0), (4743, 0.01676206125285866), (4744, 0.017514927326684956), (4745, 0.0), (4746, 0.04174492427352336), (4747, 0.10153159390622281), (4748, 0.020883036449751355), (4749, 0.028534911113935663), (4750, 0.0), (4751, 0.0), (4752, 0.010720461804368517), (4753, 0.03220264173191393), (4754, 0.0), (4755, 0.0), (4756, 0.018691095433624724), (4757, 0.04636972760358499), (4758, 0.0), (4759, 0.0)]\n"
          ]
        }
      ]
    },
    {
      "cell_type": "code",
      "source": [
        "len(Recommendation_Score)"
      ],
      "metadata": {
        "colab": {
          "base_uri": "https://localhost:8080/"
        },
        "id": "S8oTJbuQ8qzp",
        "outputId": "754f5a6c-c04e-4787-fe4e-e9883a059db3"
      },
      "execution_count": 68,
      "outputs": [
        {
          "output_type": "execute_result",
          "data": {
            "text/plain": [
              "4760"
            ]
          },
          "metadata": {},
          "execution_count": 68
        }
      ]
    },
    {
      "cell_type": "markdown",
      "source": [
        "# **Get All Movies Sort Based on Recommendation Score wrt Favourite Movie**"
      ],
      "metadata": {
        "id": "fVHO8Jgp9sZZ"
      }
    },
    {
      "cell_type": "code",
      "source": [
        "#sorting the movies based on their similarity score\n",
        "Sorted_Similar_Movies = sorted(Recommendation_Score, key= lambda x:x[1], reverse = True)\n",
        "print(Sorted_Similar_Movies)"
      ],
      "metadata": {
        "colab": {
          "base_uri": "https://localhost:8080/"
        },
        "id": "1UaZjXTa999P",
        "outputId": "b91f1fd9-89f3-4c0c-a96f-e82fa91b9b11"
      },
      "execution_count": 73,
      "outputs": [
        {
          "output_type": "stream",
          "name": "stdout",
          "text": [
            "[(2692, 1.0000000000000002), (2903, 0.21871537100806535), (3675, 0.17065553740382555), (1070, 0.16591407046862106), (675, 0.16431561558370106), (2768, 0.15875081187777684), (2558, 0.1576583609360021), (4614, 0.1565885035436968), (4724, 0.1559963374958705), (1148, 0.155437708057422), (4375, 0.1512344598510562), (2214, 0.15080878465133798), (628, 0.14873417774566283), (4242, 0.1485921263444311), (3946, 0.14736282241945084), (4512, 0.14588746836358812), (2932, 0.1439090950363035), (4403, 0.13933293600665805), (2275, 0.1371588346593701), (3154, 0.1368531606826387), (4735, 0.13578476973046583), (3119, 0.13482507909291636), (3012, 0.13439555398463168), (3019, 0.13364739108216966), (3465, 0.12923061096567617), (3374, 0.12912573274975386), (4231, 0.12691318159150555), (137, 0.12567056517202962), (947, 0.12514275872042352), (3652, 0.12333562015134313), (3959, 0.12265724363794611), (1383, 0.12260531327946622), (4288, 0.12196749432785708), (4062, 0.12194961924132336), (2638, 0.12130410375943705), (2649, 0.12105259595930981), (4617, 0.11904910499930223), (888, 0.11892763622383568), (4469, 0.1188499935742539), (2154, 0.11831771498928317), (4268, 0.11749707486291575), (3377, 0.11712217755282614), (4637, 0.11641779712583569), (172, 0.11640378935863749), (3883, 0.11590798943525202), (45, 0.11500457722859031), (1248, 0.11456529637860371), (4244, 0.11411635363720042), (3961, 0.11397753453491297), (4554, 0.11336819015061055), (3450, 0.11275049103126586), (3766, 0.11245701853536513), (2795, 0.11235566638044656), (4722, 0.11179988754445172), (590, 0.11163455581360363), (1997, 0.11034326489558395), (2040, 0.10996141565252053), (2037, 0.10983616559381677), (4709, 0.1092294154287225), (4004, 0.10825344320527441), (62, 0.10818994474954326), (112, 0.10806682351479098), (2406, 0.10790655555884678), (1292, 0.10714167048406875), (210, 0.10627382119109136), (3095, 0.10627008554417076), (2096, 0.10565466029111192), (1821, 0.10558257550963751), (3828, 0.10553076899442998), (2939, 0.10528643603502473), (860, 0.10489047672134205), (2191, 0.1045345754734722), (2229, 0.10451072991024857), (109, 0.10397085759266632), (2321, 0.10354902617073557), (68, 0.10349377994248396), (2026, 0.10304852356947145), (1064, 0.10294065356365895), (450, 0.10287085528419079), (2645, 0.10270889116850652), (2908, 0.10254373519871351), (2849, 0.10239031318881965), (986, 0.10223860667137129), (2464, 0.10165570347251175), (4747, 0.10153159390622281), (2846, 0.10147836755185165), (3708, 0.10139620879436739), (1341, 0.1011514848615087), (2751, 0.10095721264581331), (3553, 0.10054973389964558), (1141, 0.1005072794391762), (2727, 0.1003261537894636), (166, 0.10012484202808328), (3974, 0.099981441935993), (2210, 0.0999147078574437), (4663, 0.09955605442128716), (3086, 0.09954324942541518), (533, 0.09924128774432654), (1058, 0.09892732776708918), (4436, 0.09856177866544369), (3275, 0.0984915170256288), (360, 0.09829896098588006), (1671, 0.0981728620478247), (4739, 0.0981242526854878), (2112, 0.09808657545180816), (2374, 0.09747566982027234), (1275, 0.09745059850289006), (1320, 0.09709173666931295), (2174, 0.0970784102979934), (4116, 0.09697713208553907), (1527, 0.09692237596467863), (2276, 0.09686911406004384), (4362, 0.09678378622478986), (3312, 0.09625016405966277), (21, 0.09597553344245063), (1506, 0.09591642552939098), (429, 0.09580869261423856), (458, 0.09574157671032558), (1162, 0.09568857382902156), (1942, 0.09508765965215775), (2694, 0.09486605435555442), (2961, 0.09480262701676602), (1985, 0.09475355683302158), (3640, 0.09473236001089455), (4474, 0.09462356423095974), (904, 0.0945530842410746), (3978, 0.09441892287566535), (3384, 0.09438295570072344), (3466, 0.09426279325136129), (4679, 0.09388100870941422), (1015, 0.09378678533813986), (3483, 0.09372247002269277), (976, 0.09353485771123489), (4380, 0.09350512692767744), (227, 0.09339383895297033), (4669, 0.09335945848420371), (701, 0.09331449076754267), (3728, 0.09317195469125925), (2621, 0.09310220354221145), (2985, 0.09284558590627282), (3521, 0.0926528953409862), (876, 0.09256847382253544), (1132, 0.0924675422191903), (4684, 0.09231965362976223), (1243, 0.09216334032600135), (2538, 0.09215812273519544), (4475, 0.09215461318042689), (1264, 0.09210180033858456), (48, 0.0920744338447324), (3642, 0.09205323525119563), (2668, 0.09199459186939578), (937, 0.09193443585642527), (3597, 0.09163801364925492), (823, 0.09160268336671273), (1716, 0.09151929018982292), (4189, 0.09145067214765047), (4731, 0.09124978452393015), (1629, 0.09105827638755024), (2023, 0.09080408823919746), (3043, 0.09071134932608414), (942, 0.09069072176181717), (1591, 0.09058041755771261), (126, 0.09040951483185065), (4048, 0.09036346493343257), (673, 0.0902383778609106), (3210, 0.09003451106426169), (1853, 0.08990121994807954), (1572, 0.0896846057974087), (530, 0.08952206918330402), (1385, 0.08928774025879102), (4531, 0.089216204663322), (1035, 0.08917013169660734), (905, 0.08909350722264092), (1970, 0.0890322639288499), (3694, 0.08899152948489086), (2808, 0.08888858169568975), (124, 0.08888489683697753), (584, 0.08887274018266396), (1393, 0.08869295013671441), (4252, 0.08858152593976855), (4465, 0.08847656988436783), (1184, 0.08831609934120456), (481, 0.08829932252721553), (2607, 0.08823795364559056), (1325, 0.08801981140568213), (3777, 0.08798461429177311), (1687, 0.08784666922945546), (760, 0.08766515718247497), (51, 0.08746490577362839), (3437, 0.0874601578595616), (2996, 0.0874322861385633), (334, 0.08734538042652538), (799, 0.08732076528685924), (2487, 0.08731771268586132), (3097, 0.08706372424668973), (4203, 0.08692973323376152), (1314, 0.08669923127829643), (2655, 0.08665687965302536), (682, 0.08658366874673197), (896, 0.0865040365440577), (3801, 0.0864901643216988), (145, 0.08619395783776825), (753, 0.08619289969945337), (870, 0.08618712702012034), (44, 0.08614348641841392), (2334, 0.08605846370506037), (2791, 0.08586889667226104), (3360, 0.08571239822319746), (2196, 0.08551604467658315), (3045, 0.08533936889305901), (4658, 0.085316171575182), (1068, 0.0853141072973772), (1369, 0.08529890160825497), (1740, 0.08496050866189847), (292, 0.08479975373559939), (1678, 0.08478547596877985), (864, 0.08477030846854698), (694, 0.08469959765793827), (2053, 0.08462485459626407), (2716, 0.08461667442629589), (3249, 0.08457666414752789), (643, 0.08449534668082984), (3076, 0.08438203766854105), (1621, 0.08435312357189555), (4123, 0.084252662814543), (2784, 0.0842118488514655), (3973, 0.08419404417127685), (3349, 0.08419271603524486), (1119, 0.08404616911078205), (4088, 0.08400878305133411), (2024, 0.0838989150496687), (4701, 0.08384639896477344), (795, 0.08379670267006739), (4068, 0.0837299760382699), (2919, 0.0836054683536859), (149, 0.08359164860579901), (1173, 0.0835683864273752), (4450, 0.08345886925327291), (447, 0.08339845383492556), (629, 0.08321477529551843), (2522, 0.08310281201810688), (502, 0.08309472094439452), (1937, 0.08297072536318997), (1183, 0.08293872736580044), (4178, 0.08290358897516684), (4000, 0.08290227389408185), (1302, 0.08289714750482619), (3504, 0.08288570615824437), (3768, 0.08288176235923422), (1017, 0.0827099538177581), (2602, 0.08262756040742437), (4175, 0.08254464668102114), (2254, 0.08253768836000533), (534, 0.08253405075738311), (669, 0.08248301633983078), (3403, 0.08234228385904646), (3670, 0.08225115067204947), (190, 0.08221786705004247), (2383, 0.08214454766320384), (199, 0.08209719804761698), (213, 0.08209460643314251), (842, 0.0820572295497217), (543, 0.0819282793158457), (4673, 0.081870398099721), (4023, 0.08186908827912136), (2133, 0.08186855130225146), (1343, 0.08185777225091584), (622, 0.08177390528013322), (1412, 0.08156219134873373), (1232, 0.08142957176024326), (4141, 0.08140239959182066), (3498, 0.08137568096316397), (2778, 0.08135127847556575), (4379, 0.08134194016472839), (1483, 0.08129563117744815), (3293, 0.08126026990147191), (670, 0.08122152145634128), (879, 0.0811274632484492), (3862, 0.08110804384004225), (2295, 0.08099349675950575), (89, 0.080982994014024), (83, 0.08097756277331301), (1360, 0.08077094370268796), (4227, 0.08076056382497598), (4689, 0.08072543548059236), (3317, 0.0807149522118368), (2695, 0.0807138695579777), (4387, 0.08068861460481005), (4503, 0.08065380905295522), (2151, 0.08064307630909705), (1023, 0.08061637286754657), (3280, 0.08030747426191756), (2318, 0.08026893353905547), (2248, 0.08012652636478668), (2540, 0.0800775141939372), (3326, 0.08007463075427378), (2978, 0.08005651304522773), (3228, 0.0800311205539001), (2109, 0.08000122717727892), (2346, 0.07973118657389468), (282, 0.07963480701349653), (3127, 0.07961217107177895), (877, 0.07949931645033788), (1224, 0.07937567132849326), (463, 0.07925877806260756), (1983, 0.07924635420420084), (1832, 0.07924576438374048), (3655, 0.07923030514932648), (108, 0.07901725453357367), (1721, 0.07894608533154668), (3110, 0.07894374809921101), (2777, 0.07886393786897754), (4374, 0.07871445831634), (3699, 0.07866916435417577), (123, 0.0786627936401815), (3713, 0.07863680175898807), (370, 0.07857234080577097), (1337, 0.0783094003560284), (3949, 0.07824048231818831), (1335, 0.0781925421654892), (989, 0.07809948427572888), (1815, 0.07790857602605879), (3486, 0.07769698845639397), (1665, 0.0776078535193012), (3854, 0.07756039184805691), (1994, 0.07754828158177085), (2486, 0.07746926801573961), (604, 0.07743842887290302), (2653, 0.07742681767116516), (3370, 0.07718111515222659), (652, 0.0771459450190992), (2363, 0.07703650844026907), (3741, 0.07693086477682556), (4543, 0.07689571773454648), (866, 0.07686787344798329), (1681, 0.07684891379700787), (4053, 0.07681273003703679), (4007, 0.07676463973638756), (3535, 0.07671862288135825), (2216, 0.07666287494089125), (236, 0.07659048983485577), (3660, 0.07641251853253976), (18, 0.07632875847203767), (3684, 0.07627378116641567), (3659, 0.07621146826184388), (1481, 0.07619923279222335), (4477, 0.07614536563401843), (3334, 0.07612639614864372), (4510, 0.0761056473294994), (67, 0.07585038220009926), (1967, 0.07578298809103984), (3807, 0.0757483002320942), (207, 0.07552855926845965), (2224, 0.07541352524132428), (911, 0.07540790817027775), (4522, 0.07529430215113297), (2187, 0.07524898466318423), (4440, 0.0752462516540033), (1237, 0.07509640640356531), (1739, 0.07505751990850193), (3819, 0.07500807216836408), (4710, 0.0749389467921819), (3556, 0.07493349700187568), (3711, 0.07492737123127001), (2284, 0.074893753561166), (4121, 0.07480278023498126), (4619, 0.07470676024330583), (1667, 0.0746868175615939), (4124, 0.07458464323396383), (4265, 0.07452189985512862), (3984, 0.07422801038233945), (438, 0.07409625386462676), (873, 0.07397603947773237), (342, 0.07387652303481866), (276, 0.07373213651724467), (988, 0.07368302071851048), (2963, 0.07363689122844638), (1252, 0.07351519189104003), (667, 0.07347836985570984), (1680, 0.07342803479737542), (1104, 0.07330140346862823), (3637, 0.07329912727614593), (1478, 0.07322920731574353), (678, 0.07322751431481966), (2468, 0.07313659504666861), (2788, 0.07313628803247862), (1203, 0.07308892041428476), (70, 0.07308487770239999), (2206, 0.0729818867134488), (2066, 0.0729078671974331), (832, 0.07285073279712106), (676, 0.07279344418795172), (2093, 0.07275075268581117), (3947, 0.07269241637245501), (4163, 0.07261668714818581), (1074, 0.07244924748628782), (147, 0.07236504730564321), (87, 0.0723538389578526), (4293, 0.07231729259023037), (4538, 0.07220021192218022), (2255, 0.07217105680073585), (371, 0.07215653013946034), (2070, 0.0720686466705445), (2080, 0.07192568036971711), (878, 0.07181918352543024), (875, 0.0717951774663366), (3118, 0.07177613677038631), (1949, 0.07175535126665945), (1432, 0.07169523773848267), (4148, 0.07165184369972119), (519, 0.07150353671435608), (52, 0.07149554839065804), (1568, 0.07138487726664605), (4246, 0.07134553623159012), (3849, 0.0711099651995484), (274, 0.07108400508643767), (3992, 0.07099313130664686), (1542, 0.07093174148113857), (3635, 0.07088195725709284), (2336, 0.07087713495072065), (2110, 0.07083096309402923), (654, 0.07076403719356522), (412, 0.0707522730231049), (2742, 0.07073212976581675), (3085, 0.07063518021415821), (4396, 0.07036319232683343), (1024, 0.07029051095795565), (3416, 0.07028030766714005), (1000, 0.07024351218143066), (4456, 0.07020066377608591), (2412, 0.07003651117456798), (1107, 0.06999148574849429), (829, 0.06989256094366592), (2235, 0.06987575194774782), (1226, 0.06987500720822098), (827, 0.06985443316870811), (4095, 0.06970411445130703), (2910, 0.06966542060493743), (3318, 0.0696627982162761), (2918, 0.06957552888343221), (1030, 0.06954873846911122), (2739, 0.06950158404043907), (967, 0.06946161485596043), (1796, 0.06938390064377639), (1595, 0.06937960593969486), (4623, 0.06933142241256587), (695, 0.06924625553046344), (2155, 0.06917096346123422), (3661, 0.06912762163429852), (3692, 0.06910145705772727), (3507, 0.06907274969071431), (3035, 0.06904873309743868), (2343, 0.06899796299945236), (2550, 0.06897461343238881), (952, 0.06897048980734072), (173, 0.06896508850321052), (1047, 0.06891147286263263), (1847, 0.06886941472807617), (3010, 0.06884693419839447), (144, 0.06877581080722286), (418, 0.06874884070815579), (201, 0.06874729029759102), (2780, 0.06874579340126002), (2280, 0.06872571462483076), (1471, 0.06871947277643208), (4444, 0.0687179856488586), (1377, 0.06851881268751342), (2617, 0.06832904804422235), (3306, 0.06830311128869149), (1417, 0.06822125330955871), (1115, 0.06810111730653037), (1053, 0.0680929174314296), (916, 0.06806403653150236), (3155, 0.0680091715801335), (281, 0.06795781842664161), (4281, 0.0679438294781128), (2879, 0.06789226316981967), (4092, 0.06787555400737447), (1861, 0.06787469765815028), (254, 0.06782721937657353), (2524, 0.06772570946084482), (88, 0.06771106439658421), (1923, 0.06765750369020027), (138, 0.06759402923558598), (928, 0.06751664712209911), (209, 0.06743857859627642), (2600, 0.06737753050662373), (1991, 0.06737738582357064), (3171, 0.06712667409373141), (3157, 0.06710804532062777), (2375, 0.06682131469044685), (1134, 0.0667332817755957), (1185, 0.06672299376149463), (1455, 0.06661080979798238), (4378, 0.06622350923363887), (1436, 0.06620415667407081), (931, 0.06618792900461773), (84, 0.06614570594849283), (2447, 0.06608707970103073), (918, 0.06577244557731762), (515, 0.06576070041571926), (689, 0.06569385546033617), (1259, 0.06558567939991558), (4050, 0.0654459986686852), (1958, 0.06531824955557877), (2859, 0.0652335223216017), (3924, 0.06514928737507097), (853, 0.06505094978437172), (2119, 0.06501320692616609), (4235, 0.06498657627590858), (825, 0.06493060022880556), (1290, 0.06492218398825066), (2188, 0.06486313452631645), (653, 0.064831682563853), (968, 0.06481805374738098), (2228, 0.06479469316898608), (3294, 0.0647425664881376), (2429, 0.0646904281688466), (540, 0.06467571460202623), (4216, 0.0646529519470578), (2697, 0.0646096661970893), (2944, 0.06452631939669473), (2057, 0.06452005352519641), (1874, 0.06450547476896043), (2948, 0.06445634001100382), (1272, 0.06445099425359528), (406, 0.06439309444478411), (2178, 0.06437793454386247), (1054, 0.06434507954818085), (3746, 0.06433666442455785), (2622, 0.0643038845672614), (1858, 0.06428838292629555), (280, 0.06401669068735834), (3382, 0.06398271518907239), (790, 0.06393492574802903), (560, 0.06380439995052718), (2625, 0.06369141059960542), (2815, 0.06366695148761406), (2925, 0.06359615100544101), (1063, 0.06357205523786008), (483, 0.0635683927034145), (2581, 0.0634790607792771), (3582, 0.06346259585594287), (142, 0.06344054604014342), (3209, 0.06342203739619331), (683, 0.06335744924039063), (3344, 0.06330490299307724), (244, 0.06319784624889516), (500, 0.06319417832699947), (1419, 0.06315998464615097), (1774, 0.0631017141044448), (396, 0.06309639273670072), (3993, 0.06300779766605819), (4283, 0.062908338988728), (3810, 0.06290793095195574), (1406, 0.06282753827873287), (2123, 0.06278699704861981), (3153, 0.06275134490298656), (1754, 0.06272873219377714), (3756, 0.0626952988707134), (1018, 0.06265334649200151), (72, 0.06258929471724432), (287, 0.06256387231743014), (4641, 0.06253734630739427), (4187, 0.06253545143733447), (1992, 0.062413372337904574), (3123, 0.0622989357949819), (4551, 0.06229103696185148), (3794, 0.06221758610106522), (4060, 0.06221279434636101), (2771, 0.062095362581552495), (1585, 0.062067897567585975), (4164, 0.06205604357542639), (2886, 0.06204840620495902), (485, 0.062001910343145984), (2162, 0.06199825004493483), (3407, 0.06194562115236491), (1257, 0.061931176068755686), (1845, 0.06190420743269432), (170, 0.06188137678473365), (1513, 0.06185710948701972), (3518, 0.06181212468086007), (692, 0.06179399202470941), (3070, 0.06165355668347523), (4546, 0.06165304140580457), (105, 0.06160105602936311), (2647, 0.061494425505817435), (4325, 0.061469664420177816), (1544, 0.06145107438546352), (2934, 0.06139481879846309), (1871, 0.06129421592387474), (2055, 0.06124923735103263), (4481, 0.06114606103273518), (1789, 0.06110980728231964), (345, 0.06108574606459003), (4412, 0.0609902887851253), (4431, 0.06092564051925065), (1989, 0.06091748707831192), (120, 0.060893059580969314), (2871, 0.06069822740232105), (291, 0.06067911989862314), (830, 0.060558353456422104), (3775, 0.060471760404289976), (1727, 0.06046541229553167), (2489, 0.060456073133125336), (3680, 0.06042802727863977), (4553, 0.06034480720666745), (4579, 0.060305221867773984), (1339, 0.06023265730341493), (479, 0.06012214814494626), (1236, 0.060119709536658884), (801, 0.06010037225025239), (328, 0.05999849930287081), (532, 0.05999542252246298), (3433, 0.05980730118507627), (1675, 0.059796734952939745), (116, 0.05979173295873429), (4666, 0.05971759667884688), (3351, 0.0594851920523365), (470, 0.05940841751065974), (915, 0.05939959974264898), (2097, 0.05936804835889624), (1303, 0.059348786399594206), (4514, 0.05929041959598482), (2913, 0.05928849628322953), (3860, 0.05928196839876489), (2546, 0.05927504484452937), (566, 0.05926831383127451), (3185, 0.0592637190506095), (3049, 0.05897153026182734), (277, 0.05892086943734431), (1788, 0.058919901447664666), (3999, 0.058856250979874236), (4443, 0.05868886289990122), (4033, 0.05867834320450775), (4176, 0.05866959277599759), (2075, 0.05865430899009963), (3872, 0.05858797568614764), (1865, 0.05847544878200847), (1230, 0.05838970193032482), (85, 0.058252851748424865), (4517, 0.058213802206482035), (2869, 0.05819629419057099), (304, 0.05816607859759931), (2212, 0.05808374138528469), (3901, 0.05805689914040107), (1510, 0.058011345436625325), (181, 0.05785966213447061), (43, 0.05784055117235775), (3471, 0.05760496053343991), (148, 0.057587112747792074), (2077, 0.0575148366727621), (99, 0.05750870028087787), (1850, 0.057411312015244916), (578, 0.057397460375606196), (2635, 0.05738206083418873), (417, 0.057371650690960875), (40, 0.05730326236375084), (1234, 0.057268273063186284), (4133, 0.05723525103243249), (1367, 0.05719832547001792), (329, 0.0571767339857384), (792, 0.05710812724493505), (547, 0.05710586585661314), (3446, 0.05708519527103023), (1043, 0.056958370788250764), (4660, 0.056934531921497736), (4534, 0.056901484625320214), (270, 0.05686181573521792), (4610, 0.056816707790679856), (442, 0.05676908536739507), (4096, 0.05672700008777649), (2598, 0.056726941793958444), (894, 0.05660444001559538), (1736, 0.05651227926422425), (47, 0.056502663192498165), (1440, 0.05647598240279407), (216, 0.05641529495054323), (2408, 0.05634438970525052), (4612, 0.05633816999450754), (2029, 0.056315293459331846), (206, 0.05627826125038602), (2252, 0.056152256218470566), (818, 0.056147143520270906), (501, 0.05612561663009899), (2122, 0.05610341157322317), (874, 0.056090136055988116), (3137, 0.056017680081130415), (621, 0.05598294375465783), (1694, 0.055975179137147016), (4435, 0.055954779469105875), (1348, 0.055936885531411205), (544, 0.05590105700258585), (1160, 0.05587361199847077), (3955, 0.05586101659455881), (3508, 0.05574567720940213), (3638, 0.055744443494987486), (806, 0.055723142268571835), (3704, 0.05569962988404413), (2126, 0.055632585371481), (935, 0.055620772799897626), (1061, 0.05560317605497889), (208, 0.055576906573708486), (1338, 0.05557391731666846), (2459, 0.05555050295216434), (3032, 0.0554204468535264), (2689, 0.055282090293745055), (2555, 0.05515537752732735), (2428, 0.0550858477866996), (5, 0.055031463308799614), (4122, 0.05501658455285945), (1092, 0.05500655637270841), (1116, 0.05493805694200968), (3099, 0.054922595914248765), (4013, 0.054878074288500486), (3325, 0.054808621691940416), (558, 0.054734233554199256), (2443, 0.05466333381996606), (333, 0.05464053556541118), (1438, 0.054619106025337365), (4593, 0.05450718971341008), (1897, 0.05440491211753459), (435, 0.054367180944290765), (1779, 0.05428010299500145), (4707, 0.054267115821935996), (2089, 0.05424887350193279), (994, 0.05422239107001087), (2618, 0.05419245864125982), (482, 0.054181083454053605), (4727, 0.054095762298921844), (2988, 0.05406104903623818), (1429, 0.05399544753628038), (2121, 0.053984636036726), (828, 0.05397212004987086), (2994, 0.05396144370349703), (1334, 0.05395215518148204), (2512, 0.05391270643351953), (1922, 0.053834780304604826), (2016, 0.05367847565848452), (3674, 0.053663774881775185), (996, 0.053545756121843285), (1509, 0.05354012207890859), (3501, 0.053483563836763365), (3376, 0.05345630592434569), (1648, 0.05341780712537945), (3232, 0.05340870727165427), (2560, 0.053340077821926665), (4699, 0.05333533231187064), (1464, 0.053327729398015764), (3065, 0.05329667224808622), (3284, 0.053286984012191646), (2304, 0.05327111891695695), (1854, 0.05325318032809293), (2308, 0.05323225788335068), (4537, 0.05319477064245752), (1300, 0.0531942731837024), (2250, 0.053179474749770236), (2881, 0.053117768510012243), (4486, 0.05305870412404976), (761, 0.05303854059123706), (733, 0.05292332085813376), (3112, 0.05291894730587961), (3418, 0.052746496573840305), (4466, 0.052719521627902076), (4390, 0.052705022268329946), (251, 0.0526317875365246), (1507, 0.052550775764944116), (3797, 0.0525079230396447), (1781, 0.05249098153014346), (2752, 0.05241326639848898), (4232, 0.0523908611958988), (2444, 0.05237698393378144), (2876, 0.052373899522689914), (900, 0.0523701891121504), (2700, 0.0523379396587042), (3120, 0.05229427786382323), (106, 0.0522493419493298), (465, 0.05223834022981902), (4098, 0.05204681662608793), (2279, 0.05203545646428699), (1676, 0.05174672082721798), (1982, 0.051738454561090164), (139, 0.05167930484904761), (1202, 0.051557005418390256), (4656, 0.05151688662701567), (1582, 0.05146072982889249), (4442, 0.05145215533520636), (1137, 0.05142541642037355), (3612, 0.051342130322472666), (1927, 0.0512824517128609), (2427, 0.0512807551977645), (1192, 0.05122149263565072), (948, 0.05118479816686504), (1620, 0.05116150424676176), (779, 0.05115106873072377), (2094, 0.051149071046086333), (2632, 0.05105739409072764), (4490, 0.051054284707986335), (1005, 0.0509994021255039), (3102, 0.050995582125827305), (1996, 0.050964766465431126), (4524, 0.050945606075329754), (939, 0.05094234082558761), (193, 0.05089198198781292), (1311, 0.05086322895870956), (757, 0.050825245069669414), (991, 0.05074883884520052), (408, 0.05068501417461577), (1317, 0.05068119421978061), (2045, 0.050609759476922575), (2348, 0.05058484691912736), (816, 0.05057543412900298), (1945, 0.05045193062844726), (1461, 0.05038579168243823), (1540, 0.05036179939828035), (1118, 0.05036046992696365), (2264, 0.05026849776385716), (3888, 0.050264930781334864), (2840, 0.05019571489955361), (4255, 0.050170852564801395), (1567, 0.050096240192291294), (542, 0.05001175196129638), (1986, 0.04995627795481476), (1065, 0.049910061313048454), (3666, 0.049894713369756594), (387, 0.04987711255127985), (296, 0.04986169515639367), (3196, 0.04978760706678921), (3941, 0.049700258527736754), (2712, 0.04964777709950843), (2158, 0.04956168772865273), (2759, 0.049543836203453526), (1270, 0.04953771439335293), (3245, 0.049529387078611556), (1876, 0.04942513192402047), (2501, 0.04933929020761353), (1389, 0.049278080968073006), (96, 0.04924215167810974), (2481, 0.04923524929150616), (4398, 0.049196553077619415), (4192, 0.0491239643192421), (808, 0.04909292061079043), (222, 0.04907526124179509), (261, 0.049009812982045764), (4395, 0.048992595155974386), (1500, 0.048985060152170315), (3192, 0.048867440379206574), (285, 0.04882983773887623), (3835, 0.04882717467383141), (4698, 0.048774195418019486), (4118, 0.04877222222253443), (710, 0.0487694023447673), (4047, 0.048593675333571826), (4094, 0.04857390207825075), (2328, 0.048555295106409366), (1413, 0.048551650404627694), (3313, 0.048544049116903173), (1519, 0.048455298563068766), (38, 0.048427179633682864), (2440, 0.04838597010458935), (3267, 0.04837631754037253), (668, 0.04822766433033197), (3447, 0.04821643808921274), (4533, 0.0481961528849405), (2854, 0.04814773323833256), (1276, 0.04812377710322903), (2362, 0.04804047805769007), (356, 0.04797936764804061), (29, 0.04794289044487439), (4576, 0.04792631614672488), (2344, 0.0478867727700779), (111, 0.04787711925242784), (1817, 0.04783057861589937), (1900, 0.04769208495348388), (4219, 0.04767230535991395), (1128, 0.04764263674997343), (1078, 0.04764143507509379), (3857, 0.04763001514815497), (3956, 0.047585928843478134), (637, 0.04758264826689913), (4502, 0.04756697112815952), (4249, 0.04753787469272781), (1776, 0.047495377352343535), (1443, 0.04738112484861548), (443, 0.04736584829128229), (688, 0.047297350553827014), (4105, 0.04727009850394011), (1960, 0.047247685598907324), (1707, 0.04724074147554569), (3618, 0.047022074772996095), (2736, 0.046985412315246514), (1379, 0.046967849853120205), (3285, 0.04695570426870426), (4177, 0.04689374871533549), (4430, 0.04689056225358808), (2008, 0.04685731951087507), (4134, 0.04677245156722432), (1371, 0.04677066194988595), (742, 0.046744801544179454), (3771, 0.046703648063191994), (3142, 0.04669506695935092), (1493, 0.04662774424024041), (963, 0.046622121131578056), (107, 0.04658464751536827), (2807, 0.04657670971090862), (4005, 0.04642438057242098), (1003, 0.046404145809597105), (1071, 0.04639007021768367), (4757, 0.04636972760358499), (1442, 0.04636281559006405), (2477, 0.04631900681083), (1188, 0.046272421761825965), (1864, 0.046237693153701534), (1968, 0.04622035242608401), (1924, 0.046209887659038246), (368, 0.046185568681865935), (1255, 0.04617255744887727), (3780, 0.04616283243081199), (1713, 0.04616274427816479), (2221, 0.04614838063984625), (644, 0.046108470008156585), (4494, 0.046072442633199526), (34, 0.046051817326832625), (4715, 0.04602209295524659), (2147, 0.04600564180915276), (2673, 0.04596885900221106), (1674, 0.04593615371558568), (1050, 0.04588729951049896), (728, 0.04588351652911484), (861, 0.045854842519322245), (10, 0.04575092424353887), (851, 0.04574625792710948), (1498, 0.04574517569688477), (3853, 0.045524024154771185), (2065, 0.04548640929907491), (1484, 0.04546966330588473), (3125, 0.04546061230448633), (1866, 0.045405125006330566), (1260, 0.045368899332687215), (3463, 0.045333820408019865), (1892, 0.04526158731750944), (4289, 0.04525640328686853), (4691, 0.04523787896743989), (1215, 0.04519826038634851), (1282, 0.04517322012087278), (1489, 0.0451299270814287), (436, 0.04510859471938233), (1838, 0.045086223180887286), (4470, 0.04508184211416506), (179, 0.04505596216049058), (1630, 0.045025223976765186), (433, 0.04501892023335548), (4366, 0.045006136719196455), (1902, 0.04497248153360216), (2917, 0.04488205748961135), (930, 0.04484080560054057), (1868, 0.04479634246255988), (3570, 0.044780319897688686), (729, 0.04475661644119845), (4337, 0.04463727315217742), (3259, 0.04446871267804437), (143, 0.044462388261268755), (3653, 0.04444347106114256), (3195, 0.044436589150817815), (1655, 0.04441584586823409), (4629, 0.044378025779156755), (1225, 0.04432817702696955), (1504, 0.04431502795346107), (3778, 0.04427840771912912), (46, 0.04426659447596019), (1033, 0.04415725869806346), (800, 0.04415237833469675), (1918, 0.0440940943306664), (3927, 0.04407375591055286), (4016, 0.0440550627406937), (1387, 0.0440110804052607), (743, 0.04397957745892888), (2822, 0.043970017949708874), (350, 0.04393383788641101), (4309, 0.0439018668106107), (3480, 0.043871457041065896), (1806, 0.0438698050882723), (3588, 0.04385465381026829), (732, 0.043828244767606064), (833, 0.043754670948885514), (256, 0.04369795601344611), (3839, 0.0436775788360787), (3960, 0.04362823427948816), (42, 0.04357989925903387), (980, 0.043575642791460575), (2088, 0.04357438500081161), (4695, 0.04354089116107121), (4233, 0.04353552859637176), (3721, 0.04347562662845476), (3727, 0.04345513233960282), (2606, 0.04343916960025067), (2874, 0.043412310166417785), (3516, 0.04340413578223906), (1735, 0.043386079867794296), (493, 0.043383979089135036), (1454, 0.0433235269309495), (1795, 0.04332064212103516), (2519, 0.043317175516418574), (4038, 0.04324147551454782), (1384, 0.043218376293328656), (2316, 0.04321386141406509), (3586, 0.043145851785713195), (4089, 0.04313659063484085), (1129, 0.043120682395090315), (2104, 0.04305787137885577), (2076, 0.04303287737041273), (385, 0.04296835034063411), (4284, 0.04292322952925788), (3731, 0.04288968771227823), (255, 0.04287544606391057), (4045, 0.04275334012218661), (3436, 0.04275087387038249), (869, 0.042740785519256246), (4670, 0.04273960170637861), (65, 0.04273958165098746), (1537, 0.042717380715567306), (1400, 0.042716654325612356), (1843, 0.042710275720874845), (2324, 0.04270490251941225), (1934, 0.0426831953163672), (1083, 0.04263192539801258), (4165, 0.04260025911339682), (33, 0.042593991294308894), (657, 0.04259339114122425), (1643, 0.04256572113257989), (3464, 0.042543179758189935), (1931, 0.04244409241264542), (3905, 0.04234835607146336), (660, 0.04234627357778001), (2082, 0.04229406094472098), (175, 0.042286111363238954), (684, 0.04228597689967764), (4046, 0.04227008029196065), (2825, 0.04225554101582583), (3330, 0.04222721824732762), (2149, 0.0422233606329276), (580, 0.04217191111730896), (845, 0.04215801073934075), (4208, 0.04212543263334894), (3715, 0.042111033073180947), (2949, 0.042104374503871805), (1330, 0.04210382372480301), (3387, 0.042083669641818915), (2424, 0.042048185484339945), (664, 0.04197832480982338), (2011, 0.041941455358848787), (3000, 0.04189223170102578), (3942, 0.04184270200523203), (160, 0.04179205290201577), (4746, 0.04174492427352336), (125, 0.04174243321314449), (3665, 0.041695402224965816), (3373, 0.04167637519551329), (1174, 0.041623489059900244), (716, 0.04158506730207679), (2971, 0.041535575031453206), (923, 0.041450619307763004), (4382, 0.04137916754710329), (1009, 0.04135742841708229), (1705, 0.04135305760522308), (908, 0.0413511690831244), (180, 0.041347560914171674), (474, 0.04130687926850661), (1177, 0.041294435369887916), (1194, 0.04124177392563751), (3514, 0.041240911320379534), (1971, 0.04121952132853413), (3957, 0.04120892557369023), (3279, 0.041171467711142384), (3352, 0.04114237844112448), (2014, 0.04110935010446218), (3108, 0.04108568366158048), (1472, 0.04106618419297372), (613, 0.04106311336177117), (1229, 0.04103688708165939), (3624, 0.04098425188275655), (1223, 0.04094860138713784), (3435, 0.040875894028763585), (238, 0.040862406567456995), (3233, 0.0408436903206584), (1138, 0.040842979253251366), (1750, 0.040775752042486096), (3552, 0.04075759283751354), (3342, 0.04075371032634905), (696, 0.04075109932123887), (503, 0.04074604836330642), (4646, 0.040738436785122976), (1140, 0.04071193175309697), (2484, 0.040692249726030784), (1179, 0.040667772274607494), (269, 0.040661541996582055), (16, 0.04064561718420116), (494, 0.04064297985057464), (936, 0.04053834438007345), (1939, 0.04052323076548495), (3227, 0.040506037489226994), (1773, 0.040489755929333994), (3696, 0.040475130842677495), (750, 0.04046442218643759), (1191, 0.04042256137211711), (3844, 0.040325696908660946), (4624, 0.04031127885637998), (691, 0.040307015456737386), (2803, 0.04028341692834135), (2757, 0.040200994660443155), (3303, 0.04019890712190897), (4464, 0.04019633800809832), (4093, 0.04007628481603048), (3645, 0.04004744275966385), (3487, 0.0400383355921647), (4571, 0.040027464934219735), (537, 0.03999592656031964), (4557, 0.039920393049211994), (1231, 0.03987260463646427), (3129, 0.03987228766999951), (3571, 0.03987129673172364), (636, 0.03986176925422284), (2981, 0.03985307477911698), (4677, 0.03983179951882618), (1799, 0.03982854203012061), (1536, 0.03982416806629313), (4299, 0.03975629340860418), (3499, 0.03975539224086532), (2061, 0.03975182111190925), (1407, 0.03974820850465245), (3226, 0.0396827840626094), (1046, 0.03967276712864675), (2069, 0.039647387149157956), (1220, 0.0396422943159066), (3975, 0.03962424918822194), (635, 0.039585791104017914), (1462, 0.03957092825842319), (86, 0.03954702506387429), (2480, 0.03954153047100013), (1812, 0.039530435337088166), (1041, 0.03947284586111268), (4674, 0.039400217493082215), (1811, 0.03938615252408323), (4601, 0.03936183529610104), (606, 0.03935856558971731), (1653, 0.039349973046195745), (4156, 0.039302699581872505), (4344, 0.03926780963122854), (3734, 0.0391926301868349), (1405, 0.03916577454894466), (1987, 0.03915228900401412), (863, 0.0391510367324006), (3513, 0.03915082466139995), (4349, 0.039150236167500296), (3117, 0.039125501161413986), (1052, 0.03910727914200891), (2417, 0.03906398005368153), (311, 0.039045655778928656), (1076, 0.03904093475432734), (719, 0.038988681052917876), (2650, 0.03897657812632628), (3623, 0.03893655661246015), (1363, 0.03889846642944297), (3474, 0.038889274357371266), (769, 0.038877615538151444), (706, 0.03886145088665702), (3052, 0.03884609734400622), (880, 0.03883759567743245), (4642, 0.038810780423687796), (2995, 0.038805640083290904), (4331, 0.03877506239448602), (81, 0.03876843734241147), (608, 0.03874582961727279), (3213, 0.038745621089940493), (3018, 0.0386996792406353), (321, 0.03866035972678472), (824, 0.03862949711905754), (2306, 0.038628860657067846), (15, 0.038616756433714504), (2237, 0.038607687837349275), (509, 0.03859382256103308), (3423, 0.038570544597884136), (523, 0.038563059208270786), (1019, 0.03854153195448828), (341, 0.03851791201258675), (3492, 0.03851400160929304), (1819, 0.038512688397316065), (2091, 0.03850796552003576), (2114, 0.038441113711260855), (2858, 0.038392788295594525), (1213, 0.03830556325913231), (3297, 0.038289149758387875), (4081, 0.038209446896775884), (1872, 0.038195562331822225), (794, 0.03814116015710968), (836, 0.038122317522717476), (3149, 0.03811412880462097), (50, 0.0380795193274313), (4515, 0.03807537965821595), (511, 0.03805083607269277), (2031, 0.03799925337542273), (2355, 0.03799199268602576), (727, 0.03797170103180638), (2184, 0.037970218320958656), (2496, 0.03796164994751391), (2714, 0.03794937440149082), (4172, 0.03792602388583775), (4518, 0.037925644515280986), (809, 0.03785209119132218), (313, 0.03785157076620146), (4581, 0.03784576316505147), (762, 0.0378427657299395), (437, 0.037838931434703724), (1261, 0.03777734949806122), (2301, 0.03774185191595585), (3452, 0.03771881747403255), (4664, 0.037716677813516265), (1012, 0.037696993809316945), (3531, 0.0376627773887725), (929, 0.037628754390640964), (1421, 0.03762450867042345), (1266, 0.037596300455188886), (3899, 0.037548528805026724), (4402, 0.03751102357492607), (1001, 0.03742282202524069), (2897, 0.0374013612188074), (4043, 0.03740102238105029), (2899, 0.03737627092129716), (1396, 0.03733724387054679), (1123, 0.03720582854203778), (1375, 0.03709870107011139), (1099, 0.03709377248628664), (2931, 0.03708998425961248), (1262, 0.037089190216680425), (455, 0.03706752227023346), (3910, 0.03706466866332488), (322, 0.036970549250854384), (1044, 0.03696057285794196), (3448, 0.03692344099334395), (31, 0.03687143875564605), (3841, 0.03686404905371222), (3122, 0.03685018679982494), (539, 0.03681463251274479), (1112, 0.036774831030272966), (2476, 0.03674384987625918), (1448, 0.03672098189284746), (2273, 0.036699689641719484), (217, 0.03667927171019877), (4661, 0.0366656209643941), (4653, 0.0366504505503162), (3747, 0.03664617541559938), (4285, 0.036580313807316474), (200, 0.03652339412271968), (1433, 0.03643884366379457), (3939, 0.03634842578530995), (1488, 0.03634065197455644), (3067, 0.03633952935558338), (266, 0.036335968023921014), (204, 0.0363290558510293), (2490, 0.03631746459421496), (3541, 0.03630864737697599), (1852, 0.03621662579567505), (3876, 0.03620086737742738), (910, 0.03617986489709059), (1964, 0.036163762297822324), (1555, 0.03616288665224665), (4028, 0.036129865420527464), (1738, 0.03612934025699023), (4399, 0.03610485738826111), (4591, 0.0360759716268063), (1551, 0.03607152930198596), (1761, 0.036043769847692864), (4527, 0.036023643707646484), (2580, 0.03601939017309841), (3679, 0.03596058193242661), (2425, 0.035937345487495734), (4523, 0.035928616542430104), (367, 0.035895357121830486), (4282, 0.035884709474876174), (2506, 0.03582430734772988), (4432, 0.035810982066856144), (788, 0.035809614470056594), (744, 0.03577509584434166), (61, 0.03575578671762167), (271, 0.03570565961265701), (4162, 0.03570122401861989), (4721, 0.035635083043499084), (632, 0.03562953378842249), (1873, 0.03561873303113782), (1941, 0.03560399030437664), (1809, 0.03557974758065861), (1449, 0.03555788786267814), (3460, 0.03555616832401224), (4504, 0.03552331576965938), (2137, 0.03550206731943708), (358, 0.0354817522478814), (3502, 0.03544647873243257), (3897, 0.03543327077212017), (4307, 0.03537855669376443), (381, 0.03526930784174327), (273, 0.035262465987681006), (1973, 0.03525752646146267), (2962, 0.03525483585267532), (3299, 0.03521238996423311), (868, 0.03519005776714792), (3111, 0.035144612011147734), (2294, 0.03512217106028616), (745, 0.0350816865353449), (3705, 0.03507948399344948), (581, 0.03506119029016263), (2762, 0.035031761133126525), (2231, 0.03502608804012535), (1414, 0.035007506453339374), (1759, 0.03475879682386575), (3222, 0.0347449752973964), (4733, 0.03472858604409788), (3354, 0.03472766592787027), (4590, 0.03471857984372971), (3426, 0.034717669968200554), (775, 0.034702204915976115), (2553, 0.03461727301088231), (1816, 0.03461686407802757), (2469, 0.03460878283645835), (243, 0.03459966540849664), (844, 0.03454079547932034), (3331, 0.03453615206206883), (2454, 0.03451916128207529), (3951, 0.03449554133644368), (3139, 0.03445577239468083), (4640, 0.034427901253787335), (2992, 0.03440322867676617), (563, 0.034395144944470456), (69, 0.03439391063746032), (1760, 0.034380859642936114), (2421, 0.03437558853326629), (1175, 0.03437369449582096), (804, 0.03432185489879713), (796, 0.03423776146301768), (2731, 0.034230947516888176), (1878, 0.034225131600782735), (3091, 0.03418859879510619), (862, 0.03414840484623558), (2833, 0.03409833977445486), (981, 0.03405559779220784), (1712, 0.03404863841856295), (3036, 0.03404781328498643), (1420, 0.033991480904270926), (2683, 0.03397565060792775), (2116, 0.03395218252952982), (3744, 0.03392155377700368), (1146, 0.033903408315241856), (4120, 0.03389994150173114), (203, 0.03388774519610987), (2035, 0.03385656983605673), (2724, 0.033783637237926434), (2404, 0.033766150718858336), (4682, 0.03370299089257522), (642, 0.03359645325260179), (551, 0.033567434542849536), (1158, 0.033567391547968076), (1365, 0.033540417643027724), (1254, 0.03350384762615988), (4230, 0.03350274283907707), (3438, 0.033485490010271485), (514, 0.03343593358176905), (2310, 0.033435446813473206), (3523, 0.03335553240024411), (3945, 0.03335553240024411), (4630, 0.03331560656576193), (2680, 0.03330667274201485), (1608, 0.03324024308164316), (2993, 0.03322192587343003), (3802, 0.03319397381210247), (252, 0.033191564575826685), (3430, 0.03318928471932585), (212, 0.033182797711833405), (4595, 0.033168864063279825), (1245, 0.03312956767690307), (364, 0.03311369182286369), (3420, 0.032983936994097365), (4540, 0.03297737482249102), (4572, 0.03297737482249102), (3178, 0.03293573585839377), (2745, 0.03291548190499158), (354, 0.03290450537813714), (343, 0.032899511855160865), (1214, 0.03288624504938397), (279, 0.03286453518879531), (2084, 0.032859228912081935), (3291, 0.03285838147675413), (1723, 0.03284560087090785), (402, 0.03282411132053055), (434, 0.03280606714224083), (3848, 0.03278969952442979), (4154, 0.032729273267354676), (224, 0.032720115346725545), (4221, 0.0327148047355139), (330, 0.032711305376708716), (2929, 0.03269727884093967), (1696, 0.03267683889427285), (1935, 0.03261539540118074), (2764, 0.032604446755295176), (2505, 0.03258674786003858), (2062, 0.03256853221151386), (979, 0.0325599676731259), (1356, 0.03251058585937644), (2368, 0.032454842643726126), (3168, 0.03241950328307597), (3362, 0.03237887581312063), (1627, 0.032376197787145775), (3558, 0.03236589978586518), (3263, 0.032354095848808294), (2630, 0.03234609400089767), (3658, 0.03232374281949656), (2537, 0.03229839625428042), (3875, 0.03229152749481095), (2529, 0.03226697520934763), (1962, 0.032252419073282246), (4389, 0.032242406582168384), (638, 0.03221767398876261), (2314, 0.032207783870420593), (4753, 0.03220264173191393), (1940, 0.03217969356869257), (2013, 0.032154263008916356), (2991, 0.03209159735073168), (1981, 0.03206580116394682), (4321, 0.032065773069130415), (687, 0.032055519070902254), (3345, 0.0320459198667329), (3022, 0.032032818839102244), (3042, 0.032031937367889625), (1391, 0.03201220209617031), (1167, 0.03200856691456163), (617, 0.03199953677301707), (867, 0.031989714624770335), (855, 0.03196505304075541), (620, 0.03196395769232551), (288, 0.03195887637665705), (2347, 0.03193956538208531), (468, 0.03193773347072751), (3030, 0.03191608722148565), (4665, 0.0319102721548383), (3240, 0.03190572852676472), (2012, 0.03189378986799622), (1332, 0.03187117230180697), (2733, 0.03185720938949578), (2567, 0.03182112917064795), (3440, 0.03177537943049802), (4462, 0.03173213583146905), (2613, 0.03172549416394004), (3524, 0.03171834437405839), (3488, 0.03170477628790869), (1452, 0.031693323664614685), (4149, 0.03167572221778028), (1797, 0.03165214683520007), (3934, 0.031600593950403426), (424, 0.031583128796216275), (512, 0.03157764408423785), (2379, 0.03156514207910393), (0, 0.03150934308063443), (831, 0.03147856867562997), (374, 0.031471005425604597), (595, 0.03145469379465595), (1216, 0.03144392717234159), (4310, 0.03143647169126636), (2288, 0.03142608746248391), (2407, 0.03136837654103875), (425, 0.031341913764132125), (2936, 0.03128483060172032), (4251, 0.031256484056675596), (2868, 0.0312555674517895), (2722, 0.031248674956527507), (2959, 0.031207108600840815), (4106, 0.031198440701695362), (953, 0.03119438379440908), (3576, 0.0311548998488653), (1662, 0.03115120715535708), (3938, 0.031120002108832534), (1682, 0.031119275912059312), (2051, 0.031102445068114125), (2576, 0.031077101604305525), (2599, 0.031028262942158633), (2423, 0.03101107584283207), (327, 0.03093517985752387), (927, 0.030929315322940666), (4119, 0.030895644641008652), (4685, 0.03088956590343822), (2189, 0.030874938074649187), (2209, 0.03082268778589476), (2989, 0.030822481202490492), (2181, 0.03082171117741602), (1976, 0.03080886733450365), (332, 0.030790369249529322), (380, 0.03078103956862819), (2027, 0.030754710651428162), (3421, 0.030746018001263073), (3094, 0.030691813334445477), (4627, 0.030682828060415644), (218, 0.03058954894247068), (1241, 0.030587866681062358), (3990, 0.030584232446639926), (4586, 0.030568091300761567), (2820, 0.030542395546908352), (949, 0.0305038548274981), (3895, 0.030420445546409394), (1344, 0.030404827651662823), (1403, 0.03038890557266561), (420, 0.030366862177421836), (3908, 0.030358793485516653), (2388, 0.03030612780863689), (2299, 0.03030288986002054), (4423, 0.030249416572213344), (2197, 0.030228686757844618), (763, 0.03019101077163952), (3158, 0.030181958989345763), (1515, 0.030179100973207834), (1492, 0.030169991768727998), (4032, 0.030165633258980463), (1619, 0.030133204252542983), (3997, 0.030119641282164815), (891, 0.030112479941291185), (3687, 0.03010269738502298), (3215, 0.030093572412977145), (4158, 0.03008383917042072), (1502, 0.030069463938254642), (1975, 0.03006840470824566), (2403, 0.030066298394697592), (1075, 0.030062613551639764), (1359, 0.030014426577121757), (3925, 0.029998304589565886), (1724, 0.029980896994786878), (1685, 0.02998009254126785), (1732, 0.02995081830805495), (1661, 0.029938992644710158), (2890, 0.029931637716860086), (250, 0.029918116792888336), (4621, 0.029904859937001513), (2923, 0.029803337541852534), (513, 0.029738935541436428), (3787, 0.029719417694706873), (3604, 0.029703562654628108), (1829, 0.029686841514048472), (899, 0.029681172633067784), (847, 0.029670529713001662), (1465, 0.029641605619236237), (2494, 0.029614048584357185), (3322, 0.029609108580077762), (3396, 0.029609108580077762), (4030, 0.029609108580077762), (2960, 0.029594613903773645), (2707, 0.029526640145210007), (3040, 0.02952002224848251), (2819, 0.02949887160753058), (4384, 0.029491621409075425), (2545, 0.0294693450343807), (3470, 0.02944732091141924), (220, 0.029443054064979244), (2769, 0.02943743661854894), (2436, 0.029417743764875316), (957, 0.0293879131983096), (4312, 0.02936886522600568), (4696, 0.02936318163623849), (2841, 0.029335604763538976), (510, 0.029312371210490337), (1554, 0.029261939315188654), (118, 0.029244095616630703), (2870, 0.029231484483623064), (2915, 0.029221104449496757), (4091, 0.02921981450436651), (3814, 0.029213435217290015), (1362, 0.029206824224170067), (2330, 0.02920366668013467), (3822, 0.029183391614894902), (2789, 0.029183127794055838), (895, 0.029178546983692155), (1114, 0.029169745519882072), (1505, 0.029166342005784093), (3163, 0.02916546406115816), (3815, 0.02916419186270409), (1531, 0.029124753310223163), (4587, 0.02911818310702494), (317, 0.029114584657426057), (4090, 0.029112583243131835), (3180, 0.029094217435282985), (919, 0.029092240791298962), (1381, 0.029087221399653668), (2257, 0.02905672946978923), (1426, 0.028984621985293894), (2889, 0.028963922693559435), (3710, 0.02893906635734093), (1659, 0.028929146181306084), (4275, 0.0289257540770644), (3881, 0.028919929765670975), (3833, 0.02890485773613315), (3451, 0.028893386648868858), (2947, 0.02885260139545931), (2626, 0.02884926482204854), (1380, 0.02884804537814314), (2861, 0.02884448223122451), (3005, 0.02884219577155461), (2074, 0.02877412796683039), (1904, 0.028771625629215286), (3584, 0.028734020873966964), (992, 0.028717662391151904), (1951, 0.028709864725422772), (4126, 0.028670078794656703), (3824, 0.02866117212813534), (1431, 0.028650032688703427), (1573, 0.028648692971883865), (2208, 0.02864455057999771), (3385, 0.028636918690227445), (666, 0.028635440123717527), (4261, 0.028629893010872376), (3774, 0.02861272417717801), (3055, 0.02860826383666147), (3144, 0.02860773492523063), (2251, 0.028577693213017775), (1857, 0.028573871290730482), (2872, 0.028551372469662842), (4222, 0.028551372469662842), (571, 0.02854573447831021), (562, 0.02853995265353594), (4749, 0.028534911113935663), (3468, 0.02852185444175104), (102, 0.028516392110514564), (2418, 0.02849371495772083), (4052, 0.028479118581763094), (811, 0.02843980715239308), (78, 0.02843344891861358), (464, 0.02839910188878664), (4377, 0.028391110931689292), (634, 0.02837902492486334), (3264, 0.028362357604630954), (1588, 0.028353184437369193), (3995, 0.028342050581942953), (685, 0.028338951122491688), (1280, 0.0283267418381906), (2740, 0.02831833026831069), (1575, 0.02830712000962), (4383, 0.028274651483982203), (1435, 0.028272983904459863), (3037, 0.028258380809740646), (3922, 0.028258380809740646), (802, 0.028248406704070757), (4552, 0.02824583454162877), (2916, 0.028239452782843913), (369, 0.028238279208860656), (1791, 0.02821875861558375), (3248, 0.028218060213307868), (2964, 0.02820536152079963), (970, 0.02818395706747799), (1566, 0.02814949056178497), (527, 0.02813960290588057), (1952, 0.028118195511957846), (4392, 0.028104879995914253), (4360, 0.02809212041872167), (1386, 0.028080687099921977), (3782, 0.028065840409995803), (7, 0.028055576845293785), (3793, 0.028049730759754508), (3892, 0.028048419881883453), (1279, 0.028045712364436787), (161, 0.028039488550559724), (4611, 0.028021295446145542), (3903, 0.028013393950375776), (30, 0.02800155864955454), (3074, 0.027971508080843695), (2544, 0.027944164879154805), (1635, 0.02794312579248834), (233, 0.027892706205597077), (303, 0.027857034853753918), (2937, 0.027844927080355686), (4240, 0.027833526388251626), (239, 0.027783784473396234), (2044, 0.027753061455353875), (2136, 0.027724148673706792), (4076, 0.0277058296249962), (4605, 0.027704016345949264), (737, 0.027691609036616265), (3762, 0.027681084224020894), (715, 0.02765538171638935), (2283, 0.027650270527482892), (4264, 0.027646472039263133), (128, 0.02764080308205464), (765, 0.027639783996466893), (2969, 0.02761359787400741), (3850, 0.02760739732865563), (4678, 0.027606160348528738), (1953, 0.02759570594318517), (768, 0.02759368834390128), (2349, 0.0275725298265878), (550, 0.027571885791407225), (3788, 0.027561782666650315), (1859, 0.02753559116795061), (1930, 0.027533502875252313), (1708, 0.027524308093932488), (4548, 0.0275116219866993), (3156, 0.027490749164454226), (315, 0.027487523384574206), (3952, 0.02748655946141401), (1993, 0.027472099597387233), (1901, 0.027464112311900234), (2582, 0.02745668407077857), (4441, 0.027453686468249014), (4292, 0.02744774929796336), (189, 0.02744025716244565), (2463, 0.02740615015256501), (3599, 0.02739589152104182), (4376, 0.02738154808046142), (4544, 0.027372276534945773), (4371, 0.027365231796580677), (3296, 0.027356941566219258), (4243, 0.027356941566219258), (4458, 0.027356941566219258), (4632, 0.027356941566219258), (3124, 0.027335688841165492), (1632, 0.02733505381180493), (3015, 0.02732513753956207), (974, 0.027309616659564526), (3276, 0.027303738981567204), (1048, 0.02728174787826421), (3832, 0.02727647184059264), (2049, 0.027239287757851567), (4708, 0.027211882871253975), (838, 0.027207097209593314), (1351, 0.027192151782751372), (3672, 0.0271837148538846), (3179, 0.02717013170982381), (3723, 0.027146912022765417), (2015, 0.02714398381645453), (3338, 0.02710043202061152), (2565, 0.02708038118606057), (2413, 0.027061122402023116), (2790, 0.027059773149201435), (4248, 0.027036099355937933), (934, 0.02703398163411616), (3520, 0.027016914414601953), (1631, 0.027015211663159396), (4492, 0.02701274208063114), (3131, 0.02701154804920044), (4717, 0.027010603402100552), (2265, 0.02700308254619893), (241, 0.02699503938146297), (1846, 0.026963882799647464), (2568, 0.02696207266851553), (3398, 0.026953631557936286), (2353, 0.026951583973788162), (1622, 0.026950175017674244), (1347, 0.026913794592133344), (1623, 0.0269080411360801), (3128, 0.026895120843772782), (3719, 0.026895120843772782), (3079, 0.026890550259446453), (2901, 0.026859574325507875), (1749, 0.02683215400736037), (3443, 0.0268201076463211), (4706, 0.026816499750081577), (27, 0.026804271654092236), (3307, 0.026802551497036413), (1127, 0.02679238073398464), (1006, 0.026783701964395293), (4438, 0.026772448045501312), (2432, 0.026760984151352862), (2966, 0.02671759206831816), (320, 0.026704730426731563), (3907, 0.0266963372701655), (3884, 0.026693043516820704), (1124, 0.02667331364488549), (1587, 0.026665912829924258), (174, 0.026665139838462415), (1145, 0.026655459872709886), (2246, 0.026646419305326182), (1609, 0.026641092585409615), (4703, 0.026640371385138185), (3469, 0.02663757034579747), (1658, 0.02659761486833352), (787, 0.026596591218519428), (1150, 0.026586282511836416), (4639, 0.02657588087834479), (1914, 0.026572089654621243), (4019, 0.026559982180633823), (849, 0.026547229848759856), (93, 0.02654390165058256), (1881, 0.02651169978632628), (197, 0.026493753033534483), (3432, 0.026478704335284844), (1211, 0.026471483584534085), (2144, 0.026464511153790088), (2326, 0.026445207459296766), (3664, 0.0264311736793263), (389, 0.0264256425977556), (2392, 0.026415168727514447), (2139, 0.026398839212890445), (2914, 0.026380781559983565), (2475, 0.026359848532241062), (3404, 0.026351075377434828), (3479, 0.026341294313152356), (2513, 0.026331208815583616), (3769, 0.02629433832908656), (1451, 0.02628914896308843), (3258, 0.026280964238080868), (4603, 0.026275167292030152), (6, 0.026256388490951736), (2278, 0.02625317986735788), (2832, 0.026253003260419804), (3134, 0.02623977782510083), (2130, 0.02623547329291505), (793, 0.026233627010301193), (4017, 0.026230935868778338), (1807, 0.02621818658149154), (1077, 0.026210767158674413), (4585, 0.026188673025042297), (3874, 0.02618820703348663), (3806, 0.026182206736334594), (766, 0.02616915741309047), (1494, 0.026167650952491302), (95, 0.026156692022480624), (305, 0.026152590651748398), (4025, 0.026144737465502096), (897, 0.026137623115257504), (2601, 0.02613666550688032), (3583, 0.02611062430199685), (2643, 0.026104839022120456), (1933, 0.02609439542878443), (3011, 0.02606343760644738), (135, 0.026054459866979716), (1614, 0.026051636160066723), (2984, 0.026039439188328153), (310, 0.02603850457662135), (2998, 0.02602065073277601), (1428, 0.026018170371827107), (3512, 0.026011432372783274), (2823, 0.026005261565411917), (4012, 0.025996430702974745), (2867, 0.02596170995876268), (4193, 0.025948808882264817), (4718, 0.025925674709467755), (4044, 0.02585955673550478), (3165, 0.025849329050550783), (2628, 0.02582396539862197), (3967, 0.025821471486571605), (496, 0.025795405977968783), (316, 0.0257586483789108), (446, 0.02574684530885739), (3051, 0.02571885084206812), (3136, 0.025710788766617684), (2831, 0.0256954605446765), (1096, 0.02568780955404645), (1919, 0.025686853216348865), (4400, 0.02567322235729284), (2559, 0.025670849965325752), (902, 0.025661294865874106), (3020, 0.025661028739893486), (3239, 0.025622844247169447), (3976, 0.025618243662672603), (633, 0.02560887482957925), (2883, 0.025563653396864346), (3561, 0.025557803722070043), (1633, 0.025547315686431118), (1798, 0.02553939442261659), (2633, 0.02553896076950185), (4704, 0.025526050663373927), (2193, 0.025518415655131577), (1469, 0.02550302302394942), (3391, 0.02549104783621937), (2232, 0.025455780573932798), (609, 0.025436112701061345), (3596, 0.025422045151914117), (2303, 0.02541309502774386), (2775, 0.025409851376920728), (4071, 0.025396051915391432), (3970, 0.025374607784831447), (467, 0.025352197328800972), (2654, 0.025351830302802938), (4529, 0.02532530931087209), (260, 0.02531649816583256), (559, 0.025303539802842466), (3602, 0.025300836070685718), (2167, 0.025294239264857035), (284, 0.02528553936336408), (1358, 0.025268586327559583), (1181, 0.0252662803413343), (3429, 0.02524898237785176), (2087, 0.025230611982275806), (3218, 0.02522522083633324), (2258, 0.025210692639556106), (451, 0.02518900768219684), (2787, 0.025184864628829205), (1274, 0.02517706181757409), (3544, 0.02516850558466568), (1701, 0.025155804447188606), (4705, 0.02515326149004807), (4039, 0.025149261889739608), (1475, 0.025148041211394086), (4322, 0.025139398725125762), (375, 0.02513250651199853), (3161, 0.02512023326860589), (4211, 0.025088635917650776), (3536, 0.025063848869204534), (817, 0.025062721957033365), (4103, 0.02504832304983609), (4014, 0.02504193163303399), (3386, 0.025041603511395817), (4734, 0.025039548568038392), (3555, 0.02503624233994547), (4484, 0.02501121545255989), (4511, 0.024989145462553347), (3292, 0.024982238124217522), (3361, 0.024980093693482513), (2798, 0.02495873751112191), (407, 0.02493303585174004), (2744, 0.024930808069477298), (3135, 0.024916045041571692), (347, 0.02490101645373333), (2900, 0.024894326918990337), (452, 0.024886068469504093), (1207, 0.024885153369260258), (2640, 0.024853066815605944), (3495, 0.02483575985405629), (94, 0.024823479431865633), (735, 0.02481560824388358), (1182, 0.024806459374191417), (4697, 0.024801839852864018), (3643, 0.024786692563747097), (3919, 0.024784240473825322), (4426, 0.024783776565288282), (2977, 0.024770342516963743), (4582, 0.024763592077648635), (2847, 0.024725623927627578), (1998, 0.02472530475992705), (4339, 0.024720208818702526), (1197, 0.024717928325874546), (4274, 0.024703049347881475), (3126, 0.024690268001678894), (164, 0.02468319056255899), (39, 0.024680888949131657), (1688, 0.024672682060161016), (2809, 0.02463141767615398), (1936, 0.024631026122576533), (460, 0.024622540231241524), (3733, 0.02461850974220017), (1593, 0.024563036899874956), (782, 0.024551434578065016), (4290, 0.02454446952337845), (619, 0.024536063177245795), (3886, 0.024506349936433882), (1382, 0.02449047917461848), (4693, 0.02447134139598746), (1087, 0.02446983264007937), (1860, 0.02446893302165978), (3143, 0.02446113903237123), (2678, 0.024453227182776115), (4202, 0.024450772871504187), (4606, 0.02443099039329893), (1082, 0.024428154273078), (2000, 0.024419011433429106), (3191, 0.024399481724732903), (697, 0.02439908931173216), (306, 0.024388110027995145), (921, 0.024382049181166224), (1753, 0.024381288841915143), (90, 0.02436717045059533), (240, 0.024364987156500297), (1546, 0.024333420146706926), (3328, 0.024331562917441596), (2245, 0.024284692815836905), (4328, 0.024284202269948006), (4102, 0.02427295736014685), (3823, 0.024264195159277798), (4298, 0.024258325531059367), (2748, 0.024251354907774848), (677, 0.024235358225982606), (1480, 0.02422839731243914), (3166, 0.02422620260297561), (3689, 0.02419967941429417), (4521, 0.024141499196011374), (426, 0.02411964251464497), (1021, 0.024093520918210744), (1125, 0.024073735799985434), (1446, 0.02406264095106224), (3613, 0.02405462338332407), (3720, 0.024046049672658658), (4209, 0.024043484023843344), (3605, 0.024014663882070627), (4513, 0.02399730152274635), (152, 0.02399631286502422), (2448, 0.02398008334679472), (4082, 0.023972801623423745), (810, 0.02397166705206671), (776, 0.02394615476101085), (3651, 0.023919046423858503), (2442, 0.023893907431172017), (3151, 0.023880894743219416), (4583, 0.023867501395137897), (1512, 0.023865423795557245), (4335, 0.02385783954057463), (104, 0.023844530609023733), (526, 0.023842232546660166), (2277, 0.023832357449562896), (4729, 0.023804088854696658), (3367, 0.023802100151567317), (1990, 0.02379362365004823), (2207, 0.023773772167894107), (2980, 0.023755118252111792), (449, 0.02375295219303045), (2698, 0.023750426497301615), (553, 0.023722227732677313), (3098, 0.023710644783097413), (4723, 0.023685751006618325), (1562, 0.023682783670289153), (3528, 0.02364896866423619), (472, 0.02363964782714324), (1045, 0.023573702745237984), (3237, 0.023568117785893503), (3395, 0.023539288646976464), (4692, 0.023530415186523174), (2933, 0.023512026512529264), (3359, 0.02351054384790279), (346, 0.023484573869407124), (1445, 0.023461216213389154), (631, 0.02343689040437586), (3590, 0.023436025767603324), (933, 0.023386379312067464), (3100, 0.023386292479809147), (3776, 0.023380710031596995), (893, 0.023357963758366934), (898, 0.023355392377243146), (182, 0.02334898075176482), (1430, 0.023328703424959348), (3784, 0.023307107997745494), (690, 0.023298900828964814), (3399, 0.02329067591730512), (4488, 0.023281536172814348), (3246, 0.02326714483087825), (1579, 0.02325586452799537), (661, 0.023252998780452023), (3257, 0.023226238806427407), (2350, 0.02322104024720315), (2474, 0.02319807361157214), (1020, 0.023196345331674542), (461, 0.023177621293987257), (2711, 0.023157913101054712), (2986, 0.023155424338879755), (2290, 0.02315475544345067), (4418, 0.02313555839975122), (850, 0.02312036262744556), (2309, 0.02311640431474843), (3767, 0.023114138898292225), (651, 0.023106910903075817), (734, 0.023083586071265837), (397, 0.023077426015423997), (3081, 0.023054846094307867), (4151, 0.02305359563150346), (4607, 0.023031522054438834), (3004, 0.023007769888148653), (82, 0.02298010652727536), (2957, 0.02292519901978711), (941, 0.02292321244631193), (79, 0.022918748354198153), (290, 0.02291634024687673), (3453, 0.022913603090414594), (1553, 0.022883385324438024), (2473, 0.02286351979001187), (4042, 0.022862831808885677), (2535, 0.02286102408771777), (1906, 0.022855469566193026), (1699, 0.022851232953244396), (4468, 0.02283373053921727), (2682, 0.022827369331553552), (32, 0.022825190439142835), (3133, 0.02281416114477115), (409, 0.022805044330792664), (1612, 0.02278676570447765), (803, 0.022775260145782773), (2199, 0.022757446451232004), (191, 0.022730361945520545), (3462, 0.022716083246281243), (3295, 0.022706799019493656), (2812, 0.02269328588760377), (3729, 0.022683137293544146), (1281, 0.022681060482228132), (3852, 0.02267016406208603), (2572, 0.02264811793948538), (1840, 0.02263980588127235), (3346, 0.022633086366471333), (1772, 0.022622766083150853), (2052, 0.022616196728209602), (1784, 0.022613483401547875), (187, 0.022588495315366653), (3966, 0.02258838435386573), (3456, 0.0225872896354885), (3262, 0.022575002608991698), (3827, 0.022575002608991698), (3046, 0.02257486473158482), (4079, 0.022558557615906364), (3619, 0.022552511193639883), (932, 0.022550383544969983), (597, 0.022528707425661817), (4482, 0.022508176165823523), (4308, 0.022498524988813932), (2161, 0.022483436129820625), (1875, 0.022472593099262063), (3219, 0.022431020180001156), (925, 0.022429855067587174), (3329, 0.02242933477221589), (323, 0.022398546921701682), (4306, 0.022356649703619214), (3878, 0.022344364360164678), (4573, 0.022329897336042015), (80, 0.022319798543944173), (3667, 0.022318773000254602), (3160, 0.02231257482299526), (119, 0.022277209648953952), (3409, 0.022235345169072086), (353, 0.02223452755124742), (4713, 0.022224828248202926), (3935, 0.022206518635172298), (3826, 0.02219491516534233), (3375, 0.022194477850753482), (1793, 0.022175136925662274), (889, 0.022170248399269888), (962, 0.02216504088448846), (3580, 0.02215449313348283), (3944, 0.022131070077424434), (295, 0.022112788364656525), (1741, 0.022109642765626245), (997, 0.022103978279924812), (1208, 0.022042665337977135), (2460, 0.02204218207536857), (2394, 0.02201919639970842), (1559, 0.022013264250444437), (162, 0.021999447703303296), (2289, 0.021995507777057412), (1539, 0.02198084730382696), (3821, 0.02197971262571885), (1710, 0.02195860157042202), (234, 0.021954892926312586), (4184, 0.02194108914002073), (183, 0.02193610507805388), (3247, 0.021924498852436233), (3527, 0.02192227497310198), (1650, 0.021919062303501234), (445, 0.021882008044817877), (4336, 0.02187546740191475), (4314, 0.02187490142684608), (1037, 0.02187258549926717), (924, 0.02186089585531107), (4416, 0.021857148237019876), (3405, 0.02182898821959171), (3282, 0.021817087089403102), (2103, 0.02180865917040882), (469, 0.02178805471567084), (2639, 0.02177552133596179), (2434, 0.02177300715421139), (2541, 0.021769068343652172), (428, 0.021752228397992974), (294, 0.02174791683745098), (3737, 0.021744251206669153), (1388, 0.021728976286144442), (242, 0.021728024518972884), (3958, 0.021726497261563425), (1312, 0.021719218378481137), (4407, 0.021703271841920606), (2942, 0.02168948458431923), (1762, 0.02168033823628375), (1361, 0.021678045192951044), (625, 0.02167156739680222), (2706, 0.021671194691046655), (3880, 0.021669990560557004), (3363, 0.02163943607179875), (4649, 0.021634515184147877), (3954, 0.02162929991970385), (3031, 0.021627874351915457), (3620, 0.021627543730060733), (3389, 0.02159621024707184), (2298, 0.02155367551398327), (289, 0.021546719278435735), (2143, 0.021529641447727718), (2614, 0.021516860850559885), (2838, 0.021512847795666323), (3579, 0.02150146509784323), (4257, 0.021491062266169474), (4719, 0.021481153702123095), (756, 0.021457276243587387), (1154, 0.02145573285895913), (3989, 0.021447566198708544), (2970, 0.02143143201125084), (3339, 0.021416526104124915), (4419, 0.02141262341109133), (2696, 0.02140844515419724), (1206, 0.02139355879133281), (3754, 0.02137499080842322), (1690, 0.021325978885320628), (1309, 0.02132456531816548), (3656, 0.02131742089300329), (314, 0.021284965528469205), (2266, 0.02126596280373446), (1538, 0.0212298891967402), (777, 0.02120831794566205), (1925, 0.02120263636449942), (1910, 0.021200472273584587), (1152, 0.021199562508267402), (4228, 0.021167293971706976), (4365, 0.02115375547861532), (4461, 0.021123636050629575), (3273, 0.02111910786537436), (76, 0.02111346966320523), (4002, 0.021113290164817018), (2557, 0.02111119889913907), (1401, 0.021109039670055115), (3616, 0.0211062608455147), (2236, 0.02107911186216866), (1590, 0.021058545395817717), (3072, 0.021045430518739555), (2644, 0.02103174505970281), (1049, 0.02102079492773881), (2411, 0.021006992686202364), (4694, 0.020977804113343893), (2801, 0.020966772589362175), (1144, 0.020960612359459476), (3425, 0.02095710865655807), (63, 0.020939718844581297), (1920, 0.02091524916608481), (2623, 0.020897471668795197), (1121, 0.020886767437760172), (4748, 0.020883036449751355), (159, 0.020862231030350727), (3829, 0.020848930613671674), (3274, 0.02083662226340208), (4318, 0.020835598407008687), (2579, 0.020806619782035473), (2437, 0.02079397512547095), (4652, 0.020784778124550412), (478, 0.020779106583133863), (3358, 0.020763975816503615), (814, 0.020761877920173435), (723, 0.0207607436640095), (2415, 0.020750224364764976), (4225, 0.020749909177795824), (1308, 0.02074942822192772), (1523, 0.020742495401965003), (586, 0.020742083448093744), (1120, 0.02073618618608678), (2975, 0.020728040742264746), (4107, 0.020648259037779063), (4205, 0.020630475091278886), (2848, 0.02061431362835013), (3898, 0.02060939427751743), (1730, 0.020588993236067502), (2376, 0.02058889040020523), (4147, 0.020579732037946264), (2285, 0.020567522048460678), (2834, 0.020551720450611558), (1514, 0.020523683399075156), (3152, 0.020519438370867938), (966, 0.02050663336342235), (4161, 0.020494066887503118), (721, 0.020491906108004464), (403, 0.020458831153818118), (4507, 0.020454183310057234), (4160, 0.020450096411514924), (1395, 0.02043767416037297), (3813, 0.02042829449293141), (4361, 0.0204280579167273), (3253, 0.020424356300702468), (2786, 0.020418381716699168), (2797, 0.02038453948370715), (3140, 0.020383297249144786), (1880, 0.020367965706456992), (2997, 0.02034461942534484), (1764, 0.02031164399526366), (4075, 0.020308795362354318), (4589, 0.020301840350256357), (2378, 0.020300020100286746), (4254, 0.020286243343565248), (1905, 0.020273843470243733), (3621, 0.020246599559775254), (2587, 0.02024533260649112), (518, 0.020240380299434042), (3146, 0.02023267976964488), (3962, 0.020208132865245535), (3062, 0.020182636832041943), (1571, 0.020171999045151746), (2438, 0.020163917126259378), (705, 0.02013439617328184), (1477, 0.020127841386571362), (307, 0.02012355669309707), (2142, 0.02011894967646891), (3636, 0.020113465550565986), (3932, 0.02010500430283488), (3044, 0.020084908453702564), (2619, 0.0200672124435515), (640, 0.020066975203188966), (156, 0.02005213242399164), (3861, 0.02004942556155918), (4625, 0.020047761867499337), (3434, 0.020041629711767574), (2603, 0.020036303220105633), (3337, 0.02002928931006588), (4555, 0.02001676451909527), (3904, 0.020011468671811153), (639, 0.020000711611659665), (738, 0.019969877607968017), (3534, 0.019936239970315482), (4594, 0.01990722049136581), (1458, 0.019901629804074242), (2108, 0.019894148836019313), (4369, 0.019892770061892148), (783, 0.019888651080758903), (1530, 0.01987620467316266), (2895, 0.019869873037546528), (2573, 0.01986915303481744), (2078, 0.01986333392074564), (2974, 0.019824527542289958), (2821, 0.019801488106281552), (326, 0.019797082239338154), (4280, 0.01979037038504041), (2488, 0.019786897568624204), (4138, 0.019776676255101606), (611, 0.019757561236441096), (1239, 0.019740790595476853), (3615, 0.01971714871512385), (3484, 0.019711110327986028), (3526, 0.019709262918474402), (2857, 0.019706820650933217), (3, 0.01970533578072717), (157, 0.01970212448087294), (60, 0.01969202590379407), (2400, 0.01967748919714292), (231, 0.019647639157682344), (2570, 0.019617351929465995), (2293, 0.01960447462688261), (1499, 0.019598874805804186), (1278, 0.019574553302304325), (3497, 0.019563083703479478), (3007, 0.01955042150089214), (2478, 0.01954287158105043), (3242, 0.019533778290378594), (1331, 0.01952865039613629), (2530, 0.01952685019674515), (3096, 0.0195237561978123), (4528, 0.019512716258758573), (1576, 0.019506429395096562), (3842, 0.019481208520297888), (3634, 0.0194715831374815), (2173, 0.019451382857015975), (3601, 0.019422188782389223), (616, 0.019421471692334553), (489, 0.019402296734630845), (3159, 0.0194016141461255), (1862, 0.019400166315357844), (1497, 0.019369311112092422), (422, 0.019367086225915223), (1136, 0.019365863370014974), (2302, 0.01935242029744633), (1164, 0.0193389084957186), (3413, 0.019338714360118907), (487, 0.01933585935590318), (4213, 0.019296217992929302), (3779, 0.01925575369193917), (2738, 0.019247558532847174), (1654, 0.019242177250664044), (309, 0.019241469862817488), (2987, 0.01921719785887876), (4111, 0.019184744349050254), (1743, 0.019159797275586275), (2805, 0.019136693137274875), (3269, 0.019125032569899145), (4326, 0.019117693815145026), (1885, 0.019116231894603212), (2286, 0.019115350706203727), (441, 0.019112451757433795), (1683, 0.019104026598660707), (3357, 0.01910350080055233), (3772, 0.01910318101261551), (4505, 0.01909279125190579), (1711, 0.01909038725150767), (3804, 0.019039909245636265), (508, 0.019035903101007185), (3214, 0.01901009803057765), (3707, 0.01900248113428928), (2211, 0.018996789938858193), (1909, 0.01897439303706405), (1947, 0.018967676024768412), (2533, 0.01895610428775403), (1950, 0.01894032434253915), (431, 0.018934042485479616), (2705, 0.018926185572057174), (2924, 0.018903622458201187), (3206, 0.0188901902672159), (2674, 0.01888428878877951), (1187, 0.018883143827574854), (3750, 0.018874853769293643), (3353, 0.018852985758314317), (843, 0.018841600960095753), (3540, 0.018841504480985073), (1895, 0.01882982769419079), (25, 0.01881520527791042), (4584, 0.01878177808182663), (4333, 0.018780945057186405), (4497, 0.018749956599656198), (922, 0.018748803639550702), (4397, 0.018742758877622726), (3364, 0.018732599635399076), (3183, 0.018704396870690563), (2702, 0.018694591820750128), (4756, 0.018691095433624724), (2563, 0.01867941210522329), (2159, 0.018668916855042662), (1434, 0.018659737754676223), (4117, 0.01862841135174394), (3630, 0.018617818796043975), (3016, 0.018613217831641153), (2401, 0.018602512470691855), (4409, 0.018586311422257314), (3355, 0.018576929396792674), (3235, 0.01855074790187775), (3714, 0.018539076709871358), (4311, 0.018513229944418882), (2391, 0.018493062495584044), (4391, 0.01849099303923052), (75, 0.018450619199903907), (2624, 0.018450600919418744), (545, 0.018440408836062933), (2796, 0.01843022989746287), (1833, 0.01841460969172127), (2561, 0.01840709183165711), (3356, 0.018390589988853037), (2405, 0.018381799702878343), (3911, 0.01836770046100037), (13, 0.018360238248960638), (903, 0.01835984103643146), (3745, 0.018347478238982456), (3230, 0.018326087729426895), (1792, 0.01832336782720743), (641, 0.01828749018865132), (2366, 0.018275570156226963), (497, 0.018262506175004124), (4295, 0.01824932221984279), (3751, 0.018231055716409893), (1988, 0.018216394521487888), (2190, 0.018200815242433076), (2772, 0.01819557255383114), (2953, 0.018182905783753093), (3763, 0.018181774491478092), (3799, 0.018158769985148638), (3410, 0.018147842423349634), (826, 0.018114790063543443), (587, 0.018110817097157835), (4604, 0.01810651673538933), (3537, 0.018093751081238552), (2664, 0.0180791368231964), (3414, 0.01807150071544993), (3026, 0.018055849408399386), (140, 0.01803234200903287), (4169, 0.01802440334264482), (3577, 0.018016628023807314), (1210, 0.018014276638204686), (3302, 0.01801181321294472), (4732, 0.017987260316405233), (4516, 0.017981670199739026), (1805, 0.017975936568955467), (77, 0.017974517388805233), (4657, 0.01794489394711722), (791, 0.017938544817002616), (3308, 0.017938433222021783), (4471, 0.017926683518478932), (122, 0.017914424910771266), (3889, 0.017914316541820102), (1995, 0.017911769513615637), (4650, 0.017909747564834662), (3101, 0.017908006528563083), (4267, 0.017907117752357614), (3781, 0.017896713006411817), (3408, 0.01789300583367983), (113, 0.017886910763372094), (4259, 0.01787519480570041), (2361, 0.017874867102456254), (176, 0.01787207320347007), (3057, 0.01786412355877709), (4633, 0.01785941671595347), (4363, 0.017832764495401072), (3749, 0.017813242029432824), (2844, 0.017809229285994255), (3372, 0.01780307210651287), (4354, 0.0178017695401689), (262, 0.01777768586485337), (3093, 0.017766890178601415), (1169, 0.017751448490644653), (1787, 0.0177350015674235), (906, 0.01771692153872852), (4616, 0.01768837250769499), (1887, 0.01768733601354897), (4668, 0.017677078370199127), (2320, 0.017676474796350396), (2629, 0.017666125514128144), (3542, 0.017663896159886443), (998, 0.01763930519466493), (1802, 0.017626873599759438), (4602, 0.017624535905441784), (2720, 0.017620530486608887), (253, 0.01761587461018903), (2725, 0.017612007978638784), (813, 0.017595042777050263), (2356, 0.017591920775620624), (2134, 0.017581471077115305), (4368, 0.017575792413556703), (476, 0.01755862230836283), (2507, 0.017551275508413573), (3003, 0.0175511055634556), (1293, 0.017523491919880927), (4386, 0.017518999652624618), (4744, 0.017514927326684956), (1398, 0.017514583601160018), (2556, 0.017504176257440322), (3920, 0.01749672374116066), (2177, 0.017479383793778648), (2884, 0.017453899029050708), (3417, 0.0174521408446467), (2145, 0.01743258050956132), (4024, 0.017427025713969254), (3013, 0.017409943032524158), (4182, 0.01740439613846001), (2783, 0.017397823909961748), (648, 0.017393574915718014), (444, 0.017388093600552726), (2148, 0.01737192394455095), (4575, 0.01736908383989505), (1752, 0.017367874354840926), (1342, 0.017363527949746303), (2223, 0.01736199614195242), (985, 0.017357863682181635), (2390, 0.017352973947016077), (4680, 0.01734952796361572), (3866, 0.017336855837105543), (3983, 0.017335492401006375), (1656, 0.0173166286504101), (596, 0.017309778161223772), (1376, 0.017294244683434403), (3611, 0.01726957778202649), (3678, 0.017260975607248197), (3639, 0.017259655495723464), (4545, 0.017248729726513347), (3064, 0.017233238729637022), (999, 0.01723138464773572), (2792, 0.017226132911637947), (4140, 0.017217521481517225), (8, 0.01720857127364171), (3677, 0.017205300076106673), (3770, 0.017197715179915474), (3867, 0.017197293527092348), (3877, 0.017187292747496027), (3084, 0.017181229307649662), (1168, 0.017173941341946473), (3116, 0.017169287547965876), (1747, 0.017168074858619504), (2585, 0.01716318424055482), (130, 0.017156910505924577), (2943, 0.017152520091762585), (4273, 0.01715098352350915), (2887, 0.017143589245650157), (2176, 0.017124473417010733), (3170, 0.017105420038450038), (2882, 0.01710105923135906), (3557, 0.017075950607531747), (3560, 0.01707275722571996), (3893, 0.017067603578156138), (1350, 0.017027783274974374), (2072, 0.017018370913757262), (3917, 0.01701645873033345), (3075, 0.01700945963891258), (2531, 0.017006801991204648), (3593, 0.017006564603946832), (4262, 0.016993948012389366), (3987, 0.016986817714711947), (1826, 0.01698121976224413), (1153, 0.016973125081695906), (4304, 0.01695135680520643), (3234, 0.01694507962539963), (4245, 0.016943946568018835), (4, 0.016925557382750943), (3316, 0.01692433916823517), (308, 0.01691780545865118), (2230, 0.01691249820375127), (57, 0.016902663317955872), (1072, 0.016895391450397416), (3148, 0.016884325855140377), (4296, 0.01687856700762199), (3187, 0.016869786967135234), (1547, 0.01686358788553827), (4287, 0.01684052069244603), (739, 0.016824695465562003), (717, 0.01682448142445635), (1890, 0.01682420159931963), (627, 0.016820257262645702), (3496, 0.016803257371993355), (1959, 0.01679008240426806), (2723, 0.01678303445510301), (1409, 0.01677457299980405), (4422, 0.016762078087550474), (4743, 0.01676206125285866), (318, 0.016757072708447462), (3511, 0.01675460892570277), (3268, 0.01675116986027527), (2005, 0.01675009068697098), (1670, 0.016743096083861018), (2317, 0.01673967190736014), (3224, 0.016722015075287422), (2410, 0.01671678698129008), (2386, 0.016709165256492915), (4269, 0.01670056051363285), (3500, 0.01668568209378394), (1157, 0.016672689986764064), (1848, 0.01666788661741062), (2776, 0.016667249666671366), (4448, 0.016663959768827504), (3113, 0.016659129547050656), (3184, 0.01665630178713859), (4495, 0.016650521322586216), (3873, 0.01664064166817052), (1594, 0.016604815608153783), (3809, 0.016603920784740017), (2893, 0.016597068298094722), (1870, 0.016589334706512415), (2105, 0.016584324907343604), (3173, 0.01657363468012752), (1109, 0.016567037982873817), (2687, 0.016559889446972745), (4596, 0.01655743973205566), (4087, 0.01653787141418641), (4401, 0.016536315287976836), (2292, 0.016535790785239722), (2592, 0.016521475762434804), (192, 0.016521232674085142), (4145, 0.01651015172903537), (3186, 0.016501870531511836), (4301, 0.01647447626092262), (448, 0.016466468468152223), (1410, 0.01645111980104138), (4638, 0.016444352753100924), (2048, 0.016439094600351895), (1957, 0.016428859992565013), (1439, 0.01642682237007142), (499, 0.016409663659913535), (3419, 0.016406417068318208), (579, 0.016392586517738665), (2755, 0.016388755802042736), (2269, 0.016358465473091624), (2370, 0.01635502922656818), (395, 0.01633835973744792), (4340, 0.016324833293169062), (1479, 0.016320018825052414), (4566, 0.016318382737647984), (41, 0.01631744428809226), (3647, 0.016310553394999292), (4343, 0.016306979887470974), (2741, 0.01629662519923003), (3241, 0.016296205480383037), (4427, 0.016295264321002034), (1907, 0.016277700426101355), (1916, 0.0162650650200992), (4574, 0.016262013548000446), (2402, 0.016249292250090898), (3335, 0.016236589051756043), (1660, 0.01622966115385197), (857, 0.016221083886212354), (74, 0.01622004584383629), (1032, 0.01620328583871585), (226, 0.01617596877834155), (235, 0.016174490455762233), (1637, 0.016166122266286033), (2595, 0.01616089094969152), (473, 0.016155484455974235), (646, 0.016140574403662417), (1040, 0.016137139408389848), (623, 0.01613273896147058), (4051, 0.016132448168681285), (4206, 0.016129476766256957), (1733, 0.016113087445298865), (3654, 0.016112569471205564), (1324, 0.016098806119755643), (4501, 0.016098743898554996), (4132, 0.01608850326273967), (1402, 0.016083647139602312), (3587, 0.01607470369335117), (2830, 0.016070196047312017), (4686, 0.01606858196246514), (4535, 0.016062791996468345), (4330, 0.01606032629704957), (3449, 0.016048098347105532), (2554, 0.016041444284245157), (12, 0.01604005646325838), (614, 0.01603839764832131), (4334, 0.016037498303264768), (2946, 0.016027343323949235), (624, 0.0160177681711466), (466, 0.016005306714981883), (2911, 0.016000405559348698), (419, 0.015988023761637066), (3757, 0.01598192191101408), (4263, 0.01597773522190943), (2260, 0.015967219068682436), (1580, 0.015963446825437717), (378, 0.015962328010094364), (1851, 0.015962038189208803), (4266, 0.015960998848246165), (1717, 0.015953703647684284), (4320, 0.015951517735688925), (3882, 0.015947565092175042), (1415, 0.015935526211877996), (4286, 0.015928627633119977), (1100, 0.015927270996446356), (3406, 0.01592110834210676), (4520, 0.01590009581235353), (3341, 0.015889643982956628), (2940, 0.0158788968907417), (3627, 0.015866221100317667), (3150, 0.01586567663719909), (4080, 0.015861836038075533), (3431, 0.015847277726066502), (2782, 0.015846917661140682), (1306, 0.015835325757676197), (1893, 0.01581991803201437), (612, 0.015815950931252834), (20, 0.01581535868545606), (3551, 0.0158134805655284), (3608, 0.015810514577657128), (564, 0.015804912365653553), (4446, 0.015795208760246773), (2393, 0.015778660154199778), (1349, 0.015758022869883353), (2999, 0.01575172725244408), (3915, 0.015748481454173006), (1722, 0.01573806720639175), (2679, 0.01573780010102518), (2735, 0.015737703719852784), (4489, 0.015737222697553798), (848, 0.015735517425658367), (2907, 0.015733637241414068), (987, 0.015733442665747777), (4348, 0.01573292872473621), (1748, 0.01573199023239158), (3506, 0.01572526809092012), (1411, 0.015724144747388744), (504, 0.015717783523272643), (887, 0.01571720913773939), (917, 0.01570473772219468), (1364, 0.015697057671688844), (767, 0.015696087479224477), (2661, 0.01569508687881829), (693, 0.01568871866417593), (1768, 0.015687210195191495), (975, 0.01568389731108883), (2466, 0.015683493232211996), (4049, 0.015682896129851232), (1790, 0.015675211701503485), (2419, 0.015664447738371633), (3069, 0.015653536107362264), (4101, 0.015648670245569714), (4083, 0.01563307040271214), (211, 0.015630213937220753), (1310, 0.015612352374160329), (4643, 0.015603732223402429), (3900, 0.015590049038046129), (1518, 0.015589440514403766), (2853, 0.015587906429150521), (3271, 0.015558921691916958), (3902, 0.015558803322030775), (2926, 0.015549741853379189), (19, 0.015545919263678053), (3050, 0.015545637984403487), (4136, 0.01552657257114996), (1884, 0.015515010644344459), (1570, 0.015514089157763743), (1714, 0.01551249138195259), (3289, 0.015511484112192398), (2651, 0.015509798503736367), (4563, 0.015494434339237752), (1161, 0.015491438116864964), (2863, 0.01548438271512144), (3388, 0.015480674360026864), (4355, 0.01547198454668676), (4712, 0.015465054937975429), (4113, 0.015458774795124463), (66, 0.015457353868552542), (1090, 0.015454965691591428), (4567, 0.015453242886443641), (3314, 0.015447822061306458), (1628, 0.015447441859209406), (1476, 0.015446094917518438), (2073, 0.015436333731292454), (283, 0.015424549851214865), (246, 0.015406700656074144), (1946, 0.015404355202519947), (2746, 0.015402886782227773), (1163, 0.015386938504021798), (3986, 0.015384418165641204), (4130, 0.015382171156150336), (3348, 0.01537674435738033), (1625, 0.015374227550033422), (2396, 0.01536813774687797), (1249, 0.015354677292872706), (4129, 0.015352476583004853), (1294, 0.015348117092387044), (2688, 0.015343231941694643), (3216, 0.015341830486599647), (2385, 0.015338709553078266), (377, 0.015337479239424088), (3283, 0.015331239830765299), (4054, 0.015327799125380025), (26, 0.015321195632832357), (3198, 0.015316232112665307), (4381, 0.015307333484690828), (1204, 0.015297514934159295), (2904, 0.015297039981297115), (2976, 0.015289632948495738), (115, 0.015278942805049177), (680, 0.015271483249145144), (4142, 0.015266227296638759), (884, 0.015263845865748723), (3701, 0.01525873402693816), (3225, 0.015244528669684721), (4357, 0.015235794890024629), (3174, 0.01523133949053544), (3755, 0.015222830486597096), (3290, 0.015216904994389602), (2888, 0.015209789253998959), (993, 0.015206952303178796), (1822, 0.015204069680358444), (2397, 0.015203779341310272), (4356, 0.015196549488744052), (2894, 0.015163698778194916), (3243, 0.015158719323525752), (3478, 0.015156078364459633), (2354, 0.015151902950609973), (593, 0.015149756417304299), (588, 0.015135821909368595), (488, 0.015131965770165566), (940, 0.015126216197042481), (2195, 0.015119010218150953), (2492, 0.015113136658018054), (3458, 0.015096745639104753), (4687, 0.01509402088884985), (4530, 0.015082064750942347), (576, 0.015074897146189349), (4420, 0.015069143029034851), (1877, 0.015068816418263449), (400, 0.015057829685619226), (198, 0.015049318628938244), (178, 0.015048606747195544), (1617, 0.01504620149702932), (1397, 0.015037864054629174), (2319, 0.015019795465169362), (3260, 0.015000020529893987), (1102, 0.014997192026844526), (1703, 0.01497216322797788), (3928, 0.0149667934403824), (872, 0.014964719196704526), (3477, 0.014957739915385005), (2945, 0.014950151973795017), (2141, 0.014918470701751004), (430, 0.014918073089139106), (890, 0.014896798252046142), (2340, 0.014885658253764885), (4197, 0.01488254110443834), (2163, 0.014877342929889433), (2495, 0.014875856036476294), (3845, 0.01487379998066996), (2609, 0.01487306810987413), (3491, 0.014866672448909475), (3668, 0.01485884572981629), (2034, 0.014847856371935014), (1516, 0.014847295478291061), (1634, 0.014846814629882781), (774, 0.014842139905828595), (555, 0.01484068698208687), (1765, 0.014823516592435032), (169, 0.01482048907260571), (2416, 0.014812942641346792), (3517, 0.014798571963281288), (1891, 0.014796180396988538), (3412, 0.014775379951197341), (2610, 0.0147646558276019), (4536, 0.01476463652409494), (1176, 0.014750862281823372), (3739, 0.014732693009935315), (471, 0.014730895795155453), (3673, 0.014728762829823168), (1574, 0.014724417047304678), (2169, 0.014714425486632604), (4183, 0.014706341781499587), (2387, 0.014702884110746136), (71, 0.014693618783213054), (3565, 0.014692560661789656), (1474, 0.014682782966462523), (3441, 0.014680161233405431), (2826, 0.014656190488404762), (1355, 0.014652075650750404), (399, 0.014650436316684947), (1706, 0.01464895490104656), (2068, 0.014638002697051277), (2747, 0.014627977895791695), (2571, 0.014625883276024145), (883, 0.014604556796761065), (1378, 0.014604480344479474), (3493, 0.014597126786746337), (2612, 0.014596046800857567), (103, 0.014595000167682611), (3792, 0.014589895712325036), (2779, 0.014586327644955786), (984, 0.0145794999045071), (2129, 0.014579187288944613), (3548, 0.01457818223862606), (1550, 0.014574222514417371), (4056, 0.014564165066046148), (3906, 0.014562302860359732), (3890, 0.014557657107202566), (4059, 0.01455645753661003), (1084, 0.014555745270166134), (1059, 0.014554613663348646), (1672, 0.01453167952651159), (2213, 0.014526675688785948), (3211, 0.014486879432173824), (3369, 0.014479012959836116), (2569, 0.014478787979028634), (4085, 0.01446944221164865), (1122, 0.014461155058370635), (4472, 0.01445939336751559), (456, 0.014456696027609251), (1598, 0.014451858638550448), (2131, 0.01444235432389391), (969, 0.014434018208239531), (4608, 0.014424887163700642), (23, 0.014422437577146776), (1831, 0.014417497541488161), (871, 0.014402460692145439), (1117, 0.014397930635298605), (490, 0.014393097196757866), (2652, 0.014392293475012882), (1896, 0.014381652842637207), (1286, 0.014376275104889306), (2422, 0.014367651430936306), (98, 0.014353382834027144), (4394, 0.014341165793398567), (4020, 0.014330884251160343), (655, 0.014321198766191407), (3606, 0.014316474478875367), (3646, 0.014315478249469708), (247, 0.014314997947086943), (2192, 0.014308500988293678), (1313, 0.01430172059852663), (4036, 0.014300502782012666), (221, 0.014289808009048407), (1170, 0.014289093327089625), (2954, 0.014286001724814743), (505, 0.014285784834248656), (2102, 0.014285762765208508), (1110, 0.01428180767554584), (1304, 0.014281200493691078), (3182, 0.014269014778128367), (2642, 0.01426559713113032), (3220, 0.014262738491672913), (3379, 0.014257363992581694), (3402, 0.014255269233863008), (1298, 0.01424965897423783), (2467, 0.014245213036650847), (114, 0.014241446607382474), (348, 0.014238663185834832), (973, 0.014226185247543715), (755, 0.014220064827415582), (1319, 0.01421738561032721), (3390, 0.014200297605919957), (3455, 0.014200051479007037), (4155, 0.014169149250800823), (2268, 0.01416902422276986), (1036, 0.014166322344574838), (2117, 0.014160868024212717), (3147, 0.014152650395386266), (4137, 0.01415260280702127), (2446, 0.014147977640469494), (538, 0.014131732780943346), (2367, 0.014131151789260134), (372, 0.014127541655376831), (1744, 0.014124677079316158), (229, 0.014122627639447449), (1007, 0.014108421972728163), (4277, 0.014090486267798104), (865, 0.014087120960999918), (907, 0.01407515864716937), (495, 0.014064806096675223), (3445, 0.014054606954219825), (3298, 0.014054030523337887), (1416, 0.014038719031681754), (1663, 0.014028938387180443), (3913, 0.014027950271048084), (3706, 0.014020636133913042), (3765, 0.01401366709396973), (3278, 0.014004461248835627), (959, 0.013999516226348168), (886, 0.013995068161076355), (4011, 0.01399106743443763), (2430, 0.01398151177486027), (1422, 0.013974922060859466), (2060, 0.013972418268852826), (1641, 0.013968338940650311), (2461, 0.013966412136064914), (268, 0.013953041179372502), (645, 0.013932800708312178), (453, 0.013931583629961532), (4620, 0.013926671449570847), (3811, 0.013921427313975094), (541, 0.01391928095806574), (3028, 0.013912929892373556), (1533, 0.013910796651024895), (1408, 0.013887979509213997), (11, 0.013884561360317158), (4069, 0.013883874845284817), (1247, 0.013880796225469252), (2892, 0.013877074894686361), (722, 0.013874658840358805), (2226, 0.01386915103968742), (4359, 0.013865647039111103), (4104, 0.0138628206161104), (127, 0.013857747418733093), (3381, 0.013846093135093804), (647, 0.013845831041893717), (4634, 0.013837424688487431), (2912, 0.013834877842492413), (2593, 0.013829082199141014), (3014, 0.013819032450281656), (2457, 0.013806919510916902), (1543, 0.013801761792155209), (2083, 0.01379645455103485), (3300, 0.01379487750535539), (698, 0.013792361030121287), (1813, 0.013790414443520298), (749, 0.013787929183022239), (2765, 0.013785490054980937), (3691, 0.01377990248349448), (167, 0.013768367424023714), (2004, 0.01376155103799084), (944, 0.013761318252099067), (2146, 0.013760687225997765), (132, 0.013759415604102375), (1463, 0.01375838005101866), (672, 0.013756676142349319), (4487, 0.013753297093153058), (2965, 0.013745299699859128), (2878, 0.01374516653348535), (1929, 0.013733976612036831), (507, 0.013719381433795396), (4598, 0.013719340485483511), (1882, 0.013718912102063554), (1404, 0.013709535881431612), (522, 0.013702706660989963), (2323, 0.013693044467536851), (2909, 0.013686551607798421), (1034, 0.013665055598408332), (2972, 0.013650538629774174), (4220, 0.013647866631964357), (3304, 0.013644875380762292), (1042, 0.01363249368700269), (2111, 0.013628003535574305), (2201, 0.013627765124972819), (1558, 0.01361971412320767), (2525, 0.013608773366467456), (3868, 0.0135980999343024), (1273, 0.013578120375201001), (4636, 0.013574895163457092), (158, 0.013574754017473637), (1954, 0.013563821542779107), (3200, 0.013557886523095789), (4429, 0.013556876156640767), (388, 0.013551155426618739), (798, 0.013546034424398824), (3327, 0.013545893327646295), (3953, 0.013541132013291188), (1597, 0.013525927214179228), (2520, 0.013511558887793552), (1742, 0.01348893971212754), (3039, 0.013484654817418552), (4135, 0.013480818176056565), (3315, 0.013477838966801397), (2399, 0.013469947459279503), (165, 0.01346291142307383), (2634, 0.013455372961914996), (1642, 0.013447421087358635), (480, 0.013447191348568203), (3564, 0.013435010950186062), (2862, 0.013423363393965338), (2099, 0.013418704186053438), (3071, 0.01341816425986857), (2800, 0.013411508672778573), (731, 0.013410136053414146), (3347, 0.01340113225137544), (659, 0.013393888596104634), (1284, 0.013393011221012887), (1666, 0.013361477837975368), (805, 0.013352476668782894), (1026, 0.013342444674931921), (2802, 0.013339766919021003), (325, 0.01333212919839676), (2591, 0.013326530628268855), (1418, 0.013313997611839441), (2453, 0.013305418587737969), (759, 0.013278551821721586), (2338, 0.013273403890442584), (885, 0.01327254491959238), (324, 0.013262022504949667), (1002, 0.013250984740293386), (1209, 0.013250955707722029), (524, 0.01324768669451919), (1372, 0.013240390726523764), (1605, 0.013233722761087384), (1027, 0.01322407913901875), (4476, 0.013212701998798052), (1869, 0.013207135782703864), (3894, 0.013204615506724575), (2242, 0.013195074548287153), (2067, 0.013191266579678746), (3669, 0.013179049165708417), (1528, 0.013176082105282493), (1357, 0.013159753715949511), (4139, 0.013158034665126389), (1370, 0.013155648148689008), (2552, 0.013152811218840831), (2132, 0.013127725498409012), (1693, 0.013120512292269255), (3641, 0.01311902002139882), (121, 0.013105885063758621), (355, 0.013097271851897994), (3795, 0.013090907561942595), (2920, 0.013081040567103587), (3863, 0.013080198341203674), (359, 0.013073372454943081), (1098, 0.013071594592880417), (4247, 0.013069504475250961), (1004, 0.013053174653479471), (1827, 0.013051208266534692), (2313, 0.013035136351425378), (1977, 0.013035105961253398), (2611, 0.013028089017937328), (1969, 0.01302488587451664), (1423, 0.013022735530103587), (1814, 0.013008473509665263), (3725, 0.013004791576163905), (1503, 0.012995017982463483), (416, 0.012992280432002734), (598, 0.012968512106004897), (2127, 0.012968190668779547), (1060, 0.012967475717580173), (707, 0.012955171300597047), (2509, 0.012943363697622818), (1080, 0.012937010978754328), (349, 0.01292579484183051), (1131, 0.012923955653470896), (410, 0.012916404333231487), (3311, 0.012907700716878528), (3380, 0.012897132728402634), (3167, 0.012892622335168868), (1763, 0.01288732514054311), (3503, 0.012884136348306768), (4226, 0.012873246294486019), (3024, 0.012872058635869045), (136, 0.01287069374088764), (3614, 0.012861321234849071), (2528, 0.012854379905287382), (1456, 0.012853554450483088), (1392, 0.012849672561868843), (589, 0.012847448413637863), (4550, 0.012844719066677397), (4428, 0.0128417400879215), (3194, 0.012840100549152593), (215, 0.012838857834605887), (4074, 0.012836597591009283), (4066, 0.012830530231871775), (1565, 0.012813832843624884), (4345, 0.012811645937679786), (594, 0.01280071272337823), (457, 0.012793026903144105), (267, 0.01276201962757397), (854, 0.012756651302714271), (4479, 0.012755491646981826), (4350, 0.01275160370435531), (195, 0.012751210486915387), (1645, 0.012732572116574916), (92, 0.01270915920558209), (154, 0.012690977245471028), (4174, 0.012683735171062398), (3254, 0.012654918373710682), (1079, 0.012624370669052542), (3336, 0.012620164730402485), (4411, 0.012619969150462092), (4152, 0.012616148462264696), (3027, 0.01260013355370528), (3538, 0.01259762557525307), (951, 0.012588977079286872), (1782, 0.012560376480566115), (852, 0.0125223671688509), (2845, 0.01250727138657115), (2166, 0.012504081571825294), (3657, 0.01249087196002951), (1366, 0.012459998008264446), (2753, 0.01244710953073223), (3056, 0.012441300763264634), (1980, 0.012427590181941745), (373, 0.012420178601157236), (357, 0.012409619569087158), (4626, 0.012408102373359705), (605, 0.01240637523271214), (856, 0.012395993043479653), (249, 0.012391548837106072), (1318, 0.01238711302444212), (1186, 0.012384072819080287), (3629, 0.012381196727518357), (2047, 0.012365949637795925), (1921, 0.012336609291883613), (2526, 0.01231706120417155), (2743, 0.012304345030285853), (2502, 0.01229235407972066), (3742, 0.012276705107994109), (1352, 0.01227327015784106), (1719, 0.01226363633373381), (2728, 0.01223004583503705), (4473, 0.012156997996320109), (3855, 0.012117706976354607), (1219, 0.012106760125752177), (97, 0.012102030056946265), (1450, 0.012092854588140672), (1616, 0.012071877596730618), (2873, 0.01206674359354303), (1583, 0.012031818704375905), (815, 0.012022611325182102), (1808, 0.012021084965048567), (1394, 0.011981049768017445), (4445, 0.011960845708326557), (2721, 0.011957833140853798), (2270, 0.011929836497714851), (196, 0.011914422848611942), (1801, 0.01189805500049759), (1691, 0.011885460959387957), (712, 0.011873777667016437), (2287, 0.011868217770521947), (1251, 0.011859227722684659), (1301, 0.011839303538084562), (2482, 0.011786387075469008), (2761, 0.011774843810880552), (1217, 0.011754680111175043), (1943, 0.011747461614896603), (3252, 0.011735642838841764), (432, 0.011725470726976052), (184, 0.011718399817902963), (2010, 0.01171443153660366), (3238, 0.011683546464350209), (1340, 0.011673467814563774), (3575, 0.011669607146088952), (3569, 0.011657973424202227), (2382, 0.011622525404061477), (1199, 0.01161799113295448), (703, 0.01160494807526148), (293, 0.011604014520658944), (3393, 0.011588001456618927), (901, 0.011501836841097077), (2816, 0.011498536956685108), (4015, 0.011466321375755708), (1948, 0.011459579737431903), (1088, 0.011454177699674932), (2758, 0.011443408138865751), (4143, 0.011392024120001353), (2339, 0.011367570534241858), (1427, 0.011354675770894293), (278, 0.011346954014374694), (2527, 0.011306959910589878), (2240, 0.011306841197523442), (626, 0.01128942831898208), (2510, 0.0112835417761779), (2359, 0.011273920774292434), (1830, 0.011259065828688549), (3199, 0.01123216729175614), (2039, 0.011214935828972946), (4200, 0.011207485797108938), (286, 0.011193580562397934), (1737, 0.01117664899746423), (2441, 0.011166941477447888), (607, 0.011133610973664304), (1828, 0.011131425104749687), (3256, 0.01112198271854386), (1305, 0.01104182317593574), (1624, 0.010979172259046384), (1770, 0.010955288275578963), (194, 0.010936724079124278), (1526, 0.010869375606068005), (4061, 0.010846273628466116), (2726, 0.01084133233259687), (3626, 0.01082934826757308), (1014, 0.010798246892640051), (582, 0.010737200487973192), (4752, 0.010720461804368517), (2101, 0.010658558331763664), (1277, 0.010624242355632313), (3926, 0.010584848939479561), (3365, 0.010583033212282674), (1692, 0.010574394300872564), (1886, 0.010537424653136914), (2767, 0.010516651386738346), (232, 0.010458490661845305), (4467, 0.010438865683719156), (1677, 0.010404920194409938), (3301, 0.01039950450193216), (2760, 0.010371799159008679), (1718, 0.010332110595356945), (3515, 0.010321860816920759), (4351, 0.010318427625327812), (4171, 0.010308762116378203), (3632, 0.010307974200074276), (1486, 0.010268602464291524), (3594, 0.01026037698254961), (351, 0.01025753706328846), (2426, 0.010246087174287766), (2902, 0.010223583450356158), (1238, 0.010151741437697096), (4738, 0.010150589363951185), (778, 0.010146426889627618), (671, 0.010144088667725294), (3546, 0.010138787281819064), (1069, 0.010113138039887394), (4077, 0.010084917534392196), (2335, 0.010064315474617665), (2766, 0.010030037993913643), (4001, 0.010029479827517), (340, 0.009910748376285184), (4196, 0.009902858189032797), (2732, 0.009861703655113416), (3008, 0.009847609572467837), (228, 0.009825891811177061), (2636, 0.009813271742701796), (4236, 0.009811260185070544), (1425, 0.009809646890694674), (3265, 0.009808306044303232), (4057, 0.009759382903249725), (758, 0.009746717905516138), (3648, 0.009745918341233686), (3033, 0.009720759265792167), (2056, 0.00971881577937778), (4388, 0.009703509920053874), (1267, 0.009694925901459353), (3309, 0.009686924095644634), (2708, 0.009628143845348944), (748, 0.009623968389649493), (4342, 0.009622173824240219), (600, 0.009568432208603678), (4272, 0.00954063247110804), (1501, 0.009533174725500143), (2198, 0.009520295926381019), (615, 0.009518705245621298), (3392, 0.009508025834888424), (4367, 0.009494433667991754), (413, 0.009492859265712333), (1250, 0.009491770521421571), (3748, 0.009476318374750463), (4008, 0.00947064900487494), (812, 0.009423968204668414), (56, 0.009423722670992514), (1345, 0.009409619778801441), (1374, 0.009406372271198195), (752, 0.009396116421212339), (301, 0.009390594535691693), (1647, 0.009387816345028688), (3288, 0.009374671284888782), (363, 0.009360700209302056), (4564, 0.009304411183836452), (821, 0.00930142069847056), (2503, 0.00927788298845823), (1867, 0.009268418790276753), (3023, 0.009267060623057027), (1913, 0.009262080553408015), (202, 0.00923767920167653), (1329, 0.009199541166437893), (131, 0.009192004752338272), (22, 0.009189750032721255), (3457, 0.009176114032961591), (129, 0.009166019102850885), (2203, 0.009158606404744796), (1172, 0.00915849212591413), (1849, 0.009158327949137273), (3066, 0.009158155995566566), (2098, 0.009146608149770549), (1644, 0.00914109218088967), (3909, 0.009117609736736037), (2095, 0.009096540863826094), (834, 0.009082897439695783), (1911, 0.009069616216942569), (386, 0.009066947724167536), (2691, 0.009060584115798105), (2244, 0.009003198303531076), (2113, 0.008986759157983248), (4217, 0.008977109472836134), (1327, 0.008960332388900316), (1111, 0.008957657927796318), (1094, 0.008956578851088118), (230, 0.008952122198336146), (2020, 0.008951729010692125), (1552, 0.008944866930018619), (2517, 0.00893317980988137), (568, 0.008910104547057122), (1746, 0.008889458696840139), (1195, 0.008883611679411669), (3244, 0.00886469727658147), (3825, 0.008844711397053872), (4726, 0.008843386579022776), (3864, 0.00881685488285145), (24, 0.008795013903124822), (248, 0.00878908016624632), (958, 0.008770897181358006), (4009, 0.00873729099655597), (618, 0.008734801545122508), (740, 0.008718342210113382), (1863, 0.008697231281791638), (1715, 0.008687947003840783), (2202, 0.008684142603842452), (1818, 0.00866681197914258), (4099, 0.008659515147312063), (2160, 0.008643081476969246), (4210, 0.008621022842728726), (4459, 0.008616867709189034), (858, 0.008613765865514735), (1908, 0.00859696928236158), (3998, 0.008501672861317738), (1841, 0.00848613236554613), (1095, 0.008483854518944773), (3598, 0.008471130219657142), (2185, 0.008461153731854408), (3566, 0.00844662301704626), (835, 0.00841879434228594), (300, 0.008418455712959306), (4385, 0.008407669974848167), (1684, 0.008405876787566621), (2239, 0.008398555099791132), (9, 0.00838926686957532), (3114, 0.008376410883483528), (583, 0.00836364775257014), (177, 0.008340869967913136), (2205, 0.008336020629553525), (1307, 0.008335147807856528), (4303, 0.008322328267665574), (35, 0.008312737369191827), (1316, 0.008310763397239917), (263, 0.008295271555377482), (1780, 0.00828328627254904), (1903, 0.008272333937144778), (521, 0.008238190556806711), (1664, 0.008199484552467148), (185, 0.00819898876487359), (3509, 0.008196715157088233), (2156, 0.00806939260851742), (2439, 0.00804716791852107), (2175, 0.00799442408201415), (2935, 0.007969128754150885), (2058, 0.007951956290367792), (4055, 0.00793204722896441), (4035, 0.007923303158599768), (3752, 0.007853325249804624), (3164, 0.007709357062525283), (3940, 0.00763187357452591), (3865, 0.007620059319614702), (2291, 0.007588667911011914), (168, 0.007585077794838963), (4110, 0.007412678994335261), (2665, 0.007282766956679864), (3559, 0.007207682936553469), (1695, 0.007205233891258671), (475, 0.007180747415211423), (477, 0.0071504031701619284), (4373, 0.00708478274106022), (1453, 0.0069899250132193875), (2774, 0.006864712754071696), (2022, 0.006849922027315209), (336, 0.006759262989247387), (414, 0.00663661710976393), (2064, 0.006596860712676056), (561, 0.006567750054692543), (3563, 0.006494610516323363), (155, 0.006459866589873307), (3205, 0.005982501831100195), (2157, 0.005964674971576744), (2660, 0.005816597935408486), (2534, 0.005506824149069409), (1, 0.0), (2, 0.0), (14, 0.0), (17, 0.0), (28, 0.0), (36, 0.0), (37, 0.0), (49, 0.0), (53, 0.0), (54, 0.0), (55, 0.0), (58, 0.0), (59, 0.0), (64, 0.0), (73, 0.0), (91, 0.0), (100, 0.0), (101, 0.0), (110, 0.0), (117, 0.0), (133, 0.0), (134, 0.0), (141, 0.0), (146, 0.0), (150, 0.0), (151, 0.0), (153, 0.0), (163, 0.0), (171, 0.0), (186, 0.0), (188, 0.0), (205, 0.0), (214, 0.0), (219, 0.0), (223, 0.0), (225, 0.0), (237, 0.0), (245, 0.0), (257, 0.0), (258, 0.0), (259, 0.0), (264, 0.0), (265, 0.0), (272, 0.0), (275, 0.0), (297, 0.0), (298, 0.0), (299, 0.0), (302, 0.0), (312, 0.0), (319, 0.0), (331, 0.0), (335, 0.0), (337, 0.0), (338, 0.0), (339, 0.0), (344, 0.0), (352, 0.0), (361, 0.0), (362, 0.0), (365, 0.0), (366, 0.0), (376, 0.0), (379, 0.0), (382, 0.0), (383, 0.0), (384, 0.0), (390, 0.0), (391, 0.0), (392, 0.0), (393, 0.0), (394, 0.0), (398, 0.0), (401, 0.0), (404, 0.0), (405, 0.0), (411, 0.0), (415, 0.0), (421, 0.0), (423, 0.0), (427, 0.0), (439, 0.0), (440, 0.0), (454, 0.0), (459, 0.0), (462, 0.0), (484, 0.0), (486, 0.0), (491, 0.0), (492, 0.0), (498, 0.0), (506, 0.0), (516, 0.0), (517, 0.0), (520, 0.0), (525, 0.0), (528, 0.0), (529, 0.0), (531, 0.0), (535, 0.0), (536, 0.0), (546, 0.0), (548, 0.0), (549, 0.0), (552, 0.0), (554, 0.0), (556, 0.0), (557, 0.0), (565, 0.0), (567, 0.0), (569, 0.0), (570, 0.0), (572, 0.0), (573, 0.0), (574, 0.0), (575, 0.0), (577, 0.0), (585, 0.0), (591, 0.0), (592, 0.0), (599, 0.0), (601, 0.0), (602, 0.0), (603, 0.0), (610, 0.0), (630, 0.0), (649, 0.0), (650, 0.0), (656, 0.0), (658, 0.0), (662, 0.0), (663, 0.0), (665, 0.0), (674, 0.0), (679, 0.0), (681, 0.0), (686, 0.0), (699, 0.0), (700, 0.0), (702, 0.0), (704, 0.0), (708, 0.0), (709, 0.0), (711, 0.0), (713, 0.0), (714, 0.0), (718, 0.0), (720, 0.0), (724, 0.0), (725, 0.0), (726, 0.0), (730, 0.0), (736, 0.0), (741, 0.0), (746, 0.0), (747, 0.0), (751, 0.0), (754, 0.0), (764, 0.0), (770, 0.0), (771, 0.0), (772, 0.0), (773, 0.0), (780, 0.0), (781, 0.0), (784, 0.0), (785, 0.0), (786, 0.0), (789, 0.0), (797, 0.0), (807, 0.0), (819, 0.0), (820, 0.0), (822, 0.0), (837, 0.0), (839, 0.0), (840, 0.0), (841, 0.0), (846, 0.0), (859, 0.0), (881, 0.0), (882, 0.0), (892, 0.0), (909, 0.0), (912, 0.0), (913, 0.0), (914, 0.0), (920, 0.0), (926, 0.0), (938, 0.0), (943, 0.0), (945, 0.0), (946, 0.0), (950, 0.0), (954, 0.0), (955, 0.0), (956, 0.0), (960, 0.0), (961, 0.0), (964, 0.0), (965, 0.0), (971, 0.0), (972, 0.0), (977, 0.0), (978, 0.0), (982, 0.0), (983, 0.0), (990, 0.0), (995, 0.0), (1008, 0.0), (1010, 0.0), (1011, 0.0), (1013, 0.0), (1016, 0.0), (1022, 0.0), (1025, 0.0), (1028, 0.0), (1029, 0.0), (1031, 0.0), (1038, 0.0), (1039, 0.0), (1051, 0.0), (1055, 0.0), (1056, 0.0), (1057, 0.0), (1062, 0.0), (1066, 0.0), (1067, 0.0), (1073, 0.0), (1081, 0.0), (1085, 0.0), (1086, 0.0), (1089, 0.0), (1091, 0.0), (1093, 0.0), (1097, 0.0), (1101, 0.0), (1103, 0.0), (1105, 0.0), (1106, 0.0), (1108, 0.0), (1113, 0.0), (1126, 0.0), (1130, 0.0), (1133, 0.0), (1135, 0.0), (1139, 0.0), (1142, 0.0), (1143, 0.0), (1147, 0.0), (1149, 0.0), (1151, 0.0), (1155, 0.0), (1156, 0.0), (1159, 0.0), (1165, 0.0), (1166, 0.0), (1171, 0.0), (1178, 0.0), (1180, 0.0), (1189, 0.0), (1190, 0.0), (1193, 0.0), (1196, 0.0), (1198, 0.0), (1200, 0.0), (1201, 0.0), (1205, 0.0), (1212, 0.0), (1218, 0.0), (1221, 0.0), (1222, 0.0), (1227, 0.0), (1228, 0.0), (1233, 0.0), (1235, 0.0), (1240, 0.0), (1242, 0.0), (1244, 0.0), (1246, 0.0), (1253, 0.0), (1256, 0.0), (1258, 0.0), (1263, 0.0), (1265, 0.0), (1268, 0.0), (1269, 0.0), (1271, 0.0), (1283, 0.0), (1285, 0.0), (1287, 0.0), (1288, 0.0), (1289, 0.0), (1291, 0.0), (1295, 0.0), (1296, 0.0), (1297, 0.0), (1299, 0.0), (1315, 0.0), (1321, 0.0), (1322, 0.0), (1323, 0.0), (1326, 0.0), (1328, 0.0), (1333, 0.0), (1336, 0.0), (1346, 0.0), (1353, 0.0), (1354, 0.0), (1368, 0.0), (1373, 0.0), (1390, 0.0), (1399, 0.0), (1424, 0.0), (1437, 0.0), (1441, 0.0), (1444, 0.0), (1447, 0.0), (1457, 0.0), (1459, 0.0), (1460, 0.0), (1466, 0.0), (1467, 0.0), (1468, 0.0), (1470, 0.0), (1473, 0.0), (1482, 0.0), (1485, 0.0), (1487, 0.0), (1490, 0.0), (1491, 0.0), (1495, 0.0), (1496, 0.0), (1508, 0.0), (1511, 0.0), (1517, 0.0), (1520, 0.0), (1521, 0.0), (1522, 0.0), (1524, 0.0), (1525, 0.0), (1529, 0.0), (1532, 0.0), (1534, 0.0), (1535, 0.0), (1541, 0.0), (1545, 0.0), (1548, 0.0), (1549, 0.0), (1556, 0.0), (1557, 0.0), (1560, 0.0), (1561, 0.0), (1563, 0.0), (1564, 0.0), (1569, 0.0), (1577, 0.0), (1578, 0.0), (1581, 0.0), (1584, 0.0), (1586, 0.0), (1589, 0.0), (1592, 0.0), (1596, 0.0), (1599, 0.0), (1600, 0.0), (1601, 0.0), (1602, 0.0), (1603, 0.0), (1604, 0.0), (1606, 0.0), (1607, 0.0), (1610, 0.0), (1611, 0.0), (1613, 0.0), (1615, 0.0), (1618, 0.0), (1626, 0.0), (1636, 0.0), (1638, 0.0), (1639, 0.0), (1640, 0.0), (1646, 0.0), (1649, 0.0), (1651, 0.0), (1652, 0.0), (1657, 0.0), (1668, 0.0), (1669, 0.0), (1673, 0.0), (1679, 0.0), (1686, 0.0), (1689, 0.0), (1697, 0.0), (1698, 0.0), (1700, 0.0), (1702, 0.0), (1704, 0.0), (1709, 0.0), (1720, 0.0), (1725, 0.0), (1726, 0.0), (1728, 0.0), (1729, 0.0), (1731, 0.0), (1734, 0.0), (1745, 0.0), (1751, 0.0), (1755, 0.0), (1756, 0.0), (1757, 0.0), (1758, 0.0), (1766, 0.0), (1767, 0.0), (1769, 0.0), (1771, 0.0), (1775, 0.0), (1777, 0.0), (1778, 0.0), (1783, 0.0), (1785, 0.0), (1786, 0.0), (1794, 0.0), (1800, 0.0), (1803, 0.0), (1804, 0.0), (1810, 0.0), (1820, 0.0), (1823, 0.0), (1824, 0.0), (1825, 0.0), (1834, 0.0), (1835, 0.0), (1836, 0.0), (1837, 0.0), (1839, 0.0), (1842, 0.0), (1844, 0.0), (1855, 0.0), (1856, 0.0), (1879, 0.0), (1883, 0.0), (1888, 0.0), (1889, 0.0), (1894, 0.0), (1898, 0.0), (1899, 0.0), (1912, 0.0), (1915, 0.0), (1917, 0.0), (1926, 0.0), (1928, 0.0), (1932, 0.0), (1938, 0.0), (1944, 0.0), (1955, 0.0), (1956, 0.0), (1961, 0.0), (1963, 0.0), (1965, 0.0), (1966, 0.0), (1972, 0.0), (1974, 0.0), (1978, 0.0), (1979, 0.0), (1984, 0.0), (1999, 0.0), (2001, 0.0), (2002, 0.0), (2003, 0.0), (2006, 0.0), (2007, 0.0), (2009, 0.0), (2017, 0.0), (2018, 0.0), (2019, 0.0), (2021, 0.0), (2025, 0.0), (2028, 0.0), (2030, 0.0), (2032, 0.0), (2033, 0.0), (2036, 0.0), (2038, 0.0), (2041, 0.0), (2042, 0.0), (2043, 0.0), (2046, 0.0), (2050, 0.0), (2054, 0.0), (2059, 0.0), (2063, 0.0), (2071, 0.0), (2079, 0.0), (2081, 0.0), (2085, 0.0), (2086, 0.0), (2090, 0.0), (2092, 0.0), (2100, 0.0), (2106, 0.0), (2107, 0.0), (2115, 0.0), (2118, 0.0), (2120, 0.0), (2124, 0.0), (2125, 0.0), (2128, 0.0), (2135, 0.0), (2138, 0.0), (2140, 0.0), (2150, 0.0), (2152, 0.0), (2153, 0.0), (2164, 0.0), (2165, 0.0), (2168, 0.0), (2170, 0.0), (2171, 0.0), (2172, 0.0), (2179, 0.0), (2180, 0.0), (2182, 0.0), (2183, 0.0), (2186, 0.0), (2194, 0.0), (2200, 0.0), (2204, 0.0), (2215, 0.0), (2217, 0.0), (2218, 0.0), (2219, 0.0), (2220, 0.0), (2222, 0.0), (2225, 0.0), (2227, 0.0), (2233, 0.0), (2234, 0.0), (2238, 0.0), (2241, 0.0), (2243, 0.0), (2247, 0.0), (2249, 0.0), (2253, 0.0), (2256, 0.0), (2259, 0.0), (2261, 0.0), (2262, 0.0), (2263, 0.0), (2267, 0.0), (2271, 0.0), (2272, 0.0), (2274, 0.0), (2281, 0.0), (2282, 0.0), (2296, 0.0), (2297, 0.0), (2300, 0.0), (2305, 0.0), (2307, 0.0), (2311, 0.0), (2312, 0.0), (2315, 0.0), (2322, 0.0), (2325, 0.0), (2327, 0.0), (2329, 0.0), (2331, 0.0), (2332, 0.0), (2333, 0.0), (2337, 0.0), (2341, 0.0), (2342, 0.0), (2345, 0.0), (2351, 0.0), (2352, 0.0), (2357, 0.0), (2358, 0.0), (2360, 0.0), (2364, 0.0), (2365, 0.0), (2369, 0.0), (2371, 0.0), (2372, 0.0), (2373, 0.0), (2377, 0.0), (2380, 0.0), (2381, 0.0), (2384, 0.0), (2389, 0.0), (2395, 0.0), (2398, 0.0), (2409, 0.0), (2414, 0.0), (2420, 0.0), (2431, 0.0), (2433, 0.0), (2435, 0.0), (2445, 0.0), (2449, 0.0), (2450, 0.0), (2451, 0.0), (2452, 0.0), (2455, 0.0), (2456, 0.0), (2458, 0.0), (2462, 0.0), (2465, 0.0), (2470, 0.0), (2471, 0.0), (2472, 0.0), (2479, 0.0), (2483, 0.0), (2485, 0.0), (2491, 0.0), (2493, 0.0), (2497, 0.0), (2498, 0.0), (2499, 0.0), (2500, 0.0), (2504, 0.0), (2508, 0.0), (2511, 0.0), (2514, 0.0), (2515, 0.0), (2516, 0.0), (2518, 0.0), (2521, 0.0), (2523, 0.0), (2532, 0.0), (2536, 0.0), (2539, 0.0), (2542, 0.0), (2543, 0.0), (2547, 0.0), (2548, 0.0), (2549, 0.0), (2551, 0.0), (2562, 0.0), (2564, 0.0), (2566, 0.0), (2574, 0.0), (2575, 0.0), (2577, 0.0), (2578, 0.0), (2583, 0.0), (2584, 0.0), (2586, 0.0), (2588, 0.0), (2589, 0.0), (2590, 0.0), (2594, 0.0), (2596, 0.0), (2597, 0.0), (2604, 0.0), (2605, 0.0), (2608, 0.0), (2615, 0.0), (2616, 0.0), (2620, 0.0), (2627, 0.0), (2631, 0.0), (2637, 0.0), (2641, 0.0), (2646, 0.0), (2648, 0.0), (2656, 0.0), (2657, 0.0), (2658, 0.0), (2659, 0.0), (2662, 0.0), (2663, 0.0), (2666, 0.0), (2667, 0.0), (2669, 0.0), (2670, 0.0), (2671, 0.0), (2672, 0.0), (2675, 0.0), (2676, 0.0), (2677, 0.0), (2681, 0.0), (2684, 0.0), (2685, 0.0), (2686, 0.0), (2690, 0.0), (2693, 0.0), (2699, 0.0), (2701, 0.0), (2703, 0.0), (2704, 0.0), (2709, 0.0), (2710, 0.0), (2713, 0.0), (2715, 0.0), (2717, 0.0), (2718, 0.0), (2719, 0.0), (2729, 0.0), (2730, 0.0), (2734, 0.0), (2737, 0.0), (2749, 0.0), (2750, 0.0), (2754, 0.0), (2756, 0.0), (2763, 0.0), (2770, 0.0), (2773, 0.0), (2781, 0.0), (2785, 0.0), (2793, 0.0), (2794, 0.0), (2799, 0.0), (2804, 0.0), (2806, 0.0), (2810, 0.0), (2811, 0.0), (2813, 0.0), (2814, 0.0), (2817, 0.0), (2818, 0.0), (2824, 0.0), (2827, 0.0), (2828, 0.0), (2829, 0.0), (2835, 0.0), (2836, 0.0), (2837, 0.0), (2839, 0.0), (2842, 0.0), (2843, 0.0), (2850, 0.0), (2851, 0.0), (2852, 0.0), (2855, 0.0), (2856, 0.0), (2860, 0.0), (2864, 0.0), (2865, 0.0), (2866, 0.0), (2875, 0.0), (2877, 0.0), (2880, 0.0), (2885, 0.0), (2891, 0.0), (2896, 0.0), (2898, 0.0), (2905, 0.0), (2906, 0.0), (2921, 0.0), (2922, 0.0), (2927, 0.0), (2928, 0.0), (2930, 0.0), (2938, 0.0), (2941, 0.0), (2950, 0.0), (2951, 0.0), (2952, 0.0), (2955, 0.0), (2956, 0.0), (2958, 0.0), (2967, 0.0), (2968, 0.0), (2973, 0.0), (2979, 0.0), (2982, 0.0), (2983, 0.0), (2990, 0.0), (3001, 0.0), (3002, 0.0), (3006, 0.0), (3009, 0.0), (3017, 0.0), (3021, 0.0), (3025, 0.0), (3029, 0.0), (3034, 0.0), (3038, 0.0), (3041, 0.0), (3047, 0.0), (3048, 0.0), (3053, 0.0), (3054, 0.0), (3058, 0.0), (3059, 0.0), (3060, 0.0), (3061, 0.0), (3063, 0.0), (3068, 0.0), (3073, 0.0), (3077, 0.0), (3078, 0.0), (3080, 0.0), (3082, 0.0), (3083, 0.0), (3087, 0.0), (3088, 0.0), (3089, 0.0), (3090, 0.0), (3092, 0.0), (3103, 0.0), (3104, 0.0), (3105, 0.0), (3106, 0.0), (3107, 0.0), (3109, 0.0), (3115, 0.0), (3121, 0.0), (3130, 0.0), (3132, 0.0), (3138, 0.0), (3141, 0.0), (3145, 0.0), (3162, 0.0), (3169, 0.0), (3172, 0.0), (3175, 0.0), (3176, 0.0), (3177, 0.0), (3181, 0.0), (3188, 0.0), (3189, 0.0), (3190, 0.0), (3193, 0.0), (3197, 0.0), (3201, 0.0), (3202, 0.0), (3203, 0.0), (3204, 0.0), (3207, 0.0), (3208, 0.0), (3212, 0.0), (3217, 0.0), (3221, 0.0), (3223, 0.0), (3229, 0.0), (3231, 0.0), (3236, 0.0), (3250, 0.0), (3251, 0.0), (3255, 0.0), (3261, 0.0), (3266, 0.0), (3270, 0.0), (3272, 0.0), (3277, 0.0), (3281, 0.0), (3286, 0.0), (3287, 0.0), (3305, 0.0), (3310, 0.0), (3319, 0.0), (3320, 0.0), (3321, 0.0), (3323, 0.0), (3324, 0.0), (3332, 0.0), (3333, 0.0), (3340, 0.0), (3343, 0.0), (3350, 0.0), (3366, 0.0), (3368, 0.0), (3371, 0.0), (3378, 0.0), (3383, 0.0), (3394, 0.0), (3397, 0.0), (3400, 0.0), (3401, 0.0), (3411, 0.0), (3415, 0.0), (3422, 0.0), (3424, 0.0), (3427, 0.0), (3428, 0.0), (3439, 0.0), (3442, 0.0), (3444, 0.0), (3454, 0.0), (3459, 0.0), (3461, 0.0), (3467, 0.0), (3472, 0.0), (3473, 0.0), (3475, 0.0), (3476, 0.0), (3481, 0.0), (3482, 0.0), (3485, 0.0), (3489, 0.0), (3490, 0.0), (3494, 0.0), (3505, 0.0), (3510, 0.0), (3519, 0.0), (3522, 0.0), (3525, 0.0), (3529, 0.0), (3530, 0.0), (3532, 0.0), (3533, 0.0), (3539, 0.0), (3543, 0.0), (3545, 0.0), (3547, 0.0), (3549, 0.0), (3550, 0.0), (3554, 0.0), (3562, 0.0), (3567, 0.0), (3568, 0.0), (3572, 0.0), (3573, 0.0), (3574, 0.0), (3578, 0.0), (3581, 0.0), (3585, 0.0), (3589, 0.0), (3591, 0.0), (3592, 0.0), (3595, 0.0), (3600, 0.0), (3603, 0.0), (3607, 0.0), (3609, 0.0), (3610, 0.0), (3617, 0.0), (3622, 0.0), (3625, 0.0), (3628, 0.0), (3631, 0.0), (3633, 0.0), (3644, 0.0), (3649, 0.0), (3650, 0.0), (3662, 0.0), (3663, 0.0), (3671, 0.0), (3676, 0.0), (3681, 0.0), (3682, 0.0), (3683, 0.0), (3685, 0.0), (3686, 0.0), (3688, 0.0), (3690, 0.0), (3693, 0.0), (3695, 0.0), (3697, 0.0), (3698, 0.0), (3700, 0.0), (3702, 0.0), (3703, 0.0), (3709, 0.0), (3712, 0.0), (3716, 0.0), (3717, 0.0), (3718, 0.0), (3722, 0.0), (3724, 0.0), (3726, 0.0), (3730, 0.0), (3732, 0.0), (3735, 0.0), (3736, 0.0), (3738, 0.0), (3740, 0.0), (3743, 0.0), (3753, 0.0), (3758, 0.0), (3759, 0.0), (3760, 0.0), (3761, 0.0), (3764, 0.0), (3773, 0.0), (3783, 0.0), (3785, 0.0), (3786, 0.0), (3789, 0.0), (3790, 0.0), (3791, 0.0), (3796, 0.0), (3798, 0.0), (3800, 0.0), (3803, 0.0), (3805, 0.0), (3808, 0.0), (3812, 0.0), (3816, 0.0), (3817, 0.0), (3818, 0.0), (3820, 0.0), (3830, 0.0), (3831, 0.0), (3834, 0.0), (3836, 0.0), (3837, 0.0), (3838, 0.0), (3840, 0.0), (3843, 0.0), (3846, 0.0), (3847, 0.0), (3851, 0.0), (3856, 0.0), (3858, 0.0), (3859, 0.0), (3869, 0.0), (3870, 0.0), (3871, 0.0), (3879, 0.0), (3885, 0.0), (3887, 0.0), (3891, 0.0), (3896, 0.0), (3912, 0.0), (3914, 0.0), (3916, 0.0), (3918, 0.0), (3921, 0.0), (3923, 0.0), (3929, 0.0), (3930, 0.0), (3931, 0.0), (3933, 0.0), (3936, 0.0), (3937, 0.0), (3943, 0.0), (3948, 0.0), (3950, 0.0), (3963, 0.0), (3964, 0.0), (3965, 0.0), (3968, 0.0), (3969, 0.0), (3971, 0.0), (3972, 0.0), (3977, 0.0), (3979, 0.0), (3980, 0.0), (3981, 0.0), (3982, 0.0), (3985, 0.0), (3988, 0.0), (3991, 0.0), (3994, 0.0), (3996, 0.0), (4003, 0.0), (4006, 0.0), (4010, 0.0), (4018, 0.0), (4021, 0.0), (4022, 0.0), (4026, 0.0), (4027, 0.0), (4029, 0.0), (4031, 0.0), (4034, 0.0), (4037, 0.0), (4040, 0.0), (4041, 0.0), (4058, 0.0), (4063, 0.0), (4064, 0.0), (4065, 0.0), (4067, 0.0), (4070, 0.0), (4072, 0.0), (4073, 0.0), (4078, 0.0), (4084, 0.0), (4086, 0.0), (4097, 0.0), (4100, 0.0), (4108, 0.0), (4109, 0.0), (4112, 0.0), (4114, 0.0), (4115, 0.0), (4125, 0.0), (4127, 0.0), (4128, 0.0), (4131, 0.0), (4144, 0.0), (4146, 0.0), (4150, 0.0), (4153, 0.0), (4157, 0.0), (4159, 0.0), (4166, 0.0), (4167, 0.0), (4168, 0.0), (4170, 0.0), (4173, 0.0), (4179, 0.0), (4180, 0.0), (4181, 0.0), (4185, 0.0), (4186, 0.0), (4188, 0.0), (4190, 0.0), (4191, 0.0), (4194, 0.0), (4195, 0.0), (4198, 0.0), (4199, 0.0), (4201, 0.0), (4204, 0.0), (4207, 0.0), (4212, 0.0), (4214, 0.0), (4215, 0.0), (4218, 0.0), (4223, 0.0), (4224, 0.0), (4229, 0.0), (4234, 0.0), (4237, 0.0), (4238, 0.0), (4239, 0.0), (4241, 0.0), (4250, 0.0), (4253, 0.0), (4256, 0.0), (4258, 0.0), (4260, 0.0), (4270, 0.0), (4271, 0.0), (4276, 0.0), (4278, 0.0), (4279, 0.0), (4291, 0.0), (4294, 0.0), (4297, 0.0), (4300, 0.0), (4302, 0.0), (4305, 0.0), (4313, 0.0), (4315, 0.0), (4316, 0.0), (4317, 0.0), (4319, 0.0), (4323, 0.0), (4324, 0.0), (4327, 0.0), (4329, 0.0), (4332, 0.0), (4338, 0.0), (4341, 0.0), (4346, 0.0), (4347, 0.0), (4352, 0.0), (4353, 0.0), (4358, 0.0), (4364, 0.0), (4370, 0.0), (4372, 0.0), (4393, 0.0), (4404, 0.0), (4405, 0.0), (4406, 0.0), (4408, 0.0), (4410, 0.0), (4413, 0.0), (4414, 0.0), (4415, 0.0), (4417, 0.0), (4421, 0.0), (4424, 0.0), (4425, 0.0), (4433, 0.0), (4434, 0.0), (4437, 0.0), (4439, 0.0), (4447, 0.0), (4449, 0.0), (4451, 0.0), (4452, 0.0), (4453, 0.0), (4454, 0.0), (4455, 0.0), (4457, 0.0), (4460, 0.0), (4463, 0.0), (4478, 0.0), (4480, 0.0), (4483, 0.0), (4485, 0.0), (4491, 0.0), (4493, 0.0), (4496, 0.0), (4498, 0.0), (4499, 0.0), (4500, 0.0), (4506, 0.0), (4508, 0.0), (4509, 0.0), (4519, 0.0), (4525, 0.0), (4526, 0.0), (4532, 0.0), (4539, 0.0), (4541, 0.0), (4542, 0.0), (4547, 0.0), (4549, 0.0), (4556, 0.0), (4558, 0.0), (4559, 0.0), (4560, 0.0), (4561, 0.0), (4562, 0.0), (4565, 0.0), (4568, 0.0), (4569, 0.0), (4570, 0.0), (4577, 0.0), (4578, 0.0), (4580, 0.0), (4588, 0.0), (4592, 0.0), (4597, 0.0), (4599, 0.0), (4600, 0.0), (4609, 0.0), (4613, 0.0), (4615, 0.0), (4618, 0.0), (4622, 0.0), (4628, 0.0), (4631, 0.0), (4635, 0.0), (4644, 0.0), (4645, 0.0), (4647, 0.0), (4648, 0.0), (4651, 0.0), (4654, 0.0), (4655, 0.0), (4659, 0.0), (4662, 0.0), (4667, 0.0), (4671, 0.0), (4672, 0.0), (4675, 0.0), (4676, 0.0), (4681, 0.0), (4683, 0.0), (4688, 0.0), (4690, 0.0), (4700, 0.0), (4702, 0.0), (4711, 0.0), (4714, 0.0), (4716, 0.0), (4720, 0.0), (4725, 0.0), (4728, 0.0), (4730, 0.0), (4736, 0.0), (4737, 0.0), (4740, 0.0), (4741, 0.0), (4742, 0.0), (4745, 0.0), (4750, 0.0), (4751, 0.0), (4754, 0.0), (4755, 0.0), (4758, 0.0), (4759, 0.0)]\n"
          ]
        }
      ]
    },
    {
      "cell_type": "code",
      "source": [
        "# print the similar movies based on the index\n",
        "print('Top 30 Movies Suggested for you : \\n')\n",
        "i=1\n",
        "for movie in Sorted_Similar_Movies:\n",
        "  index=movie[0]\n",
        "  title_from_index = df[df.index==index]['Movie_Title'].values[0]\n",
        "  if (i<31):\n",
        "    print(i,'.',title_from_index)\n",
        "    i+=1"
      ],
      "metadata": {
        "colab": {
          "base_uri": "https://localhost:8080/"
        },
        "id": "86924FOG_m4E",
        "outputId": "1bceb26b-d7b5-470d-b9eb-a33c1fe46ee1"
      },
      "execution_count": 74,
      "outputs": [
        {
          "output_type": "stream",
          "name": "stdout",
          "text": [
            "Top 30 Movies Suggested for you : \n",
            "\n",
            "1 . Niagara\n",
            "2 . Harry Brown\n",
            "3 . N-Secure\n",
            "4 . Welcome to the Sticks\n",
            "5 . Out of Time\n",
            "6 . In Too Deep\n",
            "7 . Eye for an Eye\n",
            "8 . The Curse of Downers Grove\n",
            "9 . Dutch Kills\n",
            "10 . The Bank Job\n",
            "11 . The Boy Next Door\n",
            "12 . Butterfly on a Wheel\n",
            "13 . Enough\n",
            "14 . Blood Ties\n",
            "15 . The Raid\n",
            "16 . Z Storm\n",
            "17 . Brigham City\n",
            "18 . Kill the Messenger\n",
            "19 . Exiled\n",
            "20 . The Killer Inside Me\n",
            "21 . Adulterers\n",
            "22 . Deadline - U.S.A.\n",
            "23 . Easy Money\n",
            "24 . Civil Brand\n",
            "25 . Premium Rush\n",
            "26 . Machine Gun McCain\n",
            "27 . Zulu\n",
            "28 . Ocean's Thirteen\n",
            "29 . Kiss of Death\n",
            "30 . The Swindle\n"
          ]
        }
      ]
    },
    {
      "cell_type": "markdown",
      "source": [
        "# **Top 10 Movie Recommendation System**"
      ],
      "metadata": {
        "id": "UMQBJqypCiyP"
      }
    },
    {
      "cell_type": "code",
      "source": [
        "Movie_Name = input('Enter your favourite Movie name : ')\n",
        "list_of_all_the_Titles=df['Movie_Title'].tolist()\n",
        "Find_Close_Match=difflib.get_close_matches(Movie_Name,list_of_all_the_Titles)\n",
        "Close_Match=Find_Close_Match[0]\n",
        "Index_of_Movie=df[df.Movie_Title==Close_Match]['Movie_ID'].values[0]\n",
        "Recommendation_Score=list(enumerate(Similarity_Score[Index_of_Movie]))\n",
        "Sorted_Similar_Movies=sorted(Recommendation_Score,key=lambda x:x[1],reverse=True)\n",
        "print('Top 10 Movies suggested for you : \\n')\n",
        "i=1\n",
        "for movie in Sorted_Similar_Movies:\n",
        "    index=movie[0]\n",
        "    title_from_index=df[df.Movie_ID==index]['Movie_Title'].values\n",
        "    if(i<11):\n",
        "     print(i,'.',title_from_index)\n",
        "     i+=1"
      ],
      "metadata": {
        "colab": {
          "base_uri": "https://localhost:8080/"
        },
        "id": "ZSr1fYpwCsyW",
        "outputId": "cbf8bbda-28bd-4425-e00e-1dea811fead8"
      },
      "execution_count": 84,
      "outputs": [
        {
          "output_type": "stream",
          "name": "stdout",
          "text": [
            "Enter your favourite Movie name : Avatar\n",
            "Top 10 Movies suggested for you : \n",
            "\n",
            "1 . ['Avatar']\n",
            "2 . ['Precious']\n",
            "3 . ['Mooz-lum']\n",
            "4 . ['Jumper']\n",
            "5 . ['Final Fantasy: The Spirits Within']\n",
            "6 . [\"Hell's Angels\"]\n",
            "7 . ['Bright Lights, Big City']\n",
            "8 . ['The Opposite Sex']\n",
            "9 . ['Goddess of Love']\n",
            "10 . ['Standard Operating Procedure']\n"
          ]
        }
      ]
    }
  ]
}